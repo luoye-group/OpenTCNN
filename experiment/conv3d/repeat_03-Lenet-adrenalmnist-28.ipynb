{
 "cells": [
  {
   "cell_type": "markdown",
   "metadata": {},
   "source": [
    "# Repeat Experiment \n",
    "## import packages"
   ]
  },
  {
   "cell_type": "code",
   "execution_count": 1,
   "metadata": {},
   "outputs": [],
   "source": [
    "import warnings\n",
    "\n",
    "warnings.filterwarnings(\"ignore\")"
   ]
  },
  {
   "cell_type": "code",
   "execution_count": 2,
   "metadata": {},
   "outputs": [],
   "source": [
    "from tcnn.utils.experiment.repeat import repeat_experiment"
   ]
  },
  {
   "cell_type": "code",
   "execution_count": 3,
   "metadata": {},
   "outputs": [],
   "source": [
    "from os.path import join\n",
    "from config.config import load_config28"
   ]
  },
  {
   "cell_type": "code",
   "execution_count": 4,
   "metadata": {},
   "outputs": [],
   "source": [
    "dataset_name = \"adrenalmnist3d\"\n",
    "config = load_config28(dataset_name)"
   ]
  },
  {
   "cell_type": "code",
   "execution_count": 5,
   "metadata": {},
   "outputs": [],
   "source": [
    "ORDER = config[\"order\"]\n",
    "SIZE = config[\"data\"][\"size\"]\n",
    "TASK = config[\"task\"]\n",
    "NUM_CLASSES = config[\"network\"][\"num_classes\"]\n",
    "EPOCHS = config[\"train\"][\"epochs\"]\n",
    "BATCH_SIZE = config[\"data\"][\"batch_size\"]\n",
    "INPUT_CHANNEL = config[\"network\"][\"input_channels\"]\n",
    "LINEAR_SIZE = config[\"network\"][\"linear_size\"]\n",
    "CRITERION = config[\"train\"][\"criterion\"]\n",
    "DEVICE = config[\"train\"][\"device\"]\n",
    "NUM_EXPERIMENTS = config[\"repeat\"][\"num_experiments\"]\n",
    "EPOCHS_PER_EXPERIMENT = config[\"repeat\"][\"epochs_per_experiemnt\"]\n",
    "experiment_name = (\n",
    "    f\"repeat-{ORDER}-{dataset_name}-{SIZE}-{NUM_EXPERIMENTS}-{EPOCHS_PER_EXPERIMENT}\"\n",
    ")"
   ]
  },
  {
   "cell_type": "code",
   "execution_count": 6,
   "metadata": {},
   "outputs": [],
   "source": [
    "checkpoint_save_dir = join(config[\"train\"][\"checkpoint_save_dir\"], experiment_name)\n",
    "log_save_dir = join(config[\"repeat\"][\"log_save_dir\"])"
   ]
  },
  {
   "cell_type": "markdown",
   "metadata": {},
   "source": [
    "## get dataset"
   ]
  },
  {
   "cell_type": "code",
   "execution_count": 7,
   "metadata": {},
   "outputs": [
    {
     "name": "stdout",
     "output_type": "stream",
     "text": [
      "Using downloaded and verified file: /home/limingbo/.medmnist/adrenalmnist3d.npz\n",
      "Using downloaded and verified file: /home/limingbo/.medmnist/adrenalmnist3d.npz\n"
     ]
    }
   ],
   "source": [
    "from data_load import get_dataset, get_reset_dataloader\n",
    "\n",
    "train_dataset, test_dataset = get_dataset(dataset_name, BATCH_SIZE, SIZE, TASK)"
   ]
  },
  {
   "cell_type": "markdown",
   "metadata": {},
   "source": [
    "## reset dataloader"
   ]
  },
  {
   "cell_type": "code",
   "execution_count": 8,
   "metadata": {},
   "outputs": [],
   "source": [
    "reset_dataloader = get_reset_dataloader(TASK)"
   ]
  },
  {
   "cell_type": "markdown",
   "metadata": {},
   "source": [
    "## import models"
   ]
  },
  {
   "cell_type": "code",
   "execution_count": 9,
   "metadata": {},
   "outputs": [
    {
     "name": "stdout",
     "output_type": "stream",
     "text": [
      "Loaded binary model\n"
     ]
    }
   ],
   "source": [
    "from tcnn.utils.experiment.model import get_optimizers_medmnist, get_schedulers_medmnist\n",
    "import lenet_models\n",
    "import lenet_models_binary\n",
    "\n",
    "if TASK == \"multiclass\":\n",
    "    model_dict = lenet_models.get_model_dict(INPUT_CHANNEL, NUM_CLASSES, LINEAR_SIZE)\n",
    "    print(\"Loaded multiclass model with {} classes\".format(NUM_CLASSES))\n",
    "elif TASK == \"binary\":\n",
    "    model_dict = lenet_models_binary.get_model_dict(INPUT_CHANNEL, LINEAR_SIZE)\n",
    "    print(\"Loaded binary model\")\n",
    "\n",
    "def_optimizer = get_optimizers_medmnist\n",
    "def_scheduler = get_schedulers_medmnist"
   ]
  },
  {
   "cell_type": "markdown",
   "metadata": {},
   "source": [
    "## define result dict"
   ]
  },
  {
   "cell_type": "code",
   "execution_count": 10,
   "metadata": {},
   "outputs": [],
   "source": [
    "import torch\n",
    "\n",
    "results = dict()"
   ]
  },
  {
   "cell_type": "markdown",
   "metadata": {},
   "source": [
    "## repeat experiment"
   ]
  },
  {
   "cell_type": "code",
   "execution_count": 11,
   "metadata": {},
   "outputs": [
    {
     "name": "stdout",
     "output_type": "stream",
     "text": [
      "Traing model:  tcnn1\n",
      "Running experiments on cuda\n",
      "Running 5 experiments for repeat-03-adrenalmnist3d-28-5-100-tcnn1, each with 100 epochs\n",
      "Running experiment 1/5\n",
      "Checkpoints will be saved in checkpoints/repeat-03-adrenalmnist3d-28-5-100/repeat-03-adrenalmnist3d-28-5-100-tcnn1/experiment_1\n",
      "Found latest checkpoint at checkpoints/repeat-03-adrenalmnist3d-28-5-100/repeat-03-adrenalmnist3d-28-5-100-tcnn1/experiment_1/checkpoint_99.pth\n",
      "Training on cuda and 1 GPUs:\n",
      "Device 0: NVIDIA GeForce RTX 4090\n",
      "Model parameters: 263141(0.25095MB)\n",
      "Loaded checkpoint from epoch 100 and continue training to 100\n"
     ]
    },
    {
     "name": "stderr",
     "output_type": "stream",
     "text": [
      "0it [00:00, ?it/s]"
     ]
    },
    {
     "name": "stdout",
     "output_type": "stream",
     "text": [
      "Training time: 0.01s and Average time per epoch: 0.00s\n"
     ]
    },
    {
     "name": "stderr",
     "output_type": "stream",
     "text": [
      "\n"
     ]
    },
    {
     "name": "stdout",
     "output_type": "stream",
     "text": [
      "Test Accuracy: 242/298 (81.20805%)\n",
      "\n",
      "Test AUC Score: 0.83457 Precision: 0.62264 Recall: 0.47826 F1: 0.54098\n",
      "Result for experiment 1/5: acc: 81.20805 \tauc: 0.83457\n",
      "recall: 0.47826 \tprecision: 0.62264 \tf1: 0.54098\n",
      "Running experiment 2/5\n",
      "Checkpoints will be saved in checkpoints/repeat-03-adrenalmnist3d-28-5-100/repeat-03-adrenalmnist3d-28-5-100-tcnn1/experiment_2\n",
      "Found latest checkpoint at checkpoints/repeat-03-adrenalmnist3d-28-5-100/repeat-03-adrenalmnist3d-28-5-100-tcnn1/experiment_2/checkpoint_99.pth\n",
      "Training on cuda and 1 GPUs:\n",
      "Device 0: NVIDIA GeForce RTX 4090\n",
      "Model parameters: 263141(0.25095MB)\n",
      "Loaded checkpoint from epoch 100 and continue training to 100\n"
     ]
    },
    {
     "name": "stderr",
     "output_type": "stream",
     "text": [
      "0it [00:00, ?it/s]\n"
     ]
    },
    {
     "name": "stdout",
     "output_type": "stream",
     "text": [
      "Training time: 0.00s and Average time per epoch: 0.00s\n",
      "Test Accuracy: 246/298 (82.55034%)\n",
      "\n",
      "Test AUC Score: 0.87064 Precision: 0.66038 Recall: 0.50725 F1: 0.57377\n",
      "Result for experiment 2/5: acc: 82.55034 \tauc: 0.87064\n",
      "recall: 0.50725 \tprecision: 0.66038 \tf1: 0.57377\n",
      "Running experiment 3/5\n",
      "Checkpoints will be saved in checkpoints/repeat-03-adrenalmnist3d-28-5-100/repeat-03-adrenalmnist3d-28-5-100-tcnn1/experiment_3\n",
      "Found latest checkpoint at checkpoints/repeat-03-adrenalmnist3d-28-5-100/repeat-03-adrenalmnist3d-28-5-100-tcnn1/experiment_3/checkpoint_99.pth\n",
      "Training on cuda and 1 GPUs:\n",
      "Device 0: NVIDIA GeForce RTX 4090\n",
      "Model parameters: 263141(0.25095MB)\n",
      "Loaded checkpoint from epoch 100 and continue training to 100\n"
     ]
    },
    {
     "name": "stderr",
     "output_type": "stream",
     "text": [
      "0it [00:00, ?it/s]\n"
     ]
    },
    {
     "name": "stdout",
     "output_type": "stream",
     "text": [
      "Training time: 0.00s and Average time per epoch: 0.00s\n",
      "Test Accuracy: 245/298 (82.21477%)\n",
      "\n",
      "Test AUC Score: 0.87349 Precision: 0.66667 Recall: 0.46377 F1: 0.54701\n",
      "Result for experiment 3/5: acc: 82.21477 \tauc: 0.87349\n",
      "recall: 0.46377 \tprecision: 0.66667 \tf1: 0.54701\n",
      "Running experiment 4/5\n",
      "Checkpoints will be saved in checkpoints/repeat-03-adrenalmnist3d-28-5-100/repeat-03-adrenalmnist3d-28-5-100-tcnn1/experiment_4\n",
      "Found latest checkpoint at checkpoints/repeat-03-adrenalmnist3d-28-5-100/repeat-03-adrenalmnist3d-28-5-100-tcnn1/experiment_4/checkpoint_99.pth\n",
      "Training on cuda and 1 GPUs:\n",
      "Device 0: NVIDIA GeForce RTX 4090\n",
      "Model parameters: 263141(0.25095MB)\n",
      "Loaded checkpoint from epoch 100 and continue training to 100\n"
     ]
    },
    {
     "name": "stderr",
     "output_type": "stream",
     "text": [
      "0it [00:00, ?it/s]"
     ]
    },
    {
     "name": "stdout",
     "output_type": "stream",
     "text": [
      "Training time: 0.00s and Average time per epoch: 0.00s\n"
     ]
    },
    {
     "name": "stderr",
     "output_type": "stream",
     "text": [
      "\n"
     ]
    },
    {
     "name": "stdout",
     "output_type": "stream",
     "text": [
      "Test Accuracy: 234/298 (78.52349%)\n",
      "\n",
      "Test AUC Score: 0.77014 Precision: 0.53623 Recall: 0.53623 F1: 0.53623\n",
      "Result for experiment 4/5: acc: 78.52349 \tauc: 0.77014\n",
      "recall: 0.53623 \tprecision: 0.53623 \tf1: 0.53623\n",
      "Running experiment 5/5\n",
      "Checkpoints will be saved in checkpoints/repeat-03-adrenalmnist3d-28-5-100/repeat-03-adrenalmnist3d-28-5-100-tcnn1/experiment_5\n",
      "Found latest checkpoint at checkpoints/repeat-03-adrenalmnist3d-28-5-100/repeat-03-adrenalmnist3d-28-5-100-tcnn1/experiment_5/checkpoint_99.pth\n",
      "Training on cuda and 1 GPUs:\n",
      "Device 0: NVIDIA GeForce RTX 4090\n",
      "Model parameters: 263141(0.25095MB)\n",
      "Loaded checkpoint from epoch 100 and continue training to 100\n"
     ]
    },
    {
     "name": "stderr",
     "output_type": "stream",
     "text": [
      "0it [00:00, ?it/s]\n"
     ]
    },
    {
     "name": "stdout",
     "output_type": "stream",
     "text": [
      "Training time: 0.00s and Average time per epoch: 0.00s\n",
      "Test Accuracy: 246/298 (82.55034%)\n",
      "\n",
      "Test AUC Score: 0.78438 Precision: 0.65455 Recall: 0.52174 F1: 0.58065\n",
      "Result for experiment 5/5: acc: 82.55034 \tauc: 0.78438\n",
      "recall: 0.52174 \tprecision: 0.65455 \tf1: 0.58065\n",
      "result 5 experiments for repeat-03-adrenalmnist3d-28-5-100-tcnn1, each with 100 epochs: Accuracy 81.40940 +/- 1.52454\n",
      "******************************tcnn1 done******************************\n",
      "Traing model:  tcnn2\n",
      "Running experiments on cuda\n",
      "Running 5 experiments for repeat-03-adrenalmnist3d-28-5-100-tcnn2, each with 100 epochs\n",
      "Running experiment 1/5\n",
      "Checkpoints will be saved in checkpoints/repeat-03-adrenalmnist3d-28-5-100/repeat-03-adrenalmnist3d-28-5-100-tcnn2/experiment_1\n",
      "Found latest checkpoint at checkpoints/repeat-03-adrenalmnist3d-28-5-100/repeat-03-adrenalmnist3d-28-5-100-tcnn2/experiment_1/checkpoint_99.pth\n",
      "Training on cuda and 1 GPUs:\n",
      "Device 0: NVIDIA GeForce RTX 4090\n",
      "Model parameters: 263141(0.25095MB)\n",
      "Loaded checkpoint from epoch 100 and continue training to 100\n"
     ]
    },
    {
     "name": "stderr",
     "output_type": "stream",
     "text": [
      "0it [00:00, ?it/s]"
     ]
    },
    {
     "name": "stdout",
     "output_type": "stream",
     "text": [
      "Training time: 0.01s and Average time per epoch: 0.00s\n"
     ]
    },
    {
     "name": "stderr",
     "output_type": "stream",
     "text": [
      "\n"
     ]
    },
    {
     "name": "stdout",
     "output_type": "stream",
     "text": [
      "Test Accuracy: 244/298 (81.87919%)\n",
      "\n",
      "Test AUC Score: 0.86627 Precision: 0.66667 Recall: 0.43478 F1: 0.52632\n",
      "Result for experiment 1/5: acc: 81.87919 \tauc: 0.86627\n",
      "recall: 0.43478 \tprecision: 0.66667 \tf1: 0.52632\n",
      "Running experiment 2/5\n",
      "Checkpoints will be saved in checkpoints/repeat-03-adrenalmnist3d-28-5-100/repeat-03-adrenalmnist3d-28-5-100-tcnn2/experiment_2\n",
      "Found latest checkpoint at checkpoints/repeat-03-adrenalmnist3d-28-5-100/repeat-03-adrenalmnist3d-28-5-100-tcnn2/experiment_2/checkpoint_99.pth\n",
      "Training on cuda and 1 GPUs:\n",
      "Device 0: NVIDIA GeForce RTX 4090\n",
      "Model parameters: 263141(0.25095MB)\n",
      "Loaded checkpoint from epoch 100 and continue training to 100\n"
     ]
    },
    {
     "name": "stderr",
     "output_type": "stream",
     "text": [
      "0it [00:00, ?it/s]"
     ]
    },
    {
     "name": "stdout",
     "output_type": "stream",
     "text": [
      "Training time: 0.00s and Average time per epoch: 0.00s\n"
     ]
    },
    {
     "name": "stderr",
     "output_type": "stream",
     "text": [
      "\n"
     ]
    },
    {
     "name": "stdout",
     "output_type": "stream",
     "text": [
      "Test Accuracy: 244/298 (81.87919%)\n",
      "\n",
      "Test AUC Score: 0.87393 Precision: 0.68293 Recall: 0.40580 F1: 0.50909\n",
      "Result for experiment 2/5: acc: 81.87919 \tauc: 0.87393\n",
      "recall: 0.40580 \tprecision: 0.68293 \tf1: 0.50909\n",
      "Running experiment 3/5\n",
      "Checkpoints will be saved in checkpoints/repeat-03-adrenalmnist3d-28-5-100/repeat-03-adrenalmnist3d-28-5-100-tcnn2/experiment_3\n",
      "Found latest checkpoint at checkpoints/repeat-03-adrenalmnist3d-28-5-100/repeat-03-adrenalmnist3d-28-5-100-tcnn2/experiment_3/checkpoint_99.pth\n",
      "Training on cuda and 1 GPUs:\n",
      "Device 0: NVIDIA GeForce RTX 4090\n",
      "Model parameters: 263141(0.25095MB)\n",
      "Loaded checkpoint from epoch 100 and continue training to 100\n"
     ]
    },
    {
     "name": "stderr",
     "output_type": "stream",
     "text": [
      "0it [00:00, ?it/s]\n"
     ]
    },
    {
     "name": "stdout",
     "output_type": "stream",
     "text": [
      "Training time: 0.00s and Average time per epoch: 0.00s\n",
      "Test Accuracy: 243/298 (81.54362%)\n",
      "\n",
      "Test AUC Score: 0.85349 Precision: 0.65217 Recall: 0.43478 F1: 0.52174\n",
      "Result for experiment 3/5: acc: 81.54362 \tauc: 0.85349\n",
      "recall: 0.43478 \tprecision: 0.65217 \tf1: 0.52174\n",
      "Running experiment 4/5\n",
      "Checkpoints will be saved in checkpoints/repeat-03-adrenalmnist3d-28-5-100/repeat-03-adrenalmnist3d-28-5-100-tcnn2/experiment_4\n",
      "Found latest checkpoint at checkpoints/repeat-03-adrenalmnist3d-28-5-100/repeat-03-adrenalmnist3d-28-5-100-tcnn2/experiment_4/checkpoint_99.pth\n",
      "Training on cuda and 1 GPUs:\n",
      "Device 0: NVIDIA GeForce RTX 4090\n",
      "Model parameters: 263141(0.25095MB)\n",
      "Loaded checkpoint from epoch 100 and continue training to 100\n"
     ]
    },
    {
     "name": "stderr",
     "output_type": "stream",
     "text": [
      "0it [00:00, ?it/s]"
     ]
    },
    {
     "name": "stdout",
     "output_type": "stream",
     "text": [
      "Training time: 0.00s and Average time per epoch: 0.00s\n"
     ]
    },
    {
     "name": "stderr",
     "output_type": "stream",
     "text": [
      "\n"
     ]
    },
    {
     "name": "stdout",
     "output_type": "stream",
     "text": [
      "Test Accuracy: 247/298 (82.88591%)\n",
      "\n",
      "Test AUC Score: 0.85634 Precision: 0.75000 Recall: 0.39130 F1: 0.51429\n",
      "Result for experiment 4/5: acc: 82.88591 \tauc: 0.85634\n",
      "recall: 0.39130 \tprecision: 0.75000 \tf1: 0.51429\n",
      "Running experiment 5/5\n",
      "Checkpoints will be saved in checkpoints/repeat-03-adrenalmnist3d-28-5-100/repeat-03-adrenalmnist3d-28-5-100-tcnn2/experiment_5\n",
      "Found latest checkpoint at checkpoints/repeat-03-adrenalmnist3d-28-5-100/repeat-03-adrenalmnist3d-28-5-100-tcnn2/experiment_5/checkpoint_99.pth\n",
      "Training on cuda and 1 GPUs:\n",
      "Device 0: NVIDIA GeForce RTX 4090\n",
      "Model parameters: 263141(0.25095MB)\n",
      "Loaded checkpoint from epoch 100 and continue training to 100\n"
     ]
    },
    {
     "name": "stderr",
     "output_type": "stream",
     "text": [
      "0it [00:00, ?it/s]"
     ]
    },
    {
     "name": "stdout",
     "output_type": "stream",
     "text": [
      "Training time: 0.00s and Average time per epoch: 0.00s\n"
     ]
    },
    {
     "name": "stderr",
     "output_type": "stream",
     "text": [
      "\n"
     ]
    },
    {
     "name": "stdout",
     "output_type": "stream",
     "text": [
      "Test Accuracy: 247/298 (82.88591%)\n",
      "\n",
      "Test AUC Score: 0.87513 Precision: 0.75000 Recall: 0.39130 F1: 0.51429\n",
      "Result for experiment 5/5: acc: 82.88591 \tauc: 0.87513\n",
      "recall: 0.39130 \tprecision: 0.75000 \tf1: 0.51429\n",
      "result 5 experiments for repeat-03-adrenalmnist3d-28-5-100-tcnn2, each with 100 epochs: Accuracy 82.21477 +/- 0.56152\n",
      "******************************tcnn2 done******************************\n",
      "Traing model:  tcnn3\n",
      "Running experiments on cuda\n",
      "Running 5 experiments for repeat-03-adrenalmnist3d-28-5-100-tcnn3, each with 100 epochs\n",
      "Running experiment 1/5\n",
      "Checkpoints will be saved in checkpoints/repeat-03-adrenalmnist3d-28-5-100/repeat-03-adrenalmnist3d-28-5-100-tcnn3/experiment_1\n",
      "Found latest checkpoint at checkpoints/repeat-03-adrenalmnist3d-28-5-100/repeat-03-adrenalmnist3d-28-5-100-tcnn3/experiment_1/checkpoint_99.pth\n",
      "Training on cuda and 1 GPUs:\n",
      "Device 0: NVIDIA GeForce RTX 4090\n",
      "Model parameters: 263141(0.25095MB)\n",
      "Loaded checkpoint from epoch 100 and continue training to 100\n"
     ]
    },
    {
     "name": "stderr",
     "output_type": "stream",
     "text": [
      "0it [00:00, ?it/s]"
     ]
    },
    {
     "name": "stdout",
     "output_type": "stream",
     "text": [
      "Training time: 0.01s and Average time per epoch: 0.00s\n"
     ]
    },
    {
     "name": "stderr",
     "output_type": "stream",
     "text": [
      "\n"
     ]
    },
    {
     "name": "stdout",
     "output_type": "stream",
     "text": [
      "Test Accuracy: 250/298 (83.89262%)\n",
      "\n",
      "Test AUC Score: 0.87343 Precision: 0.70588 Recall: 0.52174 F1: 0.60000\n",
      "Result for experiment 1/5: acc: 83.89262 \tauc: 0.87343\n",
      "recall: 0.52174 \tprecision: 0.70588 \tf1: 0.60000\n",
      "Running experiment 2/5\n",
      "Checkpoints will be saved in checkpoints/repeat-03-adrenalmnist3d-28-5-100/repeat-03-adrenalmnist3d-28-5-100-tcnn3/experiment_2\n",
      "Found latest checkpoint at checkpoints/repeat-03-adrenalmnist3d-28-5-100/repeat-03-adrenalmnist3d-28-5-100-tcnn3/experiment_2/checkpoint_99.pth\n",
      "Training on cuda and 1 GPUs:\n",
      "Device 0: NVIDIA GeForce RTX 4090\n",
      "Model parameters: 263141(0.25095MB)\n",
      "Loaded checkpoint from epoch 100 and continue training to 100\n"
     ]
    },
    {
     "name": "stderr",
     "output_type": "stream",
     "text": [
      "0it [00:00, ?it/s]\n"
     ]
    },
    {
     "name": "stdout",
     "output_type": "stream",
     "text": [
      "Training time: 0.00s and Average time per epoch: 0.00s\n",
      "Test Accuracy: 245/298 (82.21477%)\n",
      "\n",
      "Test AUC Score: 0.82020 Precision: 0.65385 Recall: 0.49275 F1: 0.56198\n",
      "Result for experiment 2/5: acc: 82.21477 \tauc: 0.82020\n",
      "recall: 0.49275 \tprecision: 0.65385 \tf1: 0.56198\n",
      "Running experiment 3/5\n",
      "Checkpoints will be saved in checkpoints/repeat-03-adrenalmnist3d-28-5-100/repeat-03-adrenalmnist3d-28-5-100-tcnn3/experiment_3\n",
      "Found latest checkpoint at checkpoints/repeat-03-adrenalmnist3d-28-5-100/repeat-03-adrenalmnist3d-28-5-100-tcnn3/experiment_3/checkpoint_99.pth\n",
      "Training on cuda and 1 GPUs:\n",
      "Device 0: NVIDIA GeForce RTX 4090\n",
      "Model parameters: 263141(0.25095MB)\n",
      "Loaded checkpoint from epoch 100 and continue training to 100\n"
     ]
    },
    {
     "name": "stderr",
     "output_type": "stream",
     "text": [
      "0it [00:00, ?it/s]\n"
     ]
    },
    {
     "name": "stdout",
     "output_type": "stream",
     "text": [
      "Training time: 0.00s and Average time per epoch: 0.00s\n",
      "Test Accuracy: 246/298 (82.55034%)\n",
      "\n",
      "Test AUC Score: 0.86222 Precision: 0.66667 Recall: 0.49275 F1: 0.56667\n",
      "Result for experiment 3/5: acc: 82.55034 \tauc: 0.86222\n",
      "recall: 0.49275 \tprecision: 0.66667 \tf1: 0.56667\n",
      "Running experiment 4/5\n",
      "Checkpoints will be saved in checkpoints/repeat-03-adrenalmnist3d-28-5-100/repeat-03-adrenalmnist3d-28-5-100-tcnn3/experiment_4\n",
      "Found latest checkpoint at checkpoints/repeat-03-adrenalmnist3d-28-5-100/repeat-03-adrenalmnist3d-28-5-100-tcnn3/experiment_4/checkpoint_99.pth\n",
      "Training on cuda and 1 GPUs:\n",
      "Device 0: NVIDIA GeForce RTX 4090\n",
      "Model parameters: 263141(0.25095MB)\n",
      "Loaded checkpoint from epoch 100 and continue training to 100\n"
     ]
    },
    {
     "name": "stderr",
     "output_type": "stream",
     "text": [
      "0it [00:00, ?it/s]\n"
     ]
    },
    {
     "name": "stdout",
     "output_type": "stream",
     "text": [
      "Training time: 0.00s and Average time per epoch: 0.00s\n",
      "Test Accuracy: 246/298 (82.55034%)\n",
      "\n",
      "Test AUC Score: 0.86089 Precision: 0.67347 Recall: 0.47826 F1: 0.55932\n",
      "Result for experiment 4/5: acc: 82.55034 \tauc: 0.86089\n",
      "recall: 0.47826 \tprecision: 0.67347 \tf1: 0.55932\n",
      "Running experiment 5/5\n",
      "Checkpoints will be saved in checkpoints/repeat-03-adrenalmnist3d-28-5-100/repeat-03-adrenalmnist3d-28-5-100-tcnn3/experiment_5\n",
      "Found latest checkpoint at checkpoints/repeat-03-adrenalmnist3d-28-5-100/repeat-03-adrenalmnist3d-28-5-100-tcnn3/experiment_5/checkpoint_99.pth\n",
      "Training on cuda and 1 GPUs:\n",
      "Device 0: NVIDIA GeForce RTX 4090\n",
      "Model parameters: 263141(0.25095MB)\n",
      "Loaded checkpoint from epoch 100 and continue training to 100\n"
     ]
    },
    {
     "name": "stderr",
     "output_type": "stream",
     "text": [
      "0it [00:00, ?it/s]"
     ]
    },
    {
     "name": "stdout",
     "output_type": "stream",
     "text": [
      "Training time: 0.00s and Average time per epoch: 0.00s\n"
     ]
    },
    {
     "name": "stderr",
     "output_type": "stream",
     "text": [
      "\n"
     ]
    },
    {
     "name": "stdout",
     "output_type": "stream",
     "text": [
      "Test Accuracy: 249/298 (83.55705%)\n",
      "\n",
      "Test AUC Score: 0.88710 Precision: 0.70000 Recall: 0.50725 F1: 0.58824\n",
      "Result for experiment 5/5: acc: 83.55705 \tauc: 0.88710\n",
      "recall: 0.50725 \tprecision: 0.70000 \tf1: 0.58824\n",
      "result 5 experiments for repeat-03-adrenalmnist3d-28-5-100-tcnn3, each with 100 epochs: Accuracy 82.95302 +/- 0.65070\n",
      "******************************tcnn3 done******************************\n",
      "Traing model:  ctcnn1\n",
      "Running experiments on cuda\n",
      "Running 5 experiments for repeat-03-adrenalmnist3d-28-5-100-ctcnn1, each with 100 epochs\n",
      "Running experiment 1/5\n",
      "Checkpoints will be saved in checkpoints/repeat-03-adrenalmnist3d-28-5-100/repeat-03-adrenalmnist3d-28-5-100-ctcnn1/experiment_1\n",
      "Found latest checkpoint at checkpoints/repeat-03-adrenalmnist3d-28-5-100/repeat-03-adrenalmnist3d-28-5-100-ctcnn1/experiment_1/checkpoint_40.pth\n",
      "Training on cuda and 1 GPUs:\n",
      "Device 0: NVIDIA GeForce RTX 4090\n",
      "Model parameters: 263243(0.25105MB)\n",
      "Loaded checkpoint from epoch 41 and continue training to 100\n"
     ]
    },
    {
     "name": "stderr",
     "output_type": "stream",
     "text": [
      "  2%|▏         | 1/59 [00:03<03:23,  3.51s/it]"
     ]
    },
    {
     "name": "stdout",
     "output_type": "stream",
     "text": [
      "saved best checkpoint at epoch 41 to checkpoints/repeat-03-adrenalmnist3d-28-5-100/repeat-03-adrenalmnist3d-28-5-100-ctcnn1/experiment_1\n",
      "Saved checkpoint at epoch 41 to checkpoints/repeat-03-adrenalmnist3d-28-5-100/repeat-03-adrenalmnist3d-28-5-100-ctcnn1/experiment_1\n",
      "Removed checkpoint at epoch 40 from checkpoints/repeat-03-adrenalmnist3d-28-5-100/repeat-03-adrenalmnist3d-28-5-100-ctcnn1/experiment_1\n"
     ]
    },
    {
     "name": "stderr",
     "output_type": "stream",
     "text": [
      "  3%|▎         | 2/59 [00:07<03:19,  3.51s/it]"
     ]
    },
    {
     "name": "stdout",
     "output_type": "stream",
     "text": [
      "saved best checkpoint at epoch 42 to checkpoints/repeat-03-adrenalmnist3d-28-5-100/repeat-03-adrenalmnist3d-28-5-100-ctcnn1/experiment_1\n",
      "Saved checkpoint at epoch 42 to checkpoints/repeat-03-adrenalmnist3d-28-5-100/repeat-03-adrenalmnist3d-28-5-100-ctcnn1/experiment_1\n",
      "Removed checkpoint at epoch 41 from checkpoints/repeat-03-adrenalmnist3d-28-5-100/repeat-03-adrenalmnist3d-28-5-100-ctcnn1/experiment_1\n"
     ]
    },
    {
     "name": "stderr",
     "output_type": "stream",
     "text": [
      "  5%|▌         | 3/59 [00:10<03:16,  3.50s/it]"
     ]
    },
    {
     "name": "stdout",
     "output_type": "stream",
     "text": [
      "Saved checkpoint at epoch 43 to checkpoints/repeat-03-adrenalmnist3d-28-5-100/repeat-03-adrenalmnist3d-28-5-100-ctcnn1/experiment_1\n",
      "Removed checkpoint at epoch 42 from checkpoints/repeat-03-adrenalmnist3d-28-5-100/repeat-03-adrenalmnist3d-28-5-100-ctcnn1/experiment_1\n"
     ]
    },
    {
     "name": "stderr",
     "output_type": "stream",
     "text": [
      "  7%|▋         | 4/59 [00:14<03:12,  3.50s/it]"
     ]
    },
    {
     "name": "stdout",
     "output_type": "stream",
     "text": [
      "Saved checkpoint at epoch 44 to checkpoints/repeat-03-adrenalmnist3d-28-5-100/repeat-03-adrenalmnist3d-28-5-100-ctcnn1/experiment_1\n",
      "Removed checkpoint at epoch 43 from checkpoints/repeat-03-adrenalmnist3d-28-5-100/repeat-03-adrenalmnist3d-28-5-100-ctcnn1/experiment_1\n"
     ]
    },
    {
     "name": "stderr",
     "output_type": "stream",
     "text": [
      "  8%|▊         | 5/59 [00:17<03:08,  3.50s/it]"
     ]
    },
    {
     "name": "stdout",
     "output_type": "stream",
     "text": [
      "Saved checkpoint at epoch 45 to checkpoints/repeat-03-adrenalmnist3d-28-5-100/repeat-03-adrenalmnist3d-28-5-100-ctcnn1/experiment_1\n",
      "Removed checkpoint at epoch 44 from checkpoints/repeat-03-adrenalmnist3d-28-5-100/repeat-03-adrenalmnist3d-28-5-100-ctcnn1/experiment_1\n"
     ]
    },
    {
     "name": "stderr",
     "output_type": "stream",
     "text": [
      " 10%|█         | 6/59 [00:20<03:05,  3.50s/it]"
     ]
    },
    {
     "name": "stdout",
     "output_type": "stream",
     "text": [
      "Saved checkpoint at epoch 46 to checkpoints/repeat-03-adrenalmnist3d-28-5-100/repeat-03-adrenalmnist3d-28-5-100-ctcnn1/experiment_1\n",
      "Removed checkpoint at epoch 45 from checkpoints/repeat-03-adrenalmnist3d-28-5-100/repeat-03-adrenalmnist3d-28-5-100-ctcnn1/experiment_1\n"
     ]
    },
    {
     "name": "stderr",
     "output_type": "stream",
     "text": [
      " 12%|█▏        | 7/59 [00:24<03:01,  3.50s/it]"
     ]
    },
    {
     "name": "stdout",
     "output_type": "stream",
     "text": [
      "Saved checkpoint at epoch 47 to checkpoints/repeat-03-adrenalmnist3d-28-5-100/repeat-03-adrenalmnist3d-28-5-100-ctcnn1/experiment_1\n",
      "Removed checkpoint at epoch 46 from checkpoints/repeat-03-adrenalmnist3d-28-5-100/repeat-03-adrenalmnist3d-28-5-100-ctcnn1/experiment_1\n"
     ]
    },
    {
     "name": "stderr",
     "output_type": "stream",
     "text": [
      " 14%|█▎        | 8/59 [00:27<02:58,  3.49s/it]"
     ]
    },
    {
     "name": "stdout",
     "output_type": "stream",
     "text": [
      "Saved checkpoint at epoch 48 to checkpoints/repeat-03-adrenalmnist3d-28-5-100/repeat-03-adrenalmnist3d-28-5-100-ctcnn1/experiment_1\n",
      "Removed checkpoint at epoch 47 from checkpoints/repeat-03-adrenalmnist3d-28-5-100/repeat-03-adrenalmnist3d-28-5-100-ctcnn1/experiment_1\n"
     ]
    },
    {
     "name": "stderr",
     "output_type": "stream",
     "text": [
      " 15%|█▌        | 9/59 [00:31<02:54,  3.49s/it]"
     ]
    },
    {
     "name": "stdout",
     "output_type": "stream",
     "text": [
      "Saved checkpoint at epoch 49 to checkpoints/repeat-03-adrenalmnist3d-28-5-100/repeat-03-adrenalmnist3d-28-5-100-ctcnn1/experiment_1\n",
      "Removed checkpoint at epoch 48 from checkpoints/repeat-03-adrenalmnist3d-28-5-100/repeat-03-adrenalmnist3d-28-5-100-ctcnn1/experiment_1\n"
     ]
    },
    {
     "name": "stderr",
     "output_type": "stream",
     "text": [
      " 17%|█▋        | 10/59 [00:34<02:51,  3.49s/it]"
     ]
    },
    {
     "name": "stdout",
     "output_type": "stream",
     "text": [
      "Saved checkpoint at epoch 50 to checkpoints/repeat-03-adrenalmnist3d-28-5-100/repeat-03-adrenalmnist3d-28-5-100-ctcnn1/experiment_1\n",
      "Removed checkpoint at epoch 49 from checkpoints/repeat-03-adrenalmnist3d-28-5-100/repeat-03-adrenalmnist3d-28-5-100-ctcnn1/experiment_1\n"
     ]
    },
    {
     "name": "stderr",
     "output_type": "stream",
     "text": [
      " 19%|█▊        | 11/59 [00:38<02:47,  3.49s/it]"
     ]
    },
    {
     "name": "stdout",
     "output_type": "stream",
     "text": [
      "Saved checkpoint at epoch 51 to checkpoints/repeat-03-adrenalmnist3d-28-5-100/repeat-03-adrenalmnist3d-28-5-100-ctcnn1/experiment_1\n",
      "Removed checkpoint at epoch 50 from checkpoints/repeat-03-adrenalmnist3d-28-5-100/repeat-03-adrenalmnist3d-28-5-100-ctcnn1/experiment_1\n"
     ]
    },
    {
     "name": "stderr",
     "output_type": "stream",
     "text": [
      " 20%|██        | 12/59 [00:41<02:44,  3.49s/it]"
     ]
    },
    {
     "name": "stdout",
     "output_type": "stream",
     "text": [
      "Saved checkpoint at epoch 52 to checkpoints/repeat-03-adrenalmnist3d-28-5-100/repeat-03-adrenalmnist3d-28-5-100-ctcnn1/experiment_1\n",
      "Removed checkpoint at epoch 51 from checkpoints/repeat-03-adrenalmnist3d-28-5-100/repeat-03-adrenalmnist3d-28-5-100-ctcnn1/experiment_1\n"
     ]
    },
    {
     "name": "stderr",
     "output_type": "stream",
     "text": [
      " 22%|██▏       | 13/59 [00:45<02:40,  3.49s/it]"
     ]
    },
    {
     "name": "stdout",
     "output_type": "stream",
     "text": [
      "Saved checkpoint at epoch 53 to checkpoints/repeat-03-adrenalmnist3d-28-5-100/repeat-03-adrenalmnist3d-28-5-100-ctcnn1/experiment_1\n",
      "Removed checkpoint at epoch 52 from checkpoints/repeat-03-adrenalmnist3d-28-5-100/repeat-03-adrenalmnist3d-28-5-100-ctcnn1/experiment_1\n"
     ]
    },
    {
     "name": "stderr",
     "output_type": "stream",
     "text": [
      " 24%|██▎       | 14/59 [00:48<02:37,  3.49s/it]"
     ]
    },
    {
     "name": "stdout",
     "output_type": "stream",
     "text": [
      "Saved checkpoint at epoch 54 to checkpoints/repeat-03-adrenalmnist3d-28-5-100/repeat-03-adrenalmnist3d-28-5-100-ctcnn1/experiment_1\n",
      "Removed checkpoint at epoch 53 from checkpoints/repeat-03-adrenalmnist3d-28-5-100/repeat-03-adrenalmnist3d-28-5-100-ctcnn1/experiment_1\n"
     ]
    },
    {
     "name": "stderr",
     "output_type": "stream",
     "text": [
      " 25%|██▌       | 15/59 [00:52<02:33,  3.49s/it]"
     ]
    },
    {
     "name": "stdout",
     "output_type": "stream",
     "text": [
      "Saved checkpoint at epoch 55 to checkpoints/repeat-03-adrenalmnist3d-28-5-100/repeat-03-adrenalmnist3d-28-5-100-ctcnn1/experiment_1\n",
      "Removed checkpoint at epoch 54 from checkpoints/repeat-03-adrenalmnist3d-28-5-100/repeat-03-adrenalmnist3d-28-5-100-ctcnn1/experiment_1\n"
     ]
    },
    {
     "name": "stderr",
     "output_type": "stream",
     "text": [
      " 27%|██▋       | 16/59 [00:55<02:30,  3.49s/it]"
     ]
    },
    {
     "name": "stdout",
     "output_type": "stream",
     "text": [
      "Saved checkpoint at epoch 56 to checkpoints/repeat-03-adrenalmnist3d-28-5-100/repeat-03-adrenalmnist3d-28-5-100-ctcnn1/experiment_1\n",
      "Removed checkpoint at epoch 55 from checkpoints/repeat-03-adrenalmnist3d-28-5-100/repeat-03-adrenalmnist3d-28-5-100-ctcnn1/experiment_1\n"
     ]
    },
    {
     "name": "stderr",
     "output_type": "stream",
     "text": [
      " 29%|██▉       | 17/59 [00:59<02:26,  3.49s/it]"
     ]
    },
    {
     "name": "stdout",
     "output_type": "stream",
     "text": [
      "Saved checkpoint at epoch 57 to checkpoints/repeat-03-adrenalmnist3d-28-5-100/repeat-03-adrenalmnist3d-28-5-100-ctcnn1/experiment_1\n",
      "Removed checkpoint at epoch 56 from checkpoints/repeat-03-adrenalmnist3d-28-5-100/repeat-03-adrenalmnist3d-28-5-100-ctcnn1/experiment_1\n"
     ]
    },
    {
     "name": "stderr",
     "output_type": "stream",
     "text": [
      " 31%|███       | 18/59 [01:02<02:23,  3.49s/it]"
     ]
    },
    {
     "name": "stdout",
     "output_type": "stream",
     "text": [
      "Saved checkpoint at epoch 58 to checkpoints/repeat-03-adrenalmnist3d-28-5-100/repeat-03-adrenalmnist3d-28-5-100-ctcnn1/experiment_1\n",
      "Removed checkpoint at epoch 57 from checkpoints/repeat-03-adrenalmnist3d-28-5-100/repeat-03-adrenalmnist3d-28-5-100-ctcnn1/experiment_1\n"
     ]
    },
    {
     "name": "stderr",
     "output_type": "stream",
     "text": [
      " 32%|███▏      | 19/59 [01:06<02:19,  3.49s/it]"
     ]
    },
    {
     "name": "stdout",
     "output_type": "stream",
     "text": [
      "Saved checkpoint at epoch 59 to checkpoints/repeat-03-adrenalmnist3d-28-5-100/repeat-03-adrenalmnist3d-28-5-100-ctcnn1/experiment_1\n",
      "Removed checkpoint at epoch 58 from checkpoints/repeat-03-adrenalmnist3d-28-5-100/repeat-03-adrenalmnist3d-28-5-100-ctcnn1/experiment_1\n"
     ]
    },
    {
     "name": "stderr",
     "output_type": "stream",
     "text": [
      " 34%|███▍      | 20/59 [01:09<02:16,  3.49s/it]"
     ]
    },
    {
     "name": "stdout",
     "output_type": "stream",
     "text": [
      "Saved checkpoint at epoch 60 to checkpoints/repeat-03-adrenalmnist3d-28-5-100/repeat-03-adrenalmnist3d-28-5-100-ctcnn1/experiment_1\n",
      "Removed checkpoint at epoch 59 from checkpoints/repeat-03-adrenalmnist3d-28-5-100/repeat-03-adrenalmnist3d-28-5-100-ctcnn1/experiment_1\n"
     ]
    },
    {
     "name": "stderr",
     "output_type": "stream",
     "text": [
      " 36%|███▌      | 21/59 [01:13<02:12,  3.49s/it]"
     ]
    },
    {
     "name": "stdout",
     "output_type": "stream",
     "text": [
      "Saved checkpoint at epoch 61 to checkpoints/repeat-03-adrenalmnist3d-28-5-100/repeat-03-adrenalmnist3d-28-5-100-ctcnn1/experiment_1\n",
      "Removed checkpoint at epoch 60 from checkpoints/repeat-03-adrenalmnist3d-28-5-100/repeat-03-adrenalmnist3d-28-5-100-ctcnn1/experiment_1\n"
     ]
    },
    {
     "name": "stderr",
     "output_type": "stream",
     "text": [
      " 37%|███▋      | 22/59 [01:16<02:09,  3.49s/it]"
     ]
    },
    {
     "name": "stdout",
     "output_type": "stream",
     "text": [
      "Saved checkpoint at epoch 62 to checkpoints/repeat-03-adrenalmnist3d-28-5-100/repeat-03-adrenalmnist3d-28-5-100-ctcnn1/experiment_1\n",
      "Removed checkpoint at epoch 61 from checkpoints/repeat-03-adrenalmnist3d-28-5-100/repeat-03-adrenalmnist3d-28-5-100-ctcnn1/experiment_1\n"
     ]
    },
    {
     "name": "stderr",
     "output_type": "stream",
     "text": [
      " 39%|███▉      | 23/59 [01:20<02:05,  3.49s/it]"
     ]
    },
    {
     "name": "stdout",
     "output_type": "stream",
     "text": [
      "Saved checkpoint at epoch 63 to checkpoints/repeat-03-adrenalmnist3d-28-5-100/repeat-03-adrenalmnist3d-28-5-100-ctcnn1/experiment_1\n",
      "Removed checkpoint at epoch 62 from checkpoints/repeat-03-adrenalmnist3d-28-5-100/repeat-03-adrenalmnist3d-28-5-100-ctcnn1/experiment_1\n"
     ]
    },
    {
     "name": "stderr",
     "output_type": "stream",
     "text": [
      " 41%|████      | 24/59 [01:23<02:02,  3.49s/it]"
     ]
    },
    {
     "name": "stdout",
     "output_type": "stream",
     "text": [
      "Saved checkpoint at epoch 64 to checkpoints/repeat-03-adrenalmnist3d-28-5-100/repeat-03-adrenalmnist3d-28-5-100-ctcnn1/experiment_1\n",
      "Removed checkpoint at epoch 63 from checkpoints/repeat-03-adrenalmnist3d-28-5-100/repeat-03-adrenalmnist3d-28-5-100-ctcnn1/experiment_1\n"
     ]
    },
    {
     "name": "stderr",
     "output_type": "stream",
     "text": [
      " 42%|████▏     | 25/59 [01:27<01:58,  3.49s/it]"
     ]
    },
    {
     "name": "stdout",
     "output_type": "stream",
     "text": [
      "Saved checkpoint at epoch 65 to checkpoints/repeat-03-adrenalmnist3d-28-5-100/repeat-03-adrenalmnist3d-28-5-100-ctcnn1/experiment_1\n",
      "Removed checkpoint at epoch 64 from checkpoints/repeat-03-adrenalmnist3d-28-5-100/repeat-03-adrenalmnist3d-28-5-100-ctcnn1/experiment_1\n"
     ]
    },
    {
     "name": "stderr",
     "output_type": "stream",
     "text": [
      " 44%|████▍     | 26/59 [01:30<01:55,  3.49s/it]"
     ]
    },
    {
     "name": "stdout",
     "output_type": "stream",
     "text": [
      "Saved checkpoint at epoch 66 to checkpoints/repeat-03-adrenalmnist3d-28-5-100/repeat-03-adrenalmnist3d-28-5-100-ctcnn1/experiment_1\n",
      "Removed checkpoint at epoch 65 from checkpoints/repeat-03-adrenalmnist3d-28-5-100/repeat-03-adrenalmnist3d-28-5-100-ctcnn1/experiment_1\n"
     ]
    },
    {
     "name": "stderr",
     "output_type": "stream",
     "text": [
      " 46%|████▌     | 27/59 [01:34<01:51,  3.49s/it]"
     ]
    },
    {
     "name": "stdout",
     "output_type": "stream",
     "text": [
      "Saved checkpoint at epoch 67 to checkpoints/repeat-03-adrenalmnist3d-28-5-100/repeat-03-adrenalmnist3d-28-5-100-ctcnn1/experiment_1\n",
      "Removed checkpoint at epoch 66 from checkpoints/repeat-03-adrenalmnist3d-28-5-100/repeat-03-adrenalmnist3d-28-5-100-ctcnn1/experiment_1\n"
     ]
    },
    {
     "name": "stderr",
     "output_type": "stream",
     "text": [
      " 47%|████▋     | 28/59 [01:37<01:48,  3.50s/it]"
     ]
    },
    {
     "name": "stdout",
     "output_type": "stream",
     "text": [
      "Saved checkpoint at epoch 68 to checkpoints/repeat-03-adrenalmnist3d-28-5-100/repeat-03-adrenalmnist3d-28-5-100-ctcnn1/experiment_1\n",
      "Removed checkpoint at epoch 67 from checkpoints/repeat-03-adrenalmnist3d-28-5-100/repeat-03-adrenalmnist3d-28-5-100-ctcnn1/experiment_1\n"
     ]
    },
    {
     "name": "stderr",
     "output_type": "stream",
     "text": [
      " 49%|████▉     | 29/59 [01:41<01:44,  3.50s/it]"
     ]
    },
    {
     "name": "stdout",
     "output_type": "stream",
     "text": [
      "Saved checkpoint at epoch 69 to checkpoints/repeat-03-adrenalmnist3d-28-5-100/repeat-03-adrenalmnist3d-28-5-100-ctcnn1/experiment_1\n",
      "Removed checkpoint at epoch 68 from checkpoints/repeat-03-adrenalmnist3d-28-5-100/repeat-03-adrenalmnist3d-28-5-100-ctcnn1/experiment_1\n"
     ]
    },
    {
     "name": "stderr",
     "output_type": "stream",
     "text": [
      " 51%|█████     | 30/59 [01:44<01:41,  3.50s/it]"
     ]
    },
    {
     "name": "stdout",
     "output_type": "stream",
     "text": [
      "Saved checkpoint at epoch 70 to checkpoints/repeat-03-adrenalmnist3d-28-5-100/repeat-03-adrenalmnist3d-28-5-100-ctcnn1/experiment_1\n",
      "Removed checkpoint at epoch 69 from checkpoints/repeat-03-adrenalmnist3d-28-5-100/repeat-03-adrenalmnist3d-28-5-100-ctcnn1/experiment_1\n"
     ]
    },
    {
     "name": "stderr",
     "output_type": "stream",
     "text": [
      " 53%|█████▎    | 31/59 [01:48<01:37,  3.50s/it]"
     ]
    },
    {
     "name": "stdout",
     "output_type": "stream",
     "text": [
      "Saved checkpoint at epoch 71 to checkpoints/repeat-03-adrenalmnist3d-28-5-100/repeat-03-adrenalmnist3d-28-5-100-ctcnn1/experiment_1\n",
      "Removed checkpoint at epoch 70 from checkpoints/repeat-03-adrenalmnist3d-28-5-100/repeat-03-adrenalmnist3d-28-5-100-ctcnn1/experiment_1\n"
     ]
    },
    {
     "name": "stderr",
     "output_type": "stream",
     "text": [
      " 54%|█████▍    | 32/59 [01:51<01:34,  3.50s/it]"
     ]
    },
    {
     "name": "stdout",
     "output_type": "stream",
     "text": [
      "Saved checkpoint at epoch 72 to checkpoints/repeat-03-adrenalmnist3d-28-5-100/repeat-03-adrenalmnist3d-28-5-100-ctcnn1/experiment_1\n",
      "Removed checkpoint at epoch 71 from checkpoints/repeat-03-adrenalmnist3d-28-5-100/repeat-03-adrenalmnist3d-28-5-100-ctcnn1/experiment_1\n"
     ]
    },
    {
     "name": "stderr",
     "output_type": "stream",
     "text": [
      " 56%|█████▌    | 33/59 [01:55<01:30,  3.50s/it]"
     ]
    },
    {
     "name": "stdout",
     "output_type": "stream",
     "text": [
      "Saved checkpoint at epoch 73 to checkpoints/repeat-03-adrenalmnist3d-28-5-100/repeat-03-adrenalmnist3d-28-5-100-ctcnn1/experiment_1\n",
      "Removed checkpoint at epoch 72 from checkpoints/repeat-03-adrenalmnist3d-28-5-100/repeat-03-adrenalmnist3d-28-5-100-ctcnn1/experiment_1\n"
     ]
    },
    {
     "name": "stderr",
     "output_type": "stream",
     "text": [
      " 58%|█████▊    | 34/59 [01:58<01:27,  3.50s/it]"
     ]
    },
    {
     "name": "stdout",
     "output_type": "stream",
     "text": [
      "Saved checkpoint at epoch 74 to checkpoints/repeat-03-adrenalmnist3d-28-5-100/repeat-03-adrenalmnist3d-28-5-100-ctcnn1/experiment_1\n",
      "Removed checkpoint at epoch 73 from checkpoints/repeat-03-adrenalmnist3d-28-5-100/repeat-03-adrenalmnist3d-28-5-100-ctcnn1/experiment_1\n"
     ]
    },
    {
     "name": "stderr",
     "output_type": "stream",
     "text": [
      " 59%|█████▉    | 35/59 [02:02<01:23,  3.50s/it]"
     ]
    },
    {
     "name": "stdout",
     "output_type": "stream",
     "text": [
      "Saved checkpoint at epoch 75 to checkpoints/repeat-03-adrenalmnist3d-28-5-100/repeat-03-adrenalmnist3d-28-5-100-ctcnn1/experiment_1\n",
      "Removed checkpoint at epoch 74 from checkpoints/repeat-03-adrenalmnist3d-28-5-100/repeat-03-adrenalmnist3d-28-5-100-ctcnn1/experiment_1\n"
     ]
    },
    {
     "name": "stderr",
     "output_type": "stream",
     "text": [
      " 61%|██████    | 36/59 [02:05<01:20,  3.50s/it]"
     ]
    },
    {
     "name": "stdout",
     "output_type": "stream",
     "text": [
      "Saved checkpoint at epoch 76 to checkpoints/repeat-03-adrenalmnist3d-28-5-100/repeat-03-adrenalmnist3d-28-5-100-ctcnn1/experiment_1\n",
      "Removed checkpoint at epoch 75 from checkpoints/repeat-03-adrenalmnist3d-28-5-100/repeat-03-adrenalmnist3d-28-5-100-ctcnn1/experiment_1\n"
     ]
    },
    {
     "name": "stderr",
     "output_type": "stream",
     "text": [
      " 63%|██████▎   | 37/59 [02:09<01:16,  3.50s/it]"
     ]
    },
    {
     "name": "stdout",
     "output_type": "stream",
     "text": [
      "Saved checkpoint at epoch 77 to checkpoints/repeat-03-adrenalmnist3d-28-5-100/repeat-03-adrenalmnist3d-28-5-100-ctcnn1/experiment_1\n",
      "Removed checkpoint at epoch 76 from checkpoints/repeat-03-adrenalmnist3d-28-5-100/repeat-03-adrenalmnist3d-28-5-100-ctcnn1/experiment_1\n"
     ]
    },
    {
     "name": "stderr",
     "output_type": "stream",
     "text": [
      " 64%|██████▍   | 38/59 [02:12<01:13,  3.50s/it]"
     ]
    },
    {
     "name": "stdout",
     "output_type": "stream",
     "text": [
      "Saved checkpoint at epoch 78 to checkpoints/repeat-03-adrenalmnist3d-28-5-100/repeat-03-adrenalmnist3d-28-5-100-ctcnn1/experiment_1\n",
      "Removed checkpoint at epoch 77 from checkpoints/repeat-03-adrenalmnist3d-28-5-100/repeat-03-adrenalmnist3d-28-5-100-ctcnn1/experiment_1\n"
     ]
    },
    {
     "name": "stderr",
     "output_type": "stream",
     "text": [
      " 66%|██████▌   | 39/59 [02:16<01:09,  3.50s/it]"
     ]
    },
    {
     "name": "stdout",
     "output_type": "stream",
     "text": [
      "Saved checkpoint at epoch 79 to checkpoints/repeat-03-adrenalmnist3d-28-5-100/repeat-03-adrenalmnist3d-28-5-100-ctcnn1/experiment_1\n",
      "Removed checkpoint at epoch 78 from checkpoints/repeat-03-adrenalmnist3d-28-5-100/repeat-03-adrenalmnist3d-28-5-100-ctcnn1/experiment_1\n"
     ]
    },
    {
     "name": "stderr",
     "output_type": "stream",
     "text": [
      " 68%|██████▊   | 40/59 [02:19<01:06,  3.50s/it]"
     ]
    },
    {
     "name": "stdout",
     "output_type": "stream",
     "text": [
      "Saved checkpoint at epoch 80 to checkpoints/repeat-03-adrenalmnist3d-28-5-100/repeat-03-adrenalmnist3d-28-5-100-ctcnn1/experiment_1\n",
      "Removed checkpoint at epoch 79 from checkpoints/repeat-03-adrenalmnist3d-28-5-100/repeat-03-adrenalmnist3d-28-5-100-ctcnn1/experiment_1\n"
     ]
    },
    {
     "name": "stderr",
     "output_type": "stream",
     "text": [
      " 69%|██████▉   | 41/59 [02:23<01:02,  3.50s/it]"
     ]
    },
    {
     "name": "stdout",
     "output_type": "stream",
     "text": [
      "Saved checkpoint at epoch 81 to checkpoints/repeat-03-adrenalmnist3d-28-5-100/repeat-03-adrenalmnist3d-28-5-100-ctcnn1/experiment_1\n",
      "Removed checkpoint at epoch 80 from checkpoints/repeat-03-adrenalmnist3d-28-5-100/repeat-03-adrenalmnist3d-28-5-100-ctcnn1/experiment_1\n"
     ]
    },
    {
     "name": "stderr",
     "output_type": "stream",
     "text": [
      " 71%|███████   | 42/59 [02:26<00:59,  3.50s/it]"
     ]
    },
    {
     "name": "stdout",
     "output_type": "stream",
     "text": [
      "Saved checkpoint at epoch 82 to checkpoints/repeat-03-adrenalmnist3d-28-5-100/repeat-03-adrenalmnist3d-28-5-100-ctcnn1/experiment_1\n",
      "Removed checkpoint at epoch 81 from checkpoints/repeat-03-adrenalmnist3d-28-5-100/repeat-03-adrenalmnist3d-28-5-100-ctcnn1/experiment_1\n"
     ]
    },
    {
     "name": "stderr",
     "output_type": "stream",
     "text": [
      " 73%|███████▎  | 43/59 [02:30<00:55,  3.50s/it]"
     ]
    },
    {
     "name": "stdout",
     "output_type": "stream",
     "text": [
      "Saved checkpoint at epoch 83 to checkpoints/repeat-03-adrenalmnist3d-28-5-100/repeat-03-adrenalmnist3d-28-5-100-ctcnn1/experiment_1\n",
      "Removed checkpoint at epoch 82 from checkpoints/repeat-03-adrenalmnist3d-28-5-100/repeat-03-adrenalmnist3d-28-5-100-ctcnn1/experiment_1\n"
     ]
    },
    {
     "name": "stderr",
     "output_type": "stream",
     "text": [
      " 75%|███████▍  | 44/59 [02:33<00:52,  3.50s/it]"
     ]
    },
    {
     "name": "stdout",
     "output_type": "stream",
     "text": [
      "Saved checkpoint at epoch 84 to checkpoints/repeat-03-adrenalmnist3d-28-5-100/repeat-03-adrenalmnist3d-28-5-100-ctcnn1/experiment_1\n",
      "Removed checkpoint at epoch 83 from checkpoints/repeat-03-adrenalmnist3d-28-5-100/repeat-03-adrenalmnist3d-28-5-100-ctcnn1/experiment_1\n"
     ]
    },
    {
     "name": "stderr",
     "output_type": "stream",
     "text": [
      " 76%|███████▋  | 45/59 [02:37<00:48,  3.49s/it]"
     ]
    },
    {
     "name": "stdout",
     "output_type": "stream",
     "text": [
      "Saved checkpoint at epoch 85 to checkpoints/repeat-03-adrenalmnist3d-28-5-100/repeat-03-adrenalmnist3d-28-5-100-ctcnn1/experiment_1\n",
      "Removed checkpoint at epoch 84 from checkpoints/repeat-03-adrenalmnist3d-28-5-100/repeat-03-adrenalmnist3d-28-5-100-ctcnn1/experiment_1\n"
     ]
    },
    {
     "name": "stderr",
     "output_type": "stream",
     "text": [
      " 78%|███████▊  | 46/59 [02:40<00:45,  3.50s/it]"
     ]
    },
    {
     "name": "stdout",
     "output_type": "stream",
     "text": [
      "Saved checkpoint at epoch 86 to checkpoints/repeat-03-adrenalmnist3d-28-5-100/repeat-03-adrenalmnist3d-28-5-100-ctcnn1/experiment_1\n",
      "Removed checkpoint at epoch 85 from checkpoints/repeat-03-adrenalmnist3d-28-5-100/repeat-03-adrenalmnist3d-28-5-100-ctcnn1/experiment_1\n"
     ]
    },
    {
     "name": "stderr",
     "output_type": "stream",
     "text": [
      " 80%|███████▉  | 47/59 [02:44<00:41,  3.50s/it]"
     ]
    },
    {
     "name": "stdout",
     "output_type": "stream",
     "text": [
      "Saved checkpoint at epoch 87 to checkpoints/repeat-03-adrenalmnist3d-28-5-100/repeat-03-adrenalmnist3d-28-5-100-ctcnn1/experiment_1\n",
      "Removed checkpoint at epoch 86 from checkpoints/repeat-03-adrenalmnist3d-28-5-100/repeat-03-adrenalmnist3d-28-5-100-ctcnn1/experiment_1\n"
     ]
    },
    {
     "name": "stderr",
     "output_type": "stream",
     "text": [
      " 81%|████████▏ | 48/59 [02:47<00:38,  3.50s/it]"
     ]
    },
    {
     "name": "stdout",
     "output_type": "stream",
     "text": [
      "Saved checkpoint at epoch 88 to checkpoints/repeat-03-adrenalmnist3d-28-5-100/repeat-03-adrenalmnist3d-28-5-100-ctcnn1/experiment_1\n",
      "Removed checkpoint at epoch 87 from checkpoints/repeat-03-adrenalmnist3d-28-5-100/repeat-03-adrenalmnist3d-28-5-100-ctcnn1/experiment_1\n"
     ]
    },
    {
     "name": "stderr",
     "output_type": "stream",
     "text": [
      " 83%|████████▎ | 49/59 [02:51<00:34,  3.49s/it]"
     ]
    },
    {
     "name": "stdout",
     "output_type": "stream",
     "text": [
      "Saved checkpoint at epoch 89 to checkpoints/repeat-03-adrenalmnist3d-28-5-100/repeat-03-adrenalmnist3d-28-5-100-ctcnn1/experiment_1\n",
      "Removed checkpoint at epoch 88 from checkpoints/repeat-03-adrenalmnist3d-28-5-100/repeat-03-adrenalmnist3d-28-5-100-ctcnn1/experiment_1\n"
     ]
    },
    {
     "name": "stderr",
     "output_type": "stream",
     "text": [
      " 85%|████████▍ | 50/59 [02:54<00:31,  3.49s/it]"
     ]
    },
    {
     "name": "stdout",
     "output_type": "stream",
     "text": [
      "Saved checkpoint at epoch 90 to checkpoints/repeat-03-adrenalmnist3d-28-5-100/repeat-03-adrenalmnist3d-28-5-100-ctcnn1/experiment_1\n",
      "Removed checkpoint at epoch 89 from checkpoints/repeat-03-adrenalmnist3d-28-5-100/repeat-03-adrenalmnist3d-28-5-100-ctcnn1/experiment_1\n"
     ]
    },
    {
     "name": "stderr",
     "output_type": "stream",
     "text": [
      " 86%|████████▋ | 51/59 [02:58<00:27,  3.49s/it]"
     ]
    },
    {
     "name": "stdout",
     "output_type": "stream",
     "text": [
      "Saved checkpoint at epoch 91 to checkpoints/repeat-03-adrenalmnist3d-28-5-100/repeat-03-adrenalmnist3d-28-5-100-ctcnn1/experiment_1\n",
      "Removed checkpoint at epoch 90 from checkpoints/repeat-03-adrenalmnist3d-28-5-100/repeat-03-adrenalmnist3d-28-5-100-ctcnn1/experiment_1\n"
     ]
    },
    {
     "name": "stderr",
     "output_type": "stream",
     "text": [
      " 88%|████████▊ | 52/59 [03:01<00:24,  3.49s/it]"
     ]
    },
    {
     "name": "stdout",
     "output_type": "stream",
     "text": [
      "Saved checkpoint at epoch 92 to checkpoints/repeat-03-adrenalmnist3d-28-5-100/repeat-03-adrenalmnist3d-28-5-100-ctcnn1/experiment_1\n",
      "Removed checkpoint at epoch 91 from checkpoints/repeat-03-adrenalmnist3d-28-5-100/repeat-03-adrenalmnist3d-28-5-100-ctcnn1/experiment_1\n"
     ]
    },
    {
     "name": "stderr",
     "output_type": "stream",
     "text": [
      " 90%|████████▉ | 53/59 [03:05<00:20,  3.49s/it]"
     ]
    },
    {
     "name": "stdout",
     "output_type": "stream",
     "text": [
      "Saved checkpoint at epoch 93 to checkpoints/repeat-03-adrenalmnist3d-28-5-100/repeat-03-adrenalmnist3d-28-5-100-ctcnn1/experiment_1\n",
      "Removed checkpoint at epoch 92 from checkpoints/repeat-03-adrenalmnist3d-28-5-100/repeat-03-adrenalmnist3d-28-5-100-ctcnn1/experiment_1\n"
     ]
    },
    {
     "name": "stderr",
     "output_type": "stream",
     "text": [
      " 92%|█████████▏| 54/59 [03:08<00:17,  3.49s/it]"
     ]
    },
    {
     "name": "stdout",
     "output_type": "stream",
     "text": [
      "Saved checkpoint at epoch 94 to checkpoints/repeat-03-adrenalmnist3d-28-5-100/repeat-03-adrenalmnist3d-28-5-100-ctcnn1/experiment_1\n",
      "Removed checkpoint at epoch 93 from checkpoints/repeat-03-adrenalmnist3d-28-5-100/repeat-03-adrenalmnist3d-28-5-100-ctcnn1/experiment_1\n"
     ]
    },
    {
     "name": "stderr",
     "output_type": "stream",
     "text": [
      " 93%|█████████▎| 55/59 [03:12<00:13,  3.49s/it]"
     ]
    },
    {
     "name": "stdout",
     "output_type": "stream",
     "text": [
      "Saved checkpoint at epoch 95 to checkpoints/repeat-03-adrenalmnist3d-28-5-100/repeat-03-adrenalmnist3d-28-5-100-ctcnn1/experiment_1\n",
      "Removed checkpoint at epoch 94 from checkpoints/repeat-03-adrenalmnist3d-28-5-100/repeat-03-adrenalmnist3d-28-5-100-ctcnn1/experiment_1\n"
     ]
    },
    {
     "name": "stderr",
     "output_type": "stream",
     "text": [
      " 95%|█████████▍| 56/59 [03:15<00:10,  3.49s/it]"
     ]
    },
    {
     "name": "stdout",
     "output_type": "stream",
     "text": [
      "Saved checkpoint at epoch 96 to checkpoints/repeat-03-adrenalmnist3d-28-5-100/repeat-03-adrenalmnist3d-28-5-100-ctcnn1/experiment_1\n",
      "Removed checkpoint at epoch 95 from checkpoints/repeat-03-adrenalmnist3d-28-5-100/repeat-03-adrenalmnist3d-28-5-100-ctcnn1/experiment_1\n"
     ]
    },
    {
     "name": "stderr",
     "output_type": "stream",
     "text": [
      " 97%|█████████▋| 57/59 [03:19<00:06,  3.49s/it]"
     ]
    },
    {
     "name": "stdout",
     "output_type": "stream",
     "text": [
      "Saved checkpoint at epoch 97 to checkpoints/repeat-03-adrenalmnist3d-28-5-100/repeat-03-adrenalmnist3d-28-5-100-ctcnn1/experiment_1\n",
      "Removed checkpoint at epoch 96 from checkpoints/repeat-03-adrenalmnist3d-28-5-100/repeat-03-adrenalmnist3d-28-5-100-ctcnn1/experiment_1\n"
     ]
    },
    {
     "name": "stderr",
     "output_type": "stream",
     "text": [
      " 98%|█████████▊| 58/59 [03:22<00:03,  3.49s/it]"
     ]
    },
    {
     "name": "stdout",
     "output_type": "stream",
     "text": [
      "Saved checkpoint at epoch 98 to checkpoints/repeat-03-adrenalmnist3d-28-5-100/repeat-03-adrenalmnist3d-28-5-100-ctcnn1/experiment_1\n",
      "Removed checkpoint at epoch 97 from checkpoints/repeat-03-adrenalmnist3d-28-5-100/repeat-03-adrenalmnist3d-28-5-100-ctcnn1/experiment_1\n"
     ]
    },
    {
     "name": "stderr",
     "output_type": "stream",
     "text": [
      "100%|██████████| 59/59 [03:26<00:00,  3.50s/it]\n"
     ]
    },
    {
     "name": "stdout",
     "output_type": "stream",
     "text": [
      "Saved checkpoint at epoch 99 to checkpoints/repeat-03-adrenalmnist3d-28-5-100/repeat-03-adrenalmnist3d-28-5-100-ctcnn1/experiment_1\n",
      "Removed checkpoint at epoch 98 from checkpoints/repeat-03-adrenalmnist3d-28-5-100/repeat-03-adrenalmnist3d-28-5-100-ctcnn1/experiment_1\n",
      "Training time: 206.22s and Average time per epoch: 2.06s\n",
      "Test Accuracy: 240/298 (80.53691%)\n",
      "\n",
      "Test AUC Score: 0.82223 Precision: 0.57333 Recall: 0.62319 F1: 0.59722\n",
      "Result for experiment 1/5: acc: 80.53691 \tauc: 0.82223\n",
      "recall: 0.62319 \tprecision: 0.57333 \tf1: 0.59722\n",
      "Running experiment 2/5\n",
      "Checkpoints will be saved in checkpoints/repeat-03-adrenalmnist3d-28-5-100/repeat-03-adrenalmnist3d-28-5-100-ctcnn1/experiment_2\n",
      "No checkpoints found\n",
      "Training on cuda and 1 GPUs:\n",
      "Device 0: NVIDIA GeForce RTX 4090\n",
      "Model parameters: 263243(0.25105MB)\n",
      "Start training from epoch 0 to 100\n"
     ]
    },
    {
     "name": "stderr",
     "output_type": "stream",
     "text": [
      "  1%|          | 1/100 [00:03<05:46,  3.50s/it]"
     ]
    },
    {
     "name": "stdout",
     "output_type": "stream",
     "text": [
      "saved best checkpoint at epoch 0 to checkpoints/repeat-03-adrenalmnist3d-28-5-100/repeat-03-adrenalmnist3d-28-5-100-ctcnn1/experiment_2\n",
      "Saved checkpoint at epoch 0 to checkpoints/repeat-03-adrenalmnist3d-28-5-100/repeat-03-adrenalmnist3d-28-5-100-ctcnn1/experiment_2\n"
     ]
    },
    {
     "name": "stderr",
     "output_type": "stream",
     "text": [
      "  2%|▏         | 2/100 [00:06<05:42,  3.50s/it]"
     ]
    },
    {
     "name": "stdout",
     "output_type": "stream",
     "text": [
      "Saved checkpoint at epoch 1 to checkpoints/repeat-03-adrenalmnist3d-28-5-100/repeat-03-adrenalmnist3d-28-5-100-ctcnn1/experiment_2\n",
      "Removed checkpoint at epoch 0 from checkpoints/repeat-03-adrenalmnist3d-28-5-100/repeat-03-adrenalmnist3d-28-5-100-ctcnn1/experiment_2\n"
     ]
    },
    {
     "name": "stderr",
     "output_type": "stream",
     "text": [
      "  3%|▎         | 3/100 [00:10<05:39,  3.50s/it]"
     ]
    },
    {
     "name": "stdout",
     "output_type": "stream",
     "text": [
      "Saved checkpoint at epoch 2 to checkpoints/repeat-03-adrenalmnist3d-28-5-100/repeat-03-adrenalmnist3d-28-5-100-ctcnn1/experiment_2\n",
      "Removed checkpoint at epoch 1 from checkpoints/repeat-03-adrenalmnist3d-28-5-100/repeat-03-adrenalmnist3d-28-5-100-ctcnn1/experiment_2\n"
     ]
    },
    {
     "name": "stderr",
     "output_type": "stream",
     "text": [
      "  4%|▍         | 4/100 [00:13<05:35,  3.50s/it]"
     ]
    },
    {
     "name": "stdout",
     "output_type": "stream",
     "text": [
      "Saved checkpoint at epoch 3 to checkpoints/repeat-03-adrenalmnist3d-28-5-100/repeat-03-adrenalmnist3d-28-5-100-ctcnn1/experiment_2\n",
      "Removed checkpoint at epoch 2 from checkpoints/repeat-03-adrenalmnist3d-28-5-100/repeat-03-adrenalmnist3d-28-5-100-ctcnn1/experiment_2\n"
     ]
    },
    {
     "name": "stderr",
     "output_type": "stream",
     "text": [
      "  5%|▌         | 5/100 [00:17<05:32,  3.50s/it]"
     ]
    },
    {
     "name": "stdout",
     "output_type": "stream",
     "text": [
      "Saved checkpoint at epoch 4 to checkpoints/repeat-03-adrenalmnist3d-28-5-100/repeat-03-adrenalmnist3d-28-5-100-ctcnn1/experiment_2\n",
      "Removed checkpoint at epoch 3 from checkpoints/repeat-03-adrenalmnist3d-28-5-100/repeat-03-adrenalmnist3d-28-5-100-ctcnn1/experiment_2\n"
     ]
    },
    {
     "name": "stderr",
     "output_type": "stream",
     "text": [
      "  6%|▌         | 6/100 [00:20<05:28,  3.50s/it]"
     ]
    },
    {
     "name": "stdout",
     "output_type": "stream",
     "text": [
      "Saved checkpoint at epoch 5 to checkpoints/repeat-03-adrenalmnist3d-28-5-100/repeat-03-adrenalmnist3d-28-5-100-ctcnn1/experiment_2\n",
      "Removed checkpoint at epoch 4 from checkpoints/repeat-03-adrenalmnist3d-28-5-100/repeat-03-adrenalmnist3d-28-5-100-ctcnn1/experiment_2\n"
     ]
    },
    {
     "name": "stderr",
     "output_type": "stream",
     "text": [
      "  7%|▋         | 7/100 [00:24<05:25,  3.50s/it]"
     ]
    },
    {
     "name": "stdout",
     "output_type": "stream",
     "text": [
      "Saved checkpoint at epoch 6 to checkpoints/repeat-03-adrenalmnist3d-28-5-100/repeat-03-adrenalmnist3d-28-5-100-ctcnn1/experiment_2\n",
      "Removed checkpoint at epoch 5 from checkpoints/repeat-03-adrenalmnist3d-28-5-100/repeat-03-adrenalmnist3d-28-5-100-ctcnn1/experiment_2\n"
     ]
    },
    {
     "name": "stderr",
     "output_type": "stream",
     "text": [
      "  8%|▊         | 8/100 [00:27<05:21,  3.50s/it]"
     ]
    },
    {
     "name": "stdout",
     "output_type": "stream",
     "text": [
      "Saved checkpoint at epoch 7 to checkpoints/repeat-03-adrenalmnist3d-28-5-100/repeat-03-adrenalmnist3d-28-5-100-ctcnn1/experiment_2\n",
      "Removed checkpoint at epoch 6 from checkpoints/repeat-03-adrenalmnist3d-28-5-100/repeat-03-adrenalmnist3d-28-5-100-ctcnn1/experiment_2\n"
     ]
    },
    {
     "name": "stderr",
     "output_type": "stream",
     "text": [
      "  9%|▉         | 9/100 [00:31<05:18,  3.50s/it]"
     ]
    },
    {
     "name": "stdout",
     "output_type": "stream",
     "text": [
      "Saved checkpoint at epoch 8 to checkpoints/repeat-03-adrenalmnist3d-28-5-100/repeat-03-adrenalmnist3d-28-5-100-ctcnn1/experiment_2\n",
      "Removed checkpoint at epoch 7 from checkpoints/repeat-03-adrenalmnist3d-28-5-100/repeat-03-adrenalmnist3d-28-5-100-ctcnn1/experiment_2\n"
     ]
    },
    {
     "name": "stderr",
     "output_type": "stream",
     "text": [
      " 10%|█         | 10/100 [00:34<05:14,  3.50s/it]"
     ]
    },
    {
     "name": "stdout",
     "output_type": "stream",
     "text": [
      "Saved checkpoint at epoch 9 to checkpoints/repeat-03-adrenalmnist3d-28-5-100/repeat-03-adrenalmnist3d-28-5-100-ctcnn1/experiment_2\n",
      "Removed checkpoint at epoch 8 from checkpoints/repeat-03-adrenalmnist3d-28-5-100/repeat-03-adrenalmnist3d-28-5-100-ctcnn1/experiment_2\n"
     ]
    },
    {
     "name": "stderr",
     "output_type": "stream",
     "text": [
      " 11%|█         | 11/100 [00:38<05:11,  3.50s/it]"
     ]
    },
    {
     "name": "stdout",
     "output_type": "stream",
     "text": [
      "Saved checkpoint at epoch 10 to checkpoints/repeat-03-adrenalmnist3d-28-5-100/repeat-03-adrenalmnist3d-28-5-100-ctcnn1/experiment_2\n",
      "Removed checkpoint at epoch 9 from checkpoints/repeat-03-adrenalmnist3d-28-5-100/repeat-03-adrenalmnist3d-28-5-100-ctcnn1/experiment_2\n"
     ]
    },
    {
     "name": "stderr",
     "output_type": "stream",
     "text": [
      " 12%|█▏        | 12/100 [00:41<05:07,  3.50s/it]"
     ]
    },
    {
     "name": "stdout",
     "output_type": "stream",
     "text": [
      "Saved checkpoint at epoch 11 to checkpoints/repeat-03-adrenalmnist3d-28-5-100/repeat-03-adrenalmnist3d-28-5-100-ctcnn1/experiment_2\n",
      "Removed checkpoint at epoch 10 from checkpoints/repeat-03-adrenalmnist3d-28-5-100/repeat-03-adrenalmnist3d-28-5-100-ctcnn1/experiment_2\n"
     ]
    },
    {
     "name": "stderr",
     "output_type": "stream",
     "text": [
      " 13%|█▎        | 13/100 [00:45<05:04,  3.50s/it]"
     ]
    },
    {
     "name": "stdout",
     "output_type": "stream",
     "text": [
      "Saved checkpoint at epoch 12 to checkpoints/repeat-03-adrenalmnist3d-28-5-100/repeat-03-adrenalmnist3d-28-5-100-ctcnn1/experiment_2\n",
      "Removed checkpoint at epoch 11 from checkpoints/repeat-03-adrenalmnist3d-28-5-100/repeat-03-adrenalmnist3d-28-5-100-ctcnn1/experiment_2\n"
     ]
    },
    {
     "name": "stderr",
     "output_type": "stream",
     "text": [
      " 14%|█▍        | 14/100 [00:48<05:00,  3.50s/it]"
     ]
    },
    {
     "name": "stdout",
     "output_type": "stream",
     "text": [
      "Saved checkpoint at epoch 13 to checkpoints/repeat-03-adrenalmnist3d-28-5-100/repeat-03-adrenalmnist3d-28-5-100-ctcnn1/experiment_2\n",
      "Removed checkpoint at epoch 12 from checkpoints/repeat-03-adrenalmnist3d-28-5-100/repeat-03-adrenalmnist3d-28-5-100-ctcnn1/experiment_2\n"
     ]
    },
    {
     "name": "stderr",
     "output_type": "stream",
     "text": [
      " 15%|█▌        | 15/100 [00:52<04:57,  3.50s/it]"
     ]
    },
    {
     "name": "stdout",
     "output_type": "stream",
     "text": [
      "Saved checkpoint at epoch 14 to checkpoints/repeat-03-adrenalmnist3d-28-5-100/repeat-03-adrenalmnist3d-28-5-100-ctcnn1/experiment_2\n",
      "Removed checkpoint at epoch 13 from checkpoints/repeat-03-adrenalmnist3d-28-5-100/repeat-03-adrenalmnist3d-28-5-100-ctcnn1/experiment_2\n"
     ]
    },
    {
     "name": "stderr",
     "output_type": "stream",
     "text": [
      " 16%|█▌        | 16/100 [00:55<04:53,  3.50s/it]"
     ]
    },
    {
     "name": "stdout",
     "output_type": "stream",
     "text": [
      "saved best checkpoint at epoch 15 to checkpoints/repeat-03-adrenalmnist3d-28-5-100/repeat-03-adrenalmnist3d-28-5-100-ctcnn1/experiment_2\n",
      "Saved checkpoint at epoch 15 to checkpoints/repeat-03-adrenalmnist3d-28-5-100/repeat-03-adrenalmnist3d-28-5-100-ctcnn1/experiment_2\n",
      "Removed checkpoint at epoch 14 from checkpoints/repeat-03-adrenalmnist3d-28-5-100/repeat-03-adrenalmnist3d-28-5-100-ctcnn1/experiment_2\n"
     ]
    },
    {
     "name": "stderr",
     "output_type": "stream",
     "text": [
      " 17%|█▋        | 17/100 [00:59<04:50,  3.50s/it]"
     ]
    },
    {
     "name": "stdout",
     "output_type": "stream",
     "text": [
      "Saved checkpoint at epoch 16 to checkpoints/repeat-03-adrenalmnist3d-28-5-100/repeat-03-adrenalmnist3d-28-5-100-ctcnn1/experiment_2\n",
      "Removed checkpoint at epoch 15 from checkpoints/repeat-03-adrenalmnist3d-28-5-100/repeat-03-adrenalmnist3d-28-5-100-ctcnn1/experiment_2\n"
     ]
    },
    {
     "name": "stderr",
     "output_type": "stream",
     "text": [
      " 18%|█▊        | 18/100 [01:02<04:46,  3.50s/it]"
     ]
    },
    {
     "name": "stdout",
     "output_type": "stream",
     "text": [
      "Saved checkpoint at epoch 17 to checkpoints/repeat-03-adrenalmnist3d-28-5-100/repeat-03-adrenalmnist3d-28-5-100-ctcnn1/experiment_2\n",
      "Removed checkpoint at epoch 16 from checkpoints/repeat-03-adrenalmnist3d-28-5-100/repeat-03-adrenalmnist3d-28-5-100-ctcnn1/experiment_2\n"
     ]
    },
    {
     "name": "stderr",
     "output_type": "stream",
     "text": [
      " 19%|█▉        | 19/100 [01:06<04:43,  3.50s/it]"
     ]
    },
    {
     "name": "stdout",
     "output_type": "stream",
     "text": [
      "Saved checkpoint at epoch 18 to checkpoints/repeat-03-adrenalmnist3d-28-5-100/repeat-03-adrenalmnist3d-28-5-100-ctcnn1/experiment_2\n",
      "Removed checkpoint at epoch 17 from checkpoints/repeat-03-adrenalmnist3d-28-5-100/repeat-03-adrenalmnist3d-28-5-100-ctcnn1/experiment_2\n"
     ]
    },
    {
     "name": "stderr",
     "output_type": "stream",
     "text": [
      " 20%|██        | 20/100 [01:09<04:39,  3.50s/it]"
     ]
    },
    {
     "name": "stdout",
     "output_type": "stream",
     "text": [
      "Saved checkpoint at epoch 19 to checkpoints/repeat-03-adrenalmnist3d-28-5-100/repeat-03-adrenalmnist3d-28-5-100-ctcnn1/experiment_2\n",
      "Removed checkpoint at epoch 18 from checkpoints/repeat-03-adrenalmnist3d-28-5-100/repeat-03-adrenalmnist3d-28-5-100-ctcnn1/experiment_2\n"
     ]
    },
    {
     "name": "stderr",
     "output_type": "stream",
     "text": [
      " 21%|██        | 21/100 [01:13<04:36,  3.50s/it]"
     ]
    },
    {
     "name": "stdout",
     "output_type": "stream",
     "text": [
      "Saved checkpoint at epoch 20 to checkpoints/repeat-03-adrenalmnist3d-28-5-100/repeat-03-adrenalmnist3d-28-5-100-ctcnn1/experiment_2\n",
      "Removed checkpoint at epoch 19 from checkpoints/repeat-03-adrenalmnist3d-28-5-100/repeat-03-adrenalmnist3d-28-5-100-ctcnn1/experiment_2\n"
     ]
    },
    {
     "name": "stderr",
     "output_type": "stream",
     "text": [
      " 22%|██▏       | 22/100 [01:16<04:32,  3.50s/it]"
     ]
    },
    {
     "name": "stdout",
     "output_type": "stream",
     "text": [
      "Saved checkpoint at epoch 21 to checkpoints/repeat-03-adrenalmnist3d-28-5-100/repeat-03-adrenalmnist3d-28-5-100-ctcnn1/experiment_2\n",
      "Removed checkpoint at epoch 20 from checkpoints/repeat-03-adrenalmnist3d-28-5-100/repeat-03-adrenalmnist3d-28-5-100-ctcnn1/experiment_2\n"
     ]
    },
    {
     "name": "stderr",
     "output_type": "stream",
     "text": [
      " 23%|██▎       | 23/100 [01:20<04:29,  3.50s/it]"
     ]
    },
    {
     "name": "stdout",
     "output_type": "stream",
     "text": [
      "Saved checkpoint at epoch 22 to checkpoints/repeat-03-adrenalmnist3d-28-5-100/repeat-03-adrenalmnist3d-28-5-100-ctcnn1/experiment_2\n",
      "Removed checkpoint at epoch 21 from checkpoints/repeat-03-adrenalmnist3d-28-5-100/repeat-03-adrenalmnist3d-28-5-100-ctcnn1/experiment_2\n"
     ]
    },
    {
     "name": "stderr",
     "output_type": "stream",
     "text": [
      " 24%|██▍       | 24/100 [01:23<04:25,  3.50s/it]"
     ]
    },
    {
     "name": "stdout",
     "output_type": "stream",
     "text": [
      "Saved checkpoint at epoch 23 to checkpoints/repeat-03-adrenalmnist3d-28-5-100/repeat-03-adrenalmnist3d-28-5-100-ctcnn1/experiment_2\n",
      "Removed checkpoint at epoch 22 from checkpoints/repeat-03-adrenalmnist3d-28-5-100/repeat-03-adrenalmnist3d-28-5-100-ctcnn1/experiment_2\n"
     ]
    },
    {
     "name": "stderr",
     "output_type": "stream",
     "text": [
      " 25%|██▌       | 25/100 [01:27<04:22,  3.50s/it]"
     ]
    },
    {
     "name": "stdout",
     "output_type": "stream",
     "text": [
      "Saved checkpoint at epoch 24 to checkpoints/repeat-03-adrenalmnist3d-28-5-100/repeat-03-adrenalmnist3d-28-5-100-ctcnn1/experiment_2\n",
      "Removed checkpoint at epoch 23 from checkpoints/repeat-03-adrenalmnist3d-28-5-100/repeat-03-adrenalmnist3d-28-5-100-ctcnn1/experiment_2\n"
     ]
    },
    {
     "name": "stderr",
     "output_type": "stream",
     "text": [
      " 26%|██▌       | 26/100 [01:30<04:18,  3.50s/it]"
     ]
    },
    {
     "name": "stdout",
     "output_type": "stream",
     "text": [
      "saved best checkpoint at epoch 25 to checkpoints/repeat-03-adrenalmnist3d-28-5-100/repeat-03-adrenalmnist3d-28-5-100-ctcnn1/experiment_2\n",
      "Saved checkpoint at epoch 25 to checkpoints/repeat-03-adrenalmnist3d-28-5-100/repeat-03-adrenalmnist3d-28-5-100-ctcnn1/experiment_2\n",
      "Removed checkpoint at epoch 24 from checkpoints/repeat-03-adrenalmnist3d-28-5-100/repeat-03-adrenalmnist3d-28-5-100-ctcnn1/experiment_2\n"
     ]
    },
    {
     "name": "stderr",
     "output_type": "stream",
     "text": [
      " 27%|██▋       | 27/100 [01:34<04:15,  3.50s/it]"
     ]
    },
    {
     "name": "stdout",
     "output_type": "stream",
     "text": [
      "Saved checkpoint at epoch 26 to checkpoints/repeat-03-adrenalmnist3d-28-5-100/repeat-03-adrenalmnist3d-28-5-100-ctcnn1/experiment_2\n",
      "Removed checkpoint at epoch 25 from checkpoints/repeat-03-adrenalmnist3d-28-5-100/repeat-03-adrenalmnist3d-28-5-100-ctcnn1/experiment_2\n"
     ]
    },
    {
     "name": "stderr",
     "output_type": "stream",
     "text": [
      " 28%|██▊       | 28/100 [01:37<04:11,  3.50s/it]"
     ]
    },
    {
     "name": "stdout",
     "output_type": "stream",
     "text": [
      "Saved checkpoint at epoch 27 to checkpoints/repeat-03-adrenalmnist3d-28-5-100/repeat-03-adrenalmnist3d-28-5-100-ctcnn1/experiment_2\n",
      "Removed checkpoint at epoch 26 from checkpoints/repeat-03-adrenalmnist3d-28-5-100/repeat-03-adrenalmnist3d-28-5-100-ctcnn1/experiment_2\n"
     ]
    },
    {
     "name": "stderr",
     "output_type": "stream",
     "text": [
      " 29%|██▉       | 29/100 [01:41<04:08,  3.50s/it]"
     ]
    },
    {
     "name": "stdout",
     "output_type": "stream",
     "text": [
      "Saved checkpoint at epoch 28 to checkpoints/repeat-03-adrenalmnist3d-28-5-100/repeat-03-adrenalmnist3d-28-5-100-ctcnn1/experiment_2\n",
      "Removed checkpoint at epoch 27 from checkpoints/repeat-03-adrenalmnist3d-28-5-100/repeat-03-adrenalmnist3d-28-5-100-ctcnn1/experiment_2\n"
     ]
    },
    {
     "name": "stderr",
     "output_type": "stream",
     "text": [
      " 30%|███       | 30/100 [01:44<04:04,  3.50s/it]"
     ]
    },
    {
     "name": "stdout",
     "output_type": "stream",
     "text": [
      "Saved checkpoint at epoch 29 to checkpoints/repeat-03-adrenalmnist3d-28-5-100/repeat-03-adrenalmnist3d-28-5-100-ctcnn1/experiment_2\n",
      "Removed checkpoint at epoch 28 from checkpoints/repeat-03-adrenalmnist3d-28-5-100/repeat-03-adrenalmnist3d-28-5-100-ctcnn1/experiment_2\n"
     ]
    },
    {
     "name": "stderr",
     "output_type": "stream",
     "text": [
      " 31%|███       | 31/100 [01:48<04:01,  3.50s/it]"
     ]
    },
    {
     "name": "stdout",
     "output_type": "stream",
     "text": [
      "Saved checkpoint at epoch 30 to checkpoints/repeat-03-adrenalmnist3d-28-5-100/repeat-03-adrenalmnist3d-28-5-100-ctcnn1/experiment_2\n",
      "Removed checkpoint at epoch 29 from checkpoints/repeat-03-adrenalmnist3d-28-5-100/repeat-03-adrenalmnist3d-28-5-100-ctcnn1/experiment_2\n"
     ]
    },
    {
     "name": "stderr",
     "output_type": "stream",
     "text": [
      " 32%|███▏      | 32/100 [01:51<03:57,  3.50s/it]"
     ]
    },
    {
     "name": "stdout",
     "output_type": "stream",
     "text": [
      "Saved checkpoint at epoch 31 to checkpoints/repeat-03-adrenalmnist3d-28-5-100/repeat-03-adrenalmnist3d-28-5-100-ctcnn1/experiment_2\n",
      "Removed checkpoint at epoch 30 from checkpoints/repeat-03-adrenalmnist3d-28-5-100/repeat-03-adrenalmnist3d-28-5-100-ctcnn1/experiment_2\n"
     ]
    },
    {
     "name": "stderr",
     "output_type": "stream",
     "text": [
      " 33%|███▎      | 33/100 [01:55<03:54,  3.50s/it]"
     ]
    },
    {
     "name": "stdout",
     "output_type": "stream",
     "text": [
      "Saved checkpoint at epoch 32 to checkpoints/repeat-03-adrenalmnist3d-28-5-100/repeat-03-adrenalmnist3d-28-5-100-ctcnn1/experiment_2\n",
      "Removed checkpoint at epoch 31 from checkpoints/repeat-03-adrenalmnist3d-28-5-100/repeat-03-adrenalmnist3d-28-5-100-ctcnn1/experiment_2\n"
     ]
    },
    {
     "name": "stderr",
     "output_type": "stream",
     "text": [
      " 34%|███▍      | 34/100 [01:58<03:50,  3.50s/it]"
     ]
    },
    {
     "name": "stdout",
     "output_type": "stream",
     "text": [
      "Saved checkpoint at epoch 33 to checkpoints/repeat-03-adrenalmnist3d-28-5-100/repeat-03-adrenalmnist3d-28-5-100-ctcnn1/experiment_2\n",
      "Removed checkpoint at epoch 32 from checkpoints/repeat-03-adrenalmnist3d-28-5-100/repeat-03-adrenalmnist3d-28-5-100-ctcnn1/experiment_2\n"
     ]
    },
    {
     "name": "stderr",
     "output_type": "stream",
     "text": [
      " 35%|███▌      | 35/100 [02:02<03:47,  3.50s/it]"
     ]
    },
    {
     "name": "stdout",
     "output_type": "stream",
     "text": [
      "Saved checkpoint at epoch 34 to checkpoints/repeat-03-adrenalmnist3d-28-5-100/repeat-03-adrenalmnist3d-28-5-100-ctcnn1/experiment_2\n",
      "Removed checkpoint at epoch 33 from checkpoints/repeat-03-adrenalmnist3d-28-5-100/repeat-03-adrenalmnist3d-28-5-100-ctcnn1/experiment_2\n"
     ]
    },
    {
     "name": "stderr",
     "output_type": "stream",
     "text": [
      " 36%|███▌      | 36/100 [02:05<03:43,  3.50s/it]"
     ]
    },
    {
     "name": "stdout",
     "output_type": "stream",
     "text": [
      "Saved checkpoint at epoch 35 to checkpoints/repeat-03-adrenalmnist3d-28-5-100/repeat-03-adrenalmnist3d-28-5-100-ctcnn1/experiment_2\n",
      "Removed checkpoint at epoch 34 from checkpoints/repeat-03-adrenalmnist3d-28-5-100/repeat-03-adrenalmnist3d-28-5-100-ctcnn1/experiment_2\n"
     ]
    },
    {
     "name": "stderr",
     "output_type": "stream",
     "text": [
      " 37%|███▋      | 37/100 [02:09<03:40,  3.50s/it]"
     ]
    },
    {
     "name": "stdout",
     "output_type": "stream",
     "text": [
      "Saved checkpoint at epoch 36 to checkpoints/repeat-03-adrenalmnist3d-28-5-100/repeat-03-adrenalmnist3d-28-5-100-ctcnn1/experiment_2\n",
      "Removed checkpoint at epoch 35 from checkpoints/repeat-03-adrenalmnist3d-28-5-100/repeat-03-adrenalmnist3d-28-5-100-ctcnn1/experiment_2\n"
     ]
    },
    {
     "name": "stderr",
     "output_type": "stream",
     "text": [
      " 38%|███▊      | 38/100 [02:12<03:36,  3.50s/it]"
     ]
    },
    {
     "name": "stdout",
     "output_type": "stream",
     "text": [
      "Saved checkpoint at epoch 37 to checkpoints/repeat-03-adrenalmnist3d-28-5-100/repeat-03-adrenalmnist3d-28-5-100-ctcnn1/experiment_2\n",
      "Removed checkpoint at epoch 36 from checkpoints/repeat-03-adrenalmnist3d-28-5-100/repeat-03-adrenalmnist3d-28-5-100-ctcnn1/experiment_2\n"
     ]
    },
    {
     "name": "stderr",
     "output_type": "stream",
     "text": [
      " 39%|███▉      | 39/100 [02:16<03:33,  3.50s/it]"
     ]
    },
    {
     "name": "stdout",
     "output_type": "stream",
     "text": [
      "Saved checkpoint at epoch 38 to checkpoints/repeat-03-adrenalmnist3d-28-5-100/repeat-03-adrenalmnist3d-28-5-100-ctcnn1/experiment_2\n",
      "Removed checkpoint at epoch 37 from checkpoints/repeat-03-adrenalmnist3d-28-5-100/repeat-03-adrenalmnist3d-28-5-100-ctcnn1/experiment_2\n"
     ]
    },
    {
     "name": "stderr",
     "output_type": "stream",
     "text": [
      " 40%|████      | 40/100 [02:19<03:29,  3.50s/it]"
     ]
    },
    {
     "name": "stdout",
     "output_type": "stream",
     "text": [
      "Saved checkpoint at epoch 39 to checkpoints/repeat-03-adrenalmnist3d-28-5-100/repeat-03-adrenalmnist3d-28-5-100-ctcnn1/experiment_2\n",
      "Removed checkpoint at epoch 38 from checkpoints/repeat-03-adrenalmnist3d-28-5-100/repeat-03-adrenalmnist3d-28-5-100-ctcnn1/experiment_2\n"
     ]
    },
    {
     "name": "stderr",
     "output_type": "stream",
     "text": [
      " 41%|████      | 41/100 [02:23<03:26,  3.50s/it]"
     ]
    },
    {
     "name": "stdout",
     "output_type": "stream",
     "text": [
      "Saved checkpoint at epoch 40 to checkpoints/repeat-03-adrenalmnist3d-28-5-100/repeat-03-adrenalmnist3d-28-5-100-ctcnn1/experiment_2\n",
      "Removed checkpoint at epoch 39 from checkpoints/repeat-03-adrenalmnist3d-28-5-100/repeat-03-adrenalmnist3d-28-5-100-ctcnn1/experiment_2\n"
     ]
    },
    {
     "name": "stderr",
     "output_type": "stream",
     "text": [
      " 42%|████▏     | 42/100 [02:26<03:22,  3.50s/it]"
     ]
    },
    {
     "name": "stdout",
     "output_type": "stream",
     "text": [
      "Saved checkpoint at epoch 41 to checkpoints/repeat-03-adrenalmnist3d-28-5-100/repeat-03-adrenalmnist3d-28-5-100-ctcnn1/experiment_2\n",
      "Removed checkpoint at epoch 40 from checkpoints/repeat-03-adrenalmnist3d-28-5-100/repeat-03-adrenalmnist3d-28-5-100-ctcnn1/experiment_2\n"
     ]
    },
    {
     "name": "stderr",
     "output_type": "stream",
     "text": [
      " 43%|████▎     | 43/100 [02:30<03:19,  3.50s/it]"
     ]
    },
    {
     "name": "stdout",
     "output_type": "stream",
     "text": [
      "saved best checkpoint at epoch 42 to checkpoints/repeat-03-adrenalmnist3d-28-5-100/repeat-03-adrenalmnist3d-28-5-100-ctcnn1/experiment_2\n",
      "Saved checkpoint at epoch 42 to checkpoints/repeat-03-adrenalmnist3d-28-5-100/repeat-03-adrenalmnist3d-28-5-100-ctcnn1/experiment_2\n",
      "Removed checkpoint at epoch 41 from checkpoints/repeat-03-adrenalmnist3d-28-5-100/repeat-03-adrenalmnist3d-28-5-100-ctcnn1/experiment_2\n"
     ]
    },
    {
     "name": "stderr",
     "output_type": "stream",
     "text": [
      " 44%|████▍     | 44/100 [02:33<03:15,  3.50s/it]"
     ]
    },
    {
     "name": "stdout",
     "output_type": "stream",
     "text": [
      "Saved checkpoint at epoch 43 to checkpoints/repeat-03-adrenalmnist3d-28-5-100/repeat-03-adrenalmnist3d-28-5-100-ctcnn1/experiment_2\n",
      "Removed checkpoint at epoch 42 from checkpoints/repeat-03-adrenalmnist3d-28-5-100/repeat-03-adrenalmnist3d-28-5-100-ctcnn1/experiment_2\n"
     ]
    },
    {
     "name": "stderr",
     "output_type": "stream",
     "text": [
      " 45%|████▌     | 45/100 [02:37<03:12,  3.50s/it]"
     ]
    },
    {
     "name": "stdout",
     "output_type": "stream",
     "text": [
      "Saved checkpoint at epoch 44 to checkpoints/repeat-03-adrenalmnist3d-28-5-100/repeat-03-adrenalmnist3d-28-5-100-ctcnn1/experiment_2\n",
      "Removed checkpoint at epoch 43 from checkpoints/repeat-03-adrenalmnist3d-28-5-100/repeat-03-adrenalmnist3d-28-5-100-ctcnn1/experiment_2\n"
     ]
    },
    {
     "name": "stderr",
     "output_type": "stream",
     "text": [
      " 46%|████▌     | 46/100 [02:40<03:08,  3.50s/it]"
     ]
    },
    {
     "name": "stdout",
     "output_type": "stream",
     "text": [
      "Saved checkpoint at epoch 45 to checkpoints/repeat-03-adrenalmnist3d-28-5-100/repeat-03-adrenalmnist3d-28-5-100-ctcnn1/experiment_2\n",
      "Removed checkpoint at epoch 44 from checkpoints/repeat-03-adrenalmnist3d-28-5-100/repeat-03-adrenalmnist3d-28-5-100-ctcnn1/experiment_2\n"
     ]
    },
    {
     "name": "stderr",
     "output_type": "stream",
     "text": [
      " 47%|████▋     | 47/100 [02:44<03:05,  3.50s/it]"
     ]
    },
    {
     "name": "stdout",
     "output_type": "stream",
     "text": [
      "Saved checkpoint at epoch 46 to checkpoints/repeat-03-adrenalmnist3d-28-5-100/repeat-03-adrenalmnist3d-28-5-100-ctcnn1/experiment_2\n",
      "Removed checkpoint at epoch 45 from checkpoints/repeat-03-adrenalmnist3d-28-5-100/repeat-03-adrenalmnist3d-28-5-100-ctcnn1/experiment_2\n"
     ]
    },
    {
     "name": "stderr",
     "output_type": "stream",
     "text": [
      " 48%|████▊     | 48/100 [02:47<03:01,  3.50s/it]"
     ]
    },
    {
     "name": "stdout",
     "output_type": "stream",
     "text": [
      "Saved checkpoint at epoch 47 to checkpoints/repeat-03-adrenalmnist3d-28-5-100/repeat-03-adrenalmnist3d-28-5-100-ctcnn1/experiment_2\n",
      "Removed checkpoint at epoch 46 from checkpoints/repeat-03-adrenalmnist3d-28-5-100/repeat-03-adrenalmnist3d-28-5-100-ctcnn1/experiment_2\n"
     ]
    },
    {
     "name": "stderr",
     "output_type": "stream",
     "text": [
      " 49%|████▉     | 49/100 [02:51<02:58,  3.50s/it]"
     ]
    },
    {
     "name": "stdout",
     "output_type": "stream",
     "text": [
      "Saved checkpoint at epoch 48 to checkpoints/repeat-03-adrenalmnist3d-28-5-100/repeat-03-adrenalmnist3d-28-5-100-ctcnn1/experiment_2\n",
      "Removed checkpoint at epoch 47 from checkpoints/repeat-03-adrenalmnist3d-28-5-100/repeat-03-adrenalmnist3d-28-5-100-ctcnn1/experiment_2\n"
     ]
    },
    {
     "name": "stderr",
     "output_type": "stream",
     "text": [
      " 50%|█████     | 50/100 [02:54<02:54,  3.50s/it]"
     ]
    },
    {
     "name": "stdout",
     "output_type": "stream",
     "text": [
      "saved best checkpoint at epoch 49 to checkpoints/repeat-03-adrenalmnist3d-28-5-100/repeat-03-adrenalmnist3d-28-5-100-ctcnn1/experiment_2\n",
      "Saved checkpoint at epoch 49 to checkpoints/repeat-03-adrenalmnist3d-28-5-100/repeat-03-adrenalmnist3d-28-5-100-ctcnn1/experiment_2\n",
      "Removed checkpoint at epoch 48 from checkpoints/repeat-03-adrenalmnist3d-28-5-100/repeat-03-adrenalmnist3d-28-5-100-ctcnn1/experiment_2\n"
     ]
    },
    {
     "name": "stderr",
     "output_type": "stream",
     "text": [
      " 51%|█████     | 51/100 [02:58<02:51,  3.50s/it]"
     ]
    },
    {
     "name": "stdout",
     "output_type": "stream",
     "text": [
      "Saved checkpoint at epoch 50 to checkpoints/repeat-03-adrenalmnist3d-28-5-100/repeat-03-adrenalmnist3d-28-5-100-ctcnn1/experiment_2\n",
      "Removed checkpoint at epoch 49 from checkpoints/repeat-03-adrenalmnist3d-28-5-100/repeat-03-adrenalmnist3d-28-5-100-ctcnn1/experiment_2\n"
     ]
    },
    {
     "name": "stderr",
     "output_type": "stream",
     "text": [
      " 52%|█████▏    | 52/100 [03:01<02:47,  3.50s/it]"
     ]
    },
    {
     "name": "stdout",
     "output_type": "stream",
     "text": [
      "Saved checkpoint at epoch 51 to checkpoints/repeat-03-adrenalmnist3d-28-5-100/repeat-03-adrenalmnist3d-28-5-100-ctcnn1/experiment_2\n",
      "Removed checkpoint at epoch 50 from checkpoints/repeat-03-adrenalmnist3d-28-5-100/repeat-03-adrenalmnist3d-28-5-100-ctcnn1/experiment_2\n"
     ]
    },
    {
     "name": "stderr",
     "output_type": "stream",
     "text": [
      " 53%|█████▎    | 53/100 [03:05<02:44,  3.50s/it]"
     ]
    },
    {
     "name": "stdout",
     "output_type": "stream",
     "text": [
      "Saved checkpoint at epoch 52 to checkpoints/repeat-03-adrenalmnist3d-28-5-100/repeat-03-adrenalmnist3d-28-5-100-ctcnn1/experiment_2\n",
      "Removed checkpoint at epoch 51 from checkpoints/repeat-03-adrenalmnist3d-28-5-100/repeat-03-adrenalmnist3d-28-5-100-ctcnn1/experiment_2\n"
     ]
    },
    {
     "name": "stderr",
     "output_type": "stream",
     "text": [
      " 54%|█████▍    | 54/100 [03:08<02:40,  3.50s/it]"
     ]
    },
    {
     "name": "stdout",
     "output_type": "stream",
     "text": [
      "Saved checkpoint at epoch 53 to checkpoints/repeat-03-adrenalmnist3d-28-5-100/repeat-03-adrenalmnist3d-28-5-100-ctcnn1/experiment_2\n",
      "Removed checkpoint at epoch 52 from checkpoints/repeat-03-adrenalmnist3d-28-5-100/repeat-03-adrenalmnist3d-28-5-100-ctcnn1/experiment_2\n"
     ]
    },
    {
     "name": "stderr",
     "output_type": "stream",
     "text": [
      " 55%|█████▌    | 55/100 [03:12<02:37,  3.50s/it]"
     ]
    },
    {
     "name": "stdout",
     "output_type": "stream",
     "text": [
      "Saved checkpoint at epoch 54 to checkpoints/repeat-03-adrenalmnist3d-28-5-100/repeat-03-adrenalmnist3d-28-5-100-ctcnn1/experiment_2\n",
      "Removed checkpoint at epoch 53 from checkpoints/repeat-03-adrenalmnist3d-28-5-100/repeat-03-adrenalmnist3d-28-5-100-ctcnn1/experiment_2\n"
     ]
    },
    {
     "name": "stderr",
     "output_type": "stream",
     "text": [
      " 56%|█████▌    | 56/100 [03:15<02:33,  3.50s/it]"
     ]
    },
    {
     "name": "stdout",
     "output_type": "stream",
     "text": [
      "Saved checkpoint at epoch 55 to checkpoints/repeat-03-adrenalmnist3d-28-5-100/repeat-03-adrenalmnist3d-28-5-100-ctcnn1/experiment_2\n",
      "Removed checkpoint at epoch 54 from checkpoints/repeat-03-adrenalmnist3d-28-5-100/repeat-03-adrenalmnist3d-28-5-100-ctcnn1/experiment_2\n"
     ]
    },
    {
     "name": "stderr",
     "output_type": "stream",
     "text": [
      " 57%|█████▋    | 57/100 [03:19<02:30,  3.50s/it]"
     ]
    },
    {
     "name": "stdout",
     "output_type": "stream",
     "text": [
      "Saved checkpoint at epoch 56 to checkpoints/repeat-03-adrenalmnist3d-28-5-100/repeat-03-adrenalmnist3d-28-5-100-ctcnn1/experiment_2\n",
      "Removed checkpoint at epoch 55 from checkpoints/repeat-03-adrenalmnist3d-28-5-100/repeat-03-adrenalmnist3d-28-5-100-ctcnn1/experiment_2\n"
     ]
    },
    {
     "name": "stderr",
     "output_type": "stream",
     "text": [
      " 58%|█████▊    | 58/100 [03:22<02:26,  3.50s/it]"
     ]
    },
    {
     "name": "stdout",
     "output_type": "stream",
     "text": [
      "Saved checkpoint at epoch 57 to checkpoints/repeat-03-adrenalmnist3d-28-5-100/repeat-03-adrenalmnist3d-28-5-100-ctcnn1/experiment_2\n",
      "Removed checkpoint at epoch 56 from checkpoints/repeat-03-adrenalmnist3d-28-5-100/repeat-03-adrenalmnist3d-28-5-100-ctcnn1/experiment_2\n"
     ]
    },
    {
     "name": "stderr",
     "output_type": "stream",
     "text": [
      " 59%|█████▉    | 59/100 [03:26<02:23,  3.50s/it]"
     ]
    },
    {
     "name": "stdout",
     "output_type": "stream",
     "text": [
      "Saved checkpoint at epoch 58 to checkpoints/repeat-03-adrenalmnist3d-28-5-100/repeat-03-adrenalmnist3d-28-5-100-ctcnn1/experiment_2\n",
      "Removed checkpoint at epoch 57 from checkpoints/repeat-03-adrenalmnist3d-28-5-100/repeat-03-adrenalmnist3d-28-5-100-ctcnn1/experiment_2\n"
     ]
    },
    {
     "name": "stderr",
     "output_type": "stream",
     "text": [
      " 60%|██████    | 60/100 [03:29<02:19,  3.50s/it]"
     ]
    },
    {
     "name": "stdout",
     "output_type": "stream",
     "text": [
      "Saved checkpoint at epoch 59 to checkpoints/repeat-03-adrenalmnist3d-28-5-100/repeat-03-adrenalmnist3d-28-5-100-ctcnn1/experiment_2\n",
      "Removed checkpoint at epoch 58 from checkpoints/repeat-03-adrenalmnist3d-28-5-100/repeat-03-adrenalmnist3d-28-5-100-ctcnn1/experiment_2\n"
     ]
    },
    {
     "name": "stderr",
     "output_type": "stream",
     "text": [
      " 61%|██████    | 61/100 [03:33<02:16,  3.50s/it]"
     ]
    },
    {
     "name": "stdout",
     "output_type": "stream",
     "text": [
      "Saved checkpoint at epoch 60 to checkpoints/repeat-03-adrenalmnist3d-28-5-100/repeat-03-adrenalmnist3d-28-5-100-ctcnn1/experiment_2\n",
      "Removed checkpoint at epoch 59 from checkpoints/repeat-03-adrenalmnist3d-28-5-100/repeat-03-adrenalmnist3d-28-5-100-ctcnn1/experiment_2\n"
     ]
    },
    {
     "name": "stderr",
     "output_type": "stream",
     "text": [
      " 62%|██████▏   | 62/100 [03:36<02:12,  3.50s/it]"
     ]
    },
    {
     "name": "stdout",
     "output_type": "stream",
     "text": [
      "Saved checkpoint at epoch 61 to checkpoints/repeat-03-adrenalmnist3d-28-5-100/repeat-03-adrenalmnist3d-28-5-100-ctcnn1/experiment_2\n",
      "Removed checkpoint at epoch 60 from checkpoints/repeat-03-adrenalmnist3d-28-5-100/repeat-03-adrenalmnist3d-28-5-100-ctcnn1/experiment_2\n"
     ]
    },
    {
     "name": "stderr",
     "output_type": "stream",
     "text": [
      " 63%|██████▎   | 63/100 [03:40<02:09,  3.50s/it]"
     ]
    },
    {
     "name": "stdout",
     "output_type": "stream",
     "text": [
      "Saved checkpoint at epoch 62 to checkpoints/repeat-03-adrenalmnist3d-28-5-100/repeat-03-adrenalmnist3d-28-5-100-ctcnn1/experiment_2\n",
      "Removed checkpoint at epoch 61 from checkpoints/repeat-03-adrenalmnist3d-28-5-100/repeat-03-adrenalmnist3d-28-5-100-ctcnn1/experiment_2\n"
     ]
    },
    {
     "name": "stderr",
     "output_type": "stream",
     "text": [
      " 64%|██████▍   | 64/100 [03:43<02:05,  3.50s/it]"
     ]
    },
    {
     "name": "stdout",
     "output_type": "stream",
     "text": [
      "Saved checkpoint at epoch 63 to checkpoints/repeat-03-adrenalmnist3d-28-5-100/repeat-03-adrenalmnist3d-28-5-100-ctcnn1/experiment_2\n",
      "Removed checkpoint at epoch 62 from checkpoints/repeat-03-adrenalmnist3d-28-5-100/repeat-03-adrenalmnist3d-28-5-100-ctcnn1/experiment_2\n"
     ]
    },
    {
     "name": "stderr",
     "output_type": "stream",
     "text": [
      " 65%|██████▌   | 65/100 [03:47<02:02,  3.50s/it]"
     ]
    },
    {
     "name": "stdout",
     "output_type": "stream",
     "text": [
      "Saved checkpoint at epoch 64 to checkpoints/repeat-03-adrenalmnist3d-28-5-100/repeat-03-adrenalmnist3d-28-5-100-ctcnn1/experiment_2\n",
      "Removed checkpoint at epoch 63 from checkpoints/repeat-03-adrenalmnist3d-28-5-100/repeat-03-adrenalmnist3d-28-5-100-ctcnn1/experiment_2\n"
     ]
    },
    {
     "name": "stderr",
     "output_type": "stream",
     "text": [
      " 66%|██████▌   | 66/100 [03:50<01:58,  3.50s/it]"
     ]
    },
    {
     "name": "stdout",
     "output_type": "stream",
     "text": [
      "Saved checkpoint at epoch 65 to checkpoints/repeat-03-adrenalmnist3d-28-5-100/repeat-03-adrenalmnist3d-28-5-100-ctcnn1/experiment_2\n",
      "Removed checkpoint at epoch 64 from checkpoints/repeat-03-adrenalmnist3d-28-5-100/repeat-03-adrenalmnist3d-28-5-100-ctcnn1/experiment_2\n"
     ]
    },
    {
     "name": "stderr",
     "output_type": "stream",
     "text": [
      " 67%|██████▋   | 67/100 [03:54<01:55,  3.50s/it]"
     ]
    },
    {
     "name": "stdout",
     "output_type": "stream",
     "text": [
      "Saved checkpoint at epoch 66 to checkpoints/repeat-03-adrenalmnist3d-28-5-100/repeat-03-adrenalmnist3d-28-5-100-ctcnn1/experiment_2\n",
      "Removed checkpoint at epoch 65 from checkpoints/repeat-03-adrenalmnist3d-28-5-100/repeat-03-adrenalmnist3d-28-5-100-ctcnn1/experiment_2\n"
     ]
    },
    {
     "name": "stderr",
     "output_type": "stream",
     "text": [
      " 68%|██████▊   | 68/100 [03:57<01:51,  3.50s/it]"
     ]
    },
    {
     "name": "stdout",
     "output_type": "stream",
     "text": [
      "Saved checkpoint at epoch 67 to checkpoints/repeat-03-adrenalmnist3d-28-5-100/repeat-03-adrenalmnist3d-28-5-100-ctcnn1/experiment_2\n",
      "Removed checkpoint at epoch 66 from checkpoints/repeat-03-adrenalmnist3d-28-5-100/repeat-03-adrenalmnist3d-28-5-100-ctcnn1/experiment_2\n"
     ]
    },
    {
     "name": "stderr",
     "output_type": "stream",
     "text": [
      " 69%|██████▉   | 69/100 [04:01<01:48,  3.50s/it]"
     ]
    },
    {
     "name": "stdout",
     "output_type": "stream",
     "text": [
      "Saved checkpoint at epoch 68 to checkpoints/repeat-03-adrenalmnist3d-28-5-100/repeat-03-adrenalmnist3d-28-5-100-ctcnn1/experiment_2\n",
      "Removed checkpoint at epoch 67 from checkpoints/repeat-03-adrenalmnist3d-28-5-100/repeat-03-adrenalmnist3d-28-5-100-ctcnn1/experiment_2\n"
     ]
    },
    {
     "name": "stderr",
     "output_type": "stream",
     "text": [
      " 70%|███████   | 70/100 [04:04<01:44,  3.50s/it]"
     ]
    },
    {
     "name": "stdout",
     "output_type": "stream",
     "text": [
      "Saved checkpoint at epoch 69 to checkpoints/repeat-03-adrenalmnist3d-28-5-100/repeat-03-adrenalmnist3d-28-5-100-ctcnn1/experiment_2\n",
      "Removed checkpoint at epoch 68 from checkpoints/repeat-03-adrenalmnist3d-28-5-100/repeat-03-adrenalmnist3d-28-5-100-ctcnn1/experiment_2\n"
     ]
    },
    {
     "name": "stderr",
     "output_type": "stream",
     "text": [
      " 71%|███████   | 71/100 [04:08<01:41,  3.50s/it]"
     ]
    },
    {
     "name": "stdout",
     "output_type": "stream",
     "text": [
      "Saved checkpoint at epoch 70 to checkpoints/repeat-03-adrenalmnist3d-28-5-100/repeat-03-adrenalmnist3d-28-5-100-ctcnn1/experiment_2\n",
      "Removed checkpoint at epoch 69 from checkpoints/repeat-03-adrenalmnist3d-28-5-100/repeat-03-adrenalmnist3d-28-5-100-ctcnn1/experiment_2\n"
     ]
    },
    {
     "name": "stderr",
     "output_type": "stream",
     "text": [
      " 72%|███████▏  | 72/100 [04:11<01:37,  3.50s/it]"
     ]
    },
    {
     "name": "stdout",
     "output_type": "stream",
     "text": [
      "Saved checkpoint at epoch 71 to checkpoints/repeat-03-adrenalmnist3d-28-5-100/repeat-03-adrenalmnist3d-28-5-100-ctcnn1/experiment_2\n",
      "Removed checkpoint at epoch 70 from checkpoints/repeat-03-adrenalmnist3d-28-5-100/repeat-03-adrenalmnist3d-28-5-100-ctcnn1/experiment_2\n"
     ]
    },
    {
     "name": "stderr",
     "output_type": "stream",
     "text": [
      " 73%|███████▎  | 73/100 [04:15<01:34,  3.50s/it]"
     ]
    },
    {
     "name": "stdout",
     "output_type": "stream",
     "text": [
      "Saved checkpoint at epoch 72 to checkpoints/repeat-03-adrenalmnist3d-28-5-100/repeat-03-adrenalmnist3d-28-5-100-ctcnn1/experiment_2\n",
      "Removed checkpoint at epoch 71 from checkpoints/repeat-03-adrenalmnist3d-28-5-100/repeat-03-adrenalmnist3d-28-5-100-ctcnn1/experiment_2\n"
     ]
    },
    {
     "name": "stderr",
     "output_type": "stream",
     "text": [
      " 74%|███████▍  | 74/100 [04:18<01:30,  3.50s/it]"
     ]
    },
    {
     "name": "stdout",
     "output_type": "stream",
     "text": [
      "Saved checkpoint at epoch 73 to checkpoints/repeat-03-adrenalmnist3d-28-5-100/repeat-03-adrenalmnist3d-28-5-100-ctcnn1/experiment_2\n",
      "Removed checkpoint at epoch 72 from checkpoints/repeat-03-adrenalmnist3d-28-5-100/repeat-03-adrenalmnist3d-28-5-100-ctcnn1/experiment_2\n"
     ]
    },
    {
     "name": "stderr",
     "output_type": "stream",
     "text": [
      " 75%|███████▌  | 75/100 [04:22<01:27,  3.50s/it]"
     ]
    },
    {
     "name": "stdout",
     "output_type": "stream",
     "text": [
      "Saved checkpoint at epoch 74 to checkpoints/repeat-03-adrenalmnist3d-28-5-100/repeat-03-adrenalmnist3d-28-5-100-ctcnn1/experiment_2\n",
      "Removed checkpoint at epoch 73 from checkpoints/repeat-03-adrenalmnist3d-28-5-100/repeat-03-adrenalmnist3d-28-5-100-ctcnn1/experiment_2\n"
     ]
    },
    {
     "name": "stderr",
     "output_type": "stream",
     "text": [
      " 76%|███████▌  | 76/100 [04:25<01:23,  3.50s/it]"
     ]
    },
    {
     "name": "stdout",
     "output_type": "stream",
     "text": [
      "Saved checkpoint at epoch 75 to checkpoints/repeat-03-adrenalmnist3d-28-5-100/repeat-03-adrenalmnist3d-28-5-100-ctcnn1/experiment_2\n",
      "Removed checkpoint at epoch 74 from checkpoints/repeat-03-adrenalmnist3d-28-5-100/repeat-03-adrenalmnist3d-28-5-100-ctcnn1/experiment_2\n"
     ]
    },
    {
     "name": "stderr",
     "output_type": "stream",
     "text": [
      " 77%|███████▋  | 77/100 [04:29<01:20,  3.50s/it]"
     ]
    },
    {
     "name": "stdout",
     "output_type": "stream",
     "text": [
      "Saved checkpoint at epoch 76 to checkpoints/repeat-03-adrenalmnist3d-28-5-100/repeat-03-adrenalmnist3d-28-5-100-ctcnn1/experiment_2\n",
      "Removed checkpoint at epoch 75 from checkpoints/repeat-03-adrenalmnist3d-28-5-100/repeat-03-adrenalmnist3d-28-5-100-ctcnn1/experiment_2\n"
     ]
    },
    {
     "name": "stderr",
     "output_type": "stream",
     "text": [
      " 78%|███████▊  | 78/100 [04:32<01:16,  3.50s/it]"
     ]
    },
    {
     "name": "stdout",
     "output_type": "stream",
     "text": [
      "Saved checkpoint at epoch 77 to checkpoints/repeat-03-adrenalmnist3d-28-5-100/repeat-03-adrenalmnist3d-28-5-100-ctcnn1/experiment_2\n",
      "Removed checkpoint at epoch 76 from checkpoints/repeat-03-adrenalmnist3d-28-5-100/repeat-03-adrenalmnist3d-28-5-100-ctcnn1/experiment_2\n"
     ]
    },
    {
     "name": "stderr",
     "output_type": "stream",
     "text": [
      " 79%|███████▉  | 79/100 [04:36<01:13,  3.50s/it]"
     ]
    },
    {
     "name": "stdout",
     "output_type": "stream",
     "text": [
      "Saved checkpoint at epoch 78 to checkpoints/repeat-03-adrenalmnist3d-28-5-100/repeat-03-adrenalmnist3d-28-5-100-ctcnn1/experiment_2\n",
      "Removed checkpoint at epoch 77 from checkpoints/repeat-03-adrenalmnist3d-28-5-100/repeat-03-adrenalmnist3d-28-5-100-ctcnn1/experiment_2\n"
     ]
    },
    {
     "name": "stderr",
     "output_type": "stream",
     "text": [
      " 80%|████████  | 80/100 [04:39<01:09,  3.50s/it]"
     ]
    },
    {
     "name": "stdout",
     "output_type": "stream",
     "text": [
      "Saved checkpoint at epoch 79 to checkpoints/repeat-03-adrenalmnist3d-28-5-100/repeat-03-adrenalmnist3d-28-5-100-ctcnn1/experiment_2\n",
      "Removed checkpoint at epoch 78 from checkpoints/repeat-03-adrenalmnist3d-28-5-100/repeat-03-adrenalmnist3d-28-5-100-ctcnn1/experiment_2\n"
     ]
    },
    {
     "name": "stderr",
     "output_type": "stream",
     "text": [
      " 81%|████████  | 81/100 [04:43<01:06,  3.50s/it]"
     ]
    },
    {
     "name": "stdout",
     "output_type": "stream",
     "text": [
      "Saved checkpoint at epoch 80 to checkpoints/repeat-03-adrenalmnist3d-28-5-100/repeat-03-adrenalmnist3d-28-5-100-ctcnn1/experiment_2\n",
      "Removed checkpoint at epoch 79 from checkpoints/repeat-03-adrenalmnist3d-28-5-100/repeat-03-adrenalmnist3d-28-5-100-ctcnn1/experiment_2\n"
     ]
    },
    {
     "name": "stderr",
     "output_type": "stream",
     "text": [
      " 82%|████████▏ | 82/100 [04:46<01:02,  3.50s/it]"
     ]
    },
    {
     "name": "stdout",
     "output_type": "stream",
     "text": [
      "Saved checkpoint at epoch 81 to checkpoints/repeat-03-adrenalmnist3d-28-5-100/repeat-03-adrenalmnist3d-28-5-100-ctcnn1/experiment_2\n",
      "Removed checkpoint at epoch 80 from checkpoints/repeat-03-adrenalmnist3d-28-5-100/repeat-03-adrenalmnist3d-28-5-100-ctcnn1/experiment_2\n"
     ]
    },
    {
     "name": "stderr",
     "output_type": "stream",
     "text": [
      " 83%|████████▎ | 83/100 [04:50<00:59,  3.50s/it]"
     ]
    },
    {
     "name": "stdout",
     "output_type": "stream",
     "text": [
      "Saved checkpoint at epoch 82 to checkpoints/repeat-03-adrenalmnist3d-28-5-100/repeat-03-adrenalmnist3d-28-5-100-ctcnn1/experiment_2\n",
      "Removed checkpoint at epoch 81 from checkpoints/repeat-03-adrenalmnist3d-28-5-100/repeat-03-adrenalmnist3d-28-5-100-ctcnn1/experiment_2\n"
     ]
    },
    {
     "name": "stderr",
     "output_type": "stream",
     "text": [
      " 84%|████████▍ | 84/100 [04:53<00:55,  3.50s/it]"
     ]
    },
    {
     "name": "stdout",
     "output_type": "stream",
     "text": [
      "Saved checkpoint at epoch 83 to checkpoints/repeat-03-adrenalmnist3d-28-5-100/repeat-03-adrenalmnist3d-28-5-100-ctcnn1/experiment_2\n",
      "Removed checkpoint at epoch 82 from checkpoints/repeat-03-adrenalmnist3d-28-5-100/repeat-03-adrenalmnist3d-28-5-100-ctcnn1/experiment_2\n"
     ]
    },
    {
     "name": "stderr",
     "output_type": "stream",
     "text": [
      " 85%|████████▌ | 85/100 [04:57<00:52,  3.50s/it]"
     ]
    },
    {
     "name": "stdout",
     "output_type": "stream",
     "text": [
      "Saved checkpoint at epoch 84 to checkpoints/repeat-03-adrenalmnist3d-28-5-100/repeat-03-adrenalmnist3d-28-5-100-ctcnn1/experiment_2\n",
      "Removed checkpoint at epoch 83 from checkpoints/repeat-03-adrenalmnist3d-28-5-100/repeat-03-adrenalmnist3d-28-5-100-ctcnn1/experiment_2\n"
     ]
    },
    {
     "name": "stderr",
     "output_type": "stream",
     "text": [
      " 86%|████████▌ | 86/100 [05:00<00:48,  3.50s/it]"
     ]
    },
    {
     "name": "stdout",
     "output_type": "stream",
     "text": [
      "Saved checkpoint at epoch 85 to checkpoints/repeat-03-adrenalmnist3d-28-5-100/repeat-03-adrenalmnist3d-28-5-100-ctcnn1/experiment_2\n",
      "Removed checkpoint at epoch 84 from checkpoints/repeat-03-adrenalmnist3d-28-5-100/repeat-03-adrenalmnist3d-28-5-100-ctcnn1/experiment_2\n"
     ]
    },
    {
     "name": "stderr",
     "output_type": "stream",
     "text": [
      " 87%|████████▋ | 87/100 [05:04<00:45,  3.50s/it]"
     ]
    },
    {
     "name": "stdout",
     "output_type": "stream",
     "text": [
      "Saved checkpoint at epoch 86 to checkpoints/repeat-03-adrenalmnist3d-28-5-100/repeat-03-adrenalmnist3d-28-5-100-ctcnn1/experiment_2\n",
      "Removed checkpoint at epoch 85 from checkpoints/repeat-03-adrenalmnist3d-28-5-100/repeat-03-adrenalmnist3d-28-5-100-ctcnn1/experiment_2\n"
     ]
    },
    {
     "name": "stderr",
     "output_type": "stream",
     "text": [
      " 88%|████████▊ | 88/100 [05:07<00:41,  3.50s/it]"
     ]
    },
    {
     "name": "stdout",
     "output_type": "stream",
     "text": [
      "Saved checkpoint at epoch 87 to checkpoints/repeat-03-adrenalmnist3d-28-5-100/repeat-03-adrenalmnist3d-28-5-100-ctcnn1/experiment_2\n",
      "Removed checkpoint at epoch 86 from checkpoints/repeat-03-adrenalmnist3d-28-5-100/repeat-03-adrenalmnist3d-28-5-100-ctcnn1/experiment_2\n"
     ]
    },
    {
     "name": "stderr",
     "output_type": "stream",
     "text": [
      " 89%|████████▉ | 89/100 [05:11<00:38,  3.50s/it]"
     ]
    },
    {
     "name": "stdout",
     "output_type": "stream",
     "text": [
      "Saved checkpoint at epoch 88 to checkpoints/repeat-03-adrenalmnist3d-28-5-100/repeat-03-adrenalmnist3d-28-5-100-ctcnn1/experiment_2\n",
      "Removed checkpoint at epoch 87 from checkpoints/repeat-03-adrenalmnist3d-28-5-100/repeat-03-adrenalmnist3d-28-5-100-ctcnn1/experiment_2\n"
     ]
    },
    {
     "name": "stderr",
     "output_type": "stream",
     "text": [
      " 90%|█████████ | 90/100 [05:14<00:34,  3.50s/it]"
     ]
    },
    {
     "name": "stdout",
     "output_type": "stream",
     "text": [
      "Saved checkpoint at epoch 89 to checkpoints/repeat-03-adrenalmnist3d-28-5-100/repeat-03-adrenalmnist3d-28-5-100-ctcnn1/experiment_2\n",
      "Removed checkpoint at epoch 88 from checkpoints/repeat-03-adrenalmnist3d-28-5-100/repeat-03-adrenalmnist3d-28-5-100-ctcnn1/experiment_2\n"
     ]
    },
    {
     "name": "stderr",
     "output_type": "stream",
     "text": [
      " 91%|█████████ | 91/100 [05:18<00:31,  3.50s/it]"
     ]
    },
    {
     "name": "stdout",
     "output_type": "stream",
     "text": [
      "Saved checkpoint at epoch 90 to checkpoints/repeat-03-adrenalmnist3d-28-5-100/repeat-03-adrenalmnist3d-28-5-100-ctcnn1/experiment_2\n",
      "Removed checkpoint at epoch 89 from checkpoints/repeat-03-adrenalmnist3d-28-5-100/repeat-03-adrenalmnist3d-28-5-100-ctcnn1/experiment_2\n"
     ]
    },
    {
     "name": "stderr",
     "output_type": "stream",
     "text": [
      " 92%|█████████▏| 92/100 [05:21<00:27,  3.50s/it]"
     ]
    },
    {
     "name": "stdout",
     "output_type": "stream",
     "text": [
      "Saved checkpoint at epoch 91 to checkpoints/repeat-03-adrenalmnist3d-28-5-100/repeat-03-adrenalmnist3d-28-5-100-ctcnn1/experiment_2\n",
      "Removed checkpoint at epoch 90 from checkpoints/repeat-03-adrenalmnist3d-28-5-100/repeat-03-adrenalmnist3d-28-5-100-ctcnn1/experiment_2\n"
     ]
    },
    {
     "name": "stderr",
     "output_type": "stream",
     "text": [
      " 93%|█████████▎| 93/100 [05:25<00:24,  3.50s/it]"
     ]
    },
    {
     "name": "stdout",
     "output_type": "stream",
     "text": [
      "Saved checkpoint at epoch 92 to checkpoints/repeat-03-adrenalmnist3d-28-5-100/repeat-03-adrenalmnist3d-28-5-100-ctcnn1/experiment_2\n",
      "Removed checkpoint at epoch 91 from checkpoints/repeat-03-adrenalmnist3d-28-5-100/repeat-03-adrenalmnist3d-28-5-100-ctcnn1/experiment_2\n"
     ]
    },
    {
     "name": "stderr",
     "output_type": "stream",
     "text": [
      " 94%|█████████▍| 94/100 [05:28<00:20,  3.50s/it]"
     ]
    },
    {
     "name": "stdout",
     "output_type": "stream",
     "text": [
      "Saved checkpoint at epoch 93 to checkpoints/repeat-03-adrenalmnist3d-28-5-100/repeat-03-adrenalmnist3d-28-5-100-ctcnn1/experiment_2\n",
      "Removed checkpoint at epoch 92 from checkpoints/repeat-03-adrenalmnist3d-28-5-100/repeat-03-adrenalmnist3d-28-5-100-ctcnn1/experiment_2\n"
     ]
    },
    {
     "name": "stderr",
     "output_type": "stream",
     "text": [
      " 95%|█████████▌| 95/100 [05:32<00:17,  3.50s/it]"
     ]
    },
    {
     "name": "stdout",
     "output_type": "stream",
     "text": [
      "Saved checkpoint at epoch 94 to checkpoints/repeat-03-adrenalmnist3d-28-5-100/repeat-03-adrenalmnist3d-28-5-100-ctcnn1/experiment_2\n",
      "Removed checkpoint at epoch 93 from checkpoints/repeat-03-adrenalmnist3d-28-5-100/repeat-03-adrenalmnist3d-28-5-100-ctcnn1/experiment_2\n"
     ]
    },
    {
     "name": "stderr",
     "output_type": "stream",
     "text": [
      " 96%|█████████▌| 96/100 [05:35<00:13,  3.50s/it]"
     ]
    },
    {
     "name": "stdout",
     "output_type": "stream",
     "text": [
      "Saved checkpoint at epoch 95 to checkpoints/repeat-03-adrenalmnist3d-28-5-100/repeat-03-adrenalmnist3d-28-5-100-ctcnn1/experiment_2\n",
      "Removed checkpoint at epoch 94 from checkpoints/repeat-03-adrenalmnist3d-28-5-100/repeat-03-adrenalmnist3d-28-5-100-ctcnn1/experiment_2\n"
     ]
    },
    {
     "name": "stderr",
     "output_type": "stream",
     "text": [
      " 97%|█████████▋| 97/100 [05:39<00:10,  3.50s/it]"
     ]
    },
    {
     "name": "stdout",
     "output_type": "stream",
     "text": [
      "Saved checkpoint at epoch 96 to checkpoints/repeat-03-adrenalmnist3d-28-5-100/repeat-03-adrenalmnist3d-28-5-100-ctcnn1/experiment_2\n",
      "Removed checkpoint at epoch 95 from checkpoints/repeat-03-adrenalmnist3d-28-5-100/repeat-03-adrenalmnist3d-28-5-100-ctcnn1/experiment_2\n"
     ]
    },
    {
     "name": "stderr",
     "output_type": "stream",
     "text": [
      " 98%|█████████▊| 98/100 [05:42<00:06,  3.50s/it]"
     ]
    },
    {
     "name": "stdout",
     "output_type": "stream",
     "text": [
      "Saved checkpoint at epoch 97 to checkpoints/repeat-03-adrenalmnist3d-28-5-100/repeat-03-adrenalmnist3d-28-5-100-ctcnn1/experiment_2\n",
      "Removed checkpoint at epoch 96 from checkpoints/repeat-03-adrenalmnist3d-28-5-100/repeat-03-adrenalmnist3d-28-5-100-ctcnn1/experiment_2\n"
     ]
    },
    {
     "name": "stderr",
     "output_type": "stream",
     "text": [
      " 99%|█████████▉| 99/100 [05:46<00:03,  3.50s/it]"
     ]
    },
    {
     "name": "stdout",
     "output_type": "stream",
     "text": [
      "Saved checkpoint at epoch 98 to checkpoints/repeat-03-adrenalmnist3d-28-5-100/repeat-03-adrenalmnist3d-28-5-100-ctcnn1/experiment_2\n",
      "Removed checkpoint at epoch 97 from checkpoints/repeat-03-adrenalmnist3d-28-5-100/repeat-03-adrenalmnist3d-28-5-100-ctcnn1/experiment_2\n"
     ]
    },
    {
     "name": "stderr",
     "output_type": "stream",
     "text": [
      "100%|██████████| 100/100 [05:49<00:00,  3.50s/it]\n"
     ]
    },
    {
     "name": "stdout",
     "output_type": "stream",
     "text": [
      "Saved checkpoint at epoch 99 to checkpoints/repeat-03-adrenalmnist3d-28-5-100/repeat-03-adrenalmnist3d-28-5-100-ctcnn1/experiment_2\n",
      "Removed checkpoint at epoch 98 from checkpoints/repeat-03-adrenalmnist3d-28-5-100/repeat-03-adrenalmnist3d-28-5-100-ctcnn1/experiment_2\n",
      "Training time: 349.67s and Average time per epoch: 3.50s\n",
      "Test Accuracy: 224/298 (75.16779%)\n",
      "\n",
      "Test AUC Score: 0.80723 Precision: 0.43902 Recall: 0.26087 F1: 0.32727\n",
      "Result for experiment 2/5: acc: 75.16779 \tauc: 0.80723\n",
      "recall: 0.26087 \tprecision: 0.43902 \tf1: 0.32727\n",
      "Running experiment 3/5\n",
      "Checkpoints will be saved in checkpoints/repeat-03-adrenalmnist3d-28-5-100/repeat-03-adrenalmnist3d-28-5-100-ctcnn1/experiment_3\n",
      "No checkpoints found\n",
      "Training on cuda and 1 GPUs:\n",
      "Device 0: NVIDIA GeForce RTX 4090\n",
      "Model parameters: 263243(0.25105MB)\n",
      "Start training from epoch 0 to 100\n"
     ]
    },
    {
     "name": "stderr",
     "output_type": "stream",
     "text": [
      "  1%|          | 1/100 [00:03<05:46,  3.50s/it]"
     ]
    },
    {
     "name": "stdout",
     "output_type": "stream",
     "text": [
      "saved best checkpoint at epoch 0 to checkpoints/repeat-03-adrenalmnist3d-28-5-100/repeat-03-adrenalmnist3d-28-5-100-ctcnn1/experiment_3\n",
      "Saved checkpoint at epoch 0 to checkpoints/repeat-03-adrenalmnist3d-28-5-100/repeat-03-adrenalmnist3d-28-5-100-ctcnn1/experiment_3\n"
     ]
    },
    {
     "name": "stderr",
     "output_type": "stream",
     "text": [
      "  2%|▏         | 2/100 [00:06<05:42,  3.50s/it]"
     ]
    },
    {
     "name": "stdout",
     "output_type": "stream",
     "text": [
      "Saved checkpoint at epoch 1 to checkpoints/repeat-03-adrenalmnist3d-28-5-100/repeat-03-adrenalmnist3d-28-5-100-ctcnn1/experiment_3\n",
      "Removed checkpoint at epoch 0 from checkpoints/repeat-03-adrenalmnist3d-28-5-100/repeat-03-adrenalmnist3d-28-5-100-ctcnn1/experiment_3\n"
     ]
    },
    {
     "name": "stderr",
     "output_type": "stream",
     "text": [
      "  3%|▎         | 3/100 [00:10<05:39,  3.50s/it]"
     ]
    },
    {
     "name": "stdout",
     "output_type": "stream",
     "text": [
      "Saved checkpoint at epoch 2 to checkpoints/repeat-03-adrenalmnist3d-28-5-100/repeat-03-adrenalmnist3d-28-5-100-ctcnn1/experiment_3\n",
      "Removed checkpoint at epoch 1 from checkpoints/repeat-03-adrenalmnist3d-28-5-100/repeat-03-adrenalmnist3d-28-5-100-ctcnn1/experiment_3\n"
     ]
    },
    {
     "name": "stderr",
     "output_type": "stream",
     "text": [
      "  4%|▍         | 4/100 [00:13<05:35,  3.50s/it]"
     ]
    },
    {
     "name": "stdout",
     "output_type": "stream",
     "text": [
      "Saved checkpoint at epoch 3 to checkpoints/repeat-03-adrenalmnist3d-28-5-100/repeat-03-adrenalmnist3d-28-5-100-ctcnn1/experiment_3\n",
      "Removed checkpoint at epoch 2 from checkpoints/repeat-03-adrenalmnist3d-28-5-100/repeat-03-adrenalmnist3d-28-5-100-ctcnn1/experiment_3\n"
     ]
    },
    {
     "name": "stderr",
     "output_type": "stream",
     "text": [
      "  5%|▌         | 5/100 [00:17<05:32,  3.50s/it]"
     ]
    },
    {
     "name": "stdout",
     "output_type": "stream",
     "text": [
      "Saved checkpoint at epoch 4 to checkpoints/repeat-03-adrenalmnist3d-28-5-100/repeat-03-adrenalmnist3d-28-5-100-ctcnn1/experiment_3\n",
      "Removed checkpoint at epoch 3 from checkpoints/repeat-03-adrenalmnist3d-28-5-100/repeat-03-adrenalmnist3d-28-5-100-ctcnn1/experiment_3\n"
     ]
    },
    {
     "name": "stderr",
     "output_type": "stream",
     "text": [
      "  6%|▌         | 6/100 [00:20<05:28,  3.50s/it]"
     ]
    },
    {
     "name": "stdout",
     "output_type": "stream",
     "text": [
      "Saved checkpoint at epoch 5 to checkpoints/repeat-03-adrenalmnist3d-28-5-100/repeat-03-adrenalmnist3d-28-5-100-ctcnn1/experiment_3\n",
      "Removed checkpoint at epoch 4 from checkpoints/repeat-03-adrenalmnist3d-28-5-100/repeat-03-adrenalmnist3d-28-5-100-ctcnn1/experiment_3\n"
     ]
    },
    {
     "name": "stderr",
     "output_type": "stream",
     "text": [
      "  7%|▋         | 7/100 [00:24<05:25,  3.50s/it]"
     ]
    },
    {
     "name": "stdout",
     "output_type": "stream",
     "text": [
      "Saved checkpoint at epoch 6 to checkpoints/repeat-03-adrenalmnist3d-28-5-100/repeat-03-adrenalmnist3d-28-5-100-ctcnn1/experiment_3\n",
      "Removed checkpoint at epoch 5 from checkpoints/repeat-03-adrenalmnist3d-28-5-100/repeat-03-adrenalmnist3d-28-5-100-ctcnn1/experiment_3\n"
     ]
    },
    {
     "name": "stderr",
     "output_type": "stream",
     "text": [
      "  8%|▊         | 8/100 [00:27<05:21,  3.50s/it]"
     ]
    },
    {
     "name": "stdout",
     "output_type": "stream",
     "text": [
      "Saved checkpoint at epoch 7 to checkpoints/repeat-03-adrenalmnist3d-28-5-100/repeat-03-adrenalmnist3d-28-5-100-ctcnn1/experiment_3\n",
      "Removed checkpoint at epoch 6 from checkpoints/repeat-03-adrenalmnist3d-28-5-100/repeat-03-adrenalmnist3d-28-5-100-ctcnn1/experiment_3\n"
     ]
    },
    {
     "name": "stderr",
     "output_type": "stream",
     "text": [
      "  9%|▉         | 9/100 [00:31<05:18,  3.50s/it]"
     ]
    },
    {
     "name": "stdout",
     "output_type": "stream",
     "text": [
      "Saved checkpoint at epoch 8 to checkpoints/repeat-03-adrenalmnist3d-28-5-100/repeat-03-adrenalmnist3d-28-5-100-ctcnn1/experiment_3\n",
      "Removed checkpoint at epoch 7 from checkpoints/repeat-03-adrenalmnist3d-28-5-100/repeat-03-adrenalmnist3d-28-5-100-ctcnn1/experiment_3\n"
     ]
    },
    {
     "name": "stderr",
     "output_type": "stream",
     "text": [
      " 10%|█         | 10/100 [00:34<05:14,  3.50s/it]"
     ]
    },
    {
     "name": "stdout",
     "output_type": "stream",
     "text": [
      "Saved checkpoint at epoch 9 to checkpoints/repeat-03-adrenalmnist3d-28-5-100/repeat-03-adrenalmnist3d-28-5-100-ctcnn1/experiment_3\n",
      "Removed checkpoint at epoch 8 from checkpoints/repeat-03-adrenalmnist3d-28-5-100/repeat-03-adrenalmnist3d-28-5-100-ctcnn1/experiment_3\n"
     ]
    },
    {
     "name": "stderr",
     "output_type": "stream",
     "text": [
      " 11%|█         | 11/100 [00:38<05:11,  3.50s/it]"
     ]
    },
    {
     "name": "stdout",
     "output_type": "stream",
     "text": [
      "Saved checkpoint at epoch 10 to checkpoints/repeat-03-adrenalmnist3d-28-5-100/repeat-03-adrenalmnist3d-28-5-100-ctcnn1/experiment_3\n",
      "Removed checkpoint at epoch 9 from checkpoints/repeat-03-adrenalmnist3d-28-5-100/repeat-03-adrenalmnist3d-28-5-100-ctcnn1/experiment_3\n"
     ]
    },
    {
     "name": "stderr",
     "output_type": "stream",
     "text": [
      " 12%|█▏        | 12/100 [00:41<05:07,  3.50s/it]"
     ]
    },
    {
     "name": "stdout",
     "output_type": "stream",
     "text": [
      "saved best checkpoint at epoch 11 to checkpoints/repeat-03-adrenalmnist3d-28-5-100/repeat-03-adrenalmnist3d-28-5-100-ctcnn1/experiment_3\n",
      "Saved checkpoint at epoch 11 to checkpoints/repeat-03-adrenalmnist3d-28-5-100/repeat-03-adrenalmnist3d-28-5-100-ctcnn1/experiment_3\n",
      "Removed checkpoint at epoch 10 from checkpoints/repeat-03-adrenalmnist3d-28-5-100/repeat-03-adrenalmnist3d-28-5-100-ctcnn1/experiment_3\n"
     ]
    },
    {
     "name": "stderr",
     "output_type": "stream",
     "text": [
      " 13%|█▎        | 13/100 [00:45<05:04,  3.50s/it]"
     ]
    },
    {
     "name": "stdout",
     "output_type": "stream",
     "text": [
      "Saved checkpoint at epoch 12 to checkpoints/repeat-03-adrenalmnist3d-28-5-100/repeat-03-adrenalmnist3d-28-5-100-ctcnn1/experiment_3\n",
      "Removed checkpoint at epoch 11 from checkpoints/repeat-03-adrenalmnist3d-28-5-100/repeat-03-adrenalmnist3d-28-5-100-ctcnn1/experiment_3\n"
     ]
    },
    {
     "name": "stderr",
     "output_type": "stream",
     "text": [
      " 14%|█▍        | 14/100 [00:48<05:00,  3.50s/it]"
     ]
    },
    {
     "name": "stdout",
     "output_type": "stream",
     "text": [
      "Saved checkpoint at epoch 13 to checkpoints/repeat-03-adrenalmnist3d-28-5-100/repeat-03-adrenalmnist3d-28-5-100-ctcnn1/experiment_3\n",
      "Removed checkpoint at epoch 12 from checkpoints/repeat-03-adrenalmnist3d-28-5-100/repeat-03-adrenalmnist3d-28-5-100-ctcnn1/experiment_3\n"
     ]
    },
    {
     "name": "stderr",
     "output_type": "stream",
     "text": [
      " 15%|█▌        | 15/100 [00:52<04:57,  3.50s/it]"
     ]
    },
    {
     "name": "stdout",
     "output_type": "stream",
     "text": [
      "Saved checkpoint at epoch 14 to checkpoints/repeat-03-adrenalmnist3d-28-5-100/repeat-03-adrenalmnist3d-28-5-100-ctcnn1/experiment_3\n",
      "Removed checkpoint at epoch 13 from checkpoints/repeat-03-adrenalmnist3d-28-5-100/repeat-03-adrenalmnist3d-28-5-100-ctcnn1/experiment_3\n"
     ]
    },
    {
     "name": "stderr",
     "output_type": "stream",
     "text": [
      " 16%|█▌        | 16/100 [00:55<04:53,  3.50s/it]"
     ]
    },
    {
     "name": "stdout",
     "output_type": "stream",
     "text": [
      "Saved checkpoint at epoch 15 to checkpoints/repeat-03-adrenalmnist3d-28-5-100/repeat-03-adrenalmnist3d-28-5-100-ctcnn1/experiment_3\n",
      "Removed checkpoint at epoch 14 from checkpoints/repeat-03-adrenalmnist3d-28-5-100/repeat-03-adrenalmnist3d-28-5-100-ctcnn1/experiment_3\n"
     ]
    },
    {
     "name": "stderr",
     "output_type": "stream",
     "text": [
      " 17%|█▋        | 17/100 [00:59<04:50,  3.50s/it]"
     ]
    },
    {
     "name": "stdout",
     "output_type": "stream",
     "text": [
      "Saved checkpoint at epoch 16 to checkpoints/repeat-03-adrenalmnist3d-28-5-100/repeat-03-adrenalmnist3d-28-5-100-ctcnn1/experiment_3\n",
      "Removed checkpoint at epoch 15 from checkpoints/repeat-03-adrenalmnist3d-28-5-100/repeat-03-adrenalmnist3d-28-5-100-ctcnn1/experiment_3\n"
     ]
    },
    {
     "name": "stderr",
     "output_type": "stream",
     "text": [
      " 18%|█▊        | 18/100 [01:02<04:46,  3.50s/it]"
     ]
    },
    {
     "name": "stdout",
     "output_type": "stream",
     "text": [
      "Saved checkpoint at epoch 17 to checkpoints/repeat-03-adrenalmnist3d-28-5-100/repeat-03-adrenalmnist3d-28-5-100-ctcnn1/experiment_3\n",
      "Removed checkpoint at epoch 16 from checkpoints/repeat-03-adrenalmnist3d-28-5-100/repeat-03-adrenalmnist3d-28-5-100-ctcnn1/experiment_3\n"
     ]
    },
    {
     "name": "stderr",
     "output_type": "stream",
     "text": [
      " 19%|█▉        | 19/100 [01:06<04:43,  3.50s/it]"
     ]
    },
    {
     "name": "stdout",
     "output_type": "stream",
     "text": [
      "Saved checkpoint at epoch 18 to checkpoints/repeat-03-adrenalmnist3d-28-5-100/repeat-03-adrenalmnist3d-28-5-100-ctcnn1/experiment_3\n",
      "Removed checkpoint at epoch 17 from checkpoints/repeat-03-adrenalmnist3d-28-5-100/repeat-03-adrenalmnist3d-28-5-100-ctcnn1/experiment_3\n"
     ]
    },
    {
     "name": "stderr",
     "output_type": "stream",
     "text": [
      " 20%|██        | 20/100 [01:09<04:39,  3.50s/it]"
     ]
    },
    {
     "name": "stdout",
     "output_type": "stream",
     "text": [
      "Saved checkpoint at epoch 19 to checkpoints/repeat-03-adrenalmnist3d-28-5-100/repeat-03-adrenalmnist3d-28-5-100-ctcnn1/experiment_3\n",
      "Removed checkpoint at epoch 18 from checkpoints/repeat-03-adrenalmnist3d-28-5-100/repeat-03-adrenalmnist3d-28-5-100-ctcnn1/experiment_3\n"
     ]
    },
    {
     "name": "stderr",
     "output_type": "stream",
     "text": [
      " 21%|██        | 21/100 [01:13<04:36,  3.50s/it]"
     ]
    },
    {
     "name": "stdout",
     "output_type": "stream",
     "text": [
      "Saved checkpoint at epoch 20 to checkpoints/repeat-03-adrenalmnist3d-28-5-100/repeat-03-adrenalmnist3d-28-5-100-ctcnn1/experiment_3\n",
      "Removed checkpoint at epoch 19 from checkpoints/repeat-03-adrenalmnist3d-28-5-100/repeat-03-adrenalmnist3d-28-5-100-ctcnn1/experiment_3\n"
     ]
    },
    {
     "name": "stderr",
     "output_type": "stream",
     "text": [
      " 22%|██▏       | 22/100 [01:16<04:32,  3.50s/it]"
     ]
    },
    {
     "name": "stdout",
     "output_type": "stream",
     "text": [
      "Saved checkpoint at epoch 21 to checkpoints/repeat-03-adrenalmnist3d-28-5-100/repeat-03-adrenalmnist3d-28-5-100-ctcnn1/experiment_3\n",
      "Removed checkpoint at epoch 20 from checkpoints/repeat-03-adrenalmnist3d-28-5-100/repeat-03-adrenalmnist3d-28-5-100-ctcnn1/experiment_3\n"
     ]
    },
    {
     "name": "stderr",
     "output_type": "stream",
     "text": [
      " 23%|██▎       | 23/100 [01:20<04:29,  3.50s/it]"
     ]
    },
    {
     "name": "stdout",
     "output_type": "stream",
     "text": [
      "saved best checkpoint at epoch 22 to checkpoints/repeat-03-adrenalmnist3d-28-5-100/repeat-03-adrenalmnist3d-28-5-100-ctcnn1/experiment_3\n",
      "Saved checkpoint at epoch 22 to checkpoints/repeat-03-adrenalmnist3d-28-5-100/repeat-03-adrenalmnist3d-28-5-100-ctcnn1/experiment_3\n",
      "Removed checkpoint at epoch 21 from checkpoints/repeat-03-adrenalmnist3d-28-5-100/repeat-03-adrenalmnist3d-28-5-100-ctcnn1/experiment_3\n"
     ]
    },
    {
     "name": "stderr",
     "output_type": "stream",
     "text": [
      " 24%|██▍       | 24/100 [01:23<04:25,  3.50s/it]"
     ]
    },
    {
     "name": "stdout",
     "output_type": "stream",
     "text": [
      "Saved checkpoint at epoch 23 to checkpoints/repeat-03-adrenalmnist3d-28-5-100/repeat-03-adrenalmnist3d-28-5-100-ctcnn1/experiment_3\n",
      "Removed checkpoint at epoch 22 from checkpoints/repeat-03-adrenalmnist3d-28-5-100/repeat-03-adrenalmnist3d-28-5-100-ctcnn1/experiment_3\n"
     ]
    },
    {
     "name": "stderr",
     "output_type": "stream",
     "text": [
      " 25%|██▌       | 25/100 [01:27<04:22,  3.50s/it]"
     ]
    },
    {
     "name": "stdout",
     "output_type": "stream",
     "text": [
      "saved best checkpoint at epoch 24 to checkpoints/repeat-03-adrenalmnist3d-28-5-100/repeat-03-adrenalmnist3d-28-5-100-ctcnn1/experiment_3\n",
      "Saved checkpoint at epoch 24 to checkpoints/repeat-03-adrenalmnist3d-28-5-100/repeat-03-adrenalmnist3d-28-5-100-ctcnn1/experiment_3\n",
      "Removed checkpoint at epoch 23 from checkpoints/repeat-03-adrenalmnist3d-28-5-100/repeat-03-adrenalmnist3d-28-5-100-ctcnn1/experiment_3\n"
     ]
    },
    {
     "name": "stderr",
     "output_type": "stream",
     "text": [
      " 26%|██▌       | 26/100 [01:30<04:18,  3.50s/it]"
     ]
    },
    {
     "name": "stdout",
     "output_type": "stream",
     "text": [
      "Saved checkpoint at epoch 25 to checkpoints/repeat-03-adrenalmnist3d-28-5-100/repeat-03-adrenalmnist3d-28-5-100-ctcnn1/experiment_3\n",
      "Removed checkpoint at epoch 24 from checkpoints/repeat-03-adrenalmnist3d-28-5-100/repeat-03-adrenalmnist3d-28-5-100-ctcnn1/experiment_3\n"
     ]
    },
    {
     "name": "stderr",
     "output_type": "stream",
     "text": [
      " 27%|██▋       | 27/100 [01:34<04:15,  3.50s/it]"
     ]
    },
    {
     "name": "stdout",
     "output_type": "stream",
     "text": [
      "Saved checkpoint at epoch 26 to checkpoints/repeat-03-adrenalmnist3d-28-5-100/repeat-03-adrenalmnist3d-28-5-100-ctcnn1/experiment_3\n",
      "Removed checkpoint at epoch 25 from checkpoints/repeat-03-adrenalmnist3d-28-5-100/repeat-03-adrenalmnist3d-28-5-100-ctcnn1/experiment_3\n"
     ]
    },
    {
     "name": "stderr",
     "output_type": "stream",
     "text": [
      " 28%|██▊       | 28/100 [01:37<04:11,  3.50s/it]"
     ]
    },
    {
     "name": "stdout",
     "output_type": "stream",
     "text": [
      "Saved checkpoint at epoch 27 to checkpoints/repeat-03-adrenalmnist3d-28-5-100/repeat-03-adrenalmnist3d-28-5-100-ctcnn1/experiment_3\n",
      "Removed checkpoint at epoch 26 from checkpoints/repeat-03-adrenalmnist3d-28-5-100/repeat-03-adrenalmnist3d-28-5-100-ctcnn1/experiment_3\n"
     ]
    },
    {
     "name": "stderr",
     "output_type": "stream",
     "text": [
      " 29%|██▉       | 29/100 [01:41<04:08,  3.50s/it]"
     ]
    },
    {
     "name": "stdout",
     "output_type": "stream",
     "text": [
      "Saved checkpoint at epoch 28 to checkpoints/repeat-03-adrenalmnist3d-28-5-100/repeat-03-adrenalmnist3d-28-5-100-ctcnn1/experiment_3\n",
      "Removed checkpoint at epoch 27 from checkpoints/repeat-03-adrenalmnist3d-28-5-100/repeat-03-adrenalmnist3d-28-5-100-ctcnn1/experiment_3\n"
     ]
    },
    {
     "name": "stderr",
     "output_type": "stream",
     "text": [
      " 30%|███       | 30/100 [01:44<04:04,  3.50s/it]"
     ]
    },
    {
     "name": "stdout",
     "output_type": "stream",
     "text": [
      "Saved checkpoint at epoch 29 to checkpoints/repeat-03-adrenalmnist3d-28-5-100/repeat-03-adrenalmnist3d-28-5-100-ctcnn1/experiment_3\n",
      "Removed checkpoint at epoch 28 from checkpoints/repeat-03-adrenalmnist3d-28-5-100/repeat-03-adrenalmnist3d-28-5-100-ctcnn1/experiment_3\n"
     ]
    },
    {
     "name": "stderr",
     "output_type": "stream",
     "text": [
      " 31%|███       | 31/100 [01:48<04:01,  3.50s/it]"
     ]
    },
    {
     "name": "stdout",
     "output_type": "stream",
     "text": [
      "Saved checkpoint at epoch 30 to checkpoints/repeat-03-adrenalmnist3d-28-5-100/repeat-03-adrenalmnist3d-28-5-100-ctcnn1/experiment_3\n",
      "Removed checkpoint at epoch 29 from checkpoints/repeat-03-adrenalmnist3d-28-5-100/repeat-03-adrenalmnist3d-28-5-100-ctcnn1/experiment_3\n"
     ]
    },
    {
     "name": "stderr",
     "output_type": "stream",
     "text": [
      " 32%|███▏      | 32/100 [01:51<03:57,  3.50s/it]"
     ]
    },
    {
     "name": "stdout",
     "output_type": "stream",
     "text": [
      "saved best checkpoint at epoch 31 to checkpoints/repeat-03-adrenalmnist3d-28-5-100/repeat-03-adrenalmnist3d-28-5-100-ctcnn1/experiment_3\n",
      "Saved checkpoint at epoch 31 to checkpoints/repeat-03-adrenalmnist3d-28-5-100/repeat-03-adrenalmnist3d-28-5-100-ctcnn1/experiment_3\n",
      "Removed checkpoint at epoch 30 from checkpoints/repeat-03-adrenalmnist3d-28-5-100/repeat-03-adrenalmnist3d-28-5-100-ctcnn1/experiment_3\n"
     ]
    },
    {
     "name": "stderr",
     "output_type": "stream",
     "text": [
      " 33%|███▎      | 33/100 [01:55<03:54,  3.50s/it]"
     ]
    },
    {
     "name": "stdout",
     "output_type": "stream",
     "text": [
      "Saved checkpoint at epoch 32 to checkpoints/repeat-03-adrenalmnist3d-28-5-100/repeat-03-adrenalmnist3d-28-5-100-ctcnn1/experiment_3\n",
      "Removed checkpoint at epoch 31 from checkpoints/repeat-03-adrenalmnist3d-28-5-100/repeat-03-adrenalmnist3d-28-5-100-ctcnn1/experiment_3\n"
     ]
    },
    {
     "name": "stderr",
     "output_type": "stream",
     "text": [
      " 34%|███▍      | 34/100 [01:58<03:50,  3.50s/it]"
     ]
    },
    {
     "name": "stdout",
     "output_type": "stream",
     "text": [
      "Saved checkpoint at epoch 33 to checkpoints/repeat-03-adrenalmnist3d-28-5-100/repeat-03-adrenalmnist3d-28-5-100-ctcnn1/experiment_3\n",
      "Removed checkpoint at epoch 32 from checkpoints/repeat-03-adrenalmnist3d-28-5-100/repeat-03-adrenalmnist3d-28-5-100-ctcnn1/experiment_3\n"
     ]
    },
    {
     "name": "stderr",
     "output_type": "stream",
     "text": [
      " 35%|███▌      | 35/100 [02:02<03:47,  3.50s/it]"
     ]
    },
    {
     "name": "stdout",
     "output_type": "stream",
     "text": [
      "Saved checkpoint at epoch 34 to checkpoints/repeat-03-adrenalmnist3d-28-5-100/repeat-03-adrenalmnist3d-28-5-100-ctcnn1/experiment_3\n",
      "Removed checkpoint at epoch 33 from checkpoints/repeat-03-adrenalmnist3d-28-5-100/repeat-03-adrenalmnist3d-28-5-100-ctcnn1/experiment_3\n"
     ]
    },
    {
     "name": "stderr",
     "output_type": "stream",
     "text": [
      " 36%|███▌      | 36/100 [02:05<03:43,  3.50s/it]"
     ]
    },
    {
     "name": "stdout",
     "output_type": "stream",
     "text": [
      "Saved checkpoint at epoch 35 to checkpoints/repeat-03-adrenalmnist3d-28-5-100/repeat-03-adrenalmnist3d-28-5-100-ctcnn1/experiment_3\n",
      "Removed checkpoint at epoch 34 from checkpoints/repeat-03-adrenalmnist3d-28-5-100/repeat-03-adrenalmnist3d-28-5-100-ctcnn1/experiment_3\n"
     ]
    },
    {
     "name": "stderr",
     "output_type": "stream",
     "text": [
      " 37%|███▋      | 37/100 [02:09<03:40,  3.50s/it]"
     ]
    },
    {
     "name": "stdout",
     "output_type": "stream",
     "text": [
      "Saved checkpoint at epoch 36 to checkpoints/repeat-03-adrenalmnist3d-28-5-100/repeat-03-adrenalmnist3d-28-5-100-ctcnn1/experiment_3\n",
      "Removed checkpoint at epoch 35 from checkpoints/repeat-03-adrenalmnist3d-28-5-100/repeat-03-adrenalmnist3d-28-5-100-ctcnn1/experiment_3\n"
     ]
    },
    {
     "name": "stderr",
     "output_type": "stream",
     "text": [
      " 38%|███▊      | 38/100 [02:12<03:36,  3.50s/it]"
     ]
    },
    {
     "name": "stdout",
     "output_type": "stream",
     "text": [
      "Saved checkpoint at epoch 37 to checkpoints/repeat-03-adrenalmnist3d-28-5-100/repeat-03-adrenalmnist3d-28-5-100-ctcnn1/experiment_3\n",
      "Removed checkpoint at epoch 36 from checkpoints/repeat-03-adrenalmnist3d-28-5-100/repeat-03-adrenalmnist3d-28-5-100-ctcnn1/experiment_3\n"
     ]
    },
    {
     "name": "stderr",
     "output_type": "stream",
     "text": [
      " 39%|███▉      | 39/100 [02:16<03:33,  3.50s/it]"
     ]
    },
    {
     "name": "stdout",
     "output_type": "stream",
     "text": [
      "Saved checkpoint at epoch 38 to checkpoints/repeat-03-adrenalmnist3d-28-5-100/repeat-03-adrenalmnist3d-28-5-100-ctcnn1/experiment_3\n",
      "Removed checkpoint at epoch 37 from checkpoints/repeat-03-adrenalmnist3d-28-5-100/repeat-03-adrenalmnist3d-28-5-100-ctcnn1/experiment_3\n"
     ]
    },
    {
     "name": "stderr",
     "output_type": "stream",
     "text": [
      " 40%|████      | 40/100 [02:19<03:29,  3.50s/it]"
     ]
    },
    {
     "name": "stdout",
     "output_type": "stream",
     "text": [
      "Saved checkpoint at epoch 39 to checkpoints/repeat-03-adrenalmnist3d-28-5-100/repeat-03-adrenalmnist3d-28-5-100-ctcnn1/experiment_3\n",
      "Removed checkpoint at epoch 38 from checkpoints/repeat-03-adrenalmnist3d-28-5-100/repeat-03-adrenalmnist3d-28-5-100-ctcnn1/experiment_3\n"
     ]
    },
    {
     "name": "stderr",
     "output_type": "stream",
     "text": [
      " 41%|████      | 41/100 [02:23<03:26,  3.50s/it]"
     ]
    },
    {
     "name": "stdout",
     "output_type": "stream",
     "text": [
      "Saved checkpoint at epoch 40 to checkpoints/repeat-03-adrenalmnist3d-28-5-100/repeat-03-adrenalmnist3d-28-5-100-ctcnn1/experiment_3\n",
      "Removed checkpoint at epoch 39 from checkpoints/repeat-03-adrenalmnist3d-28-5-100/repeat-03-adrenalmnist3d-28-5-100-ctcnn1/experiment_3\n"
     ]
    },
    {
     "name": "stderr",
     "output_type": "stream",
     "text": [
      " 42%|████▏     | 42/100 [02:26<03:22,  3.50s/it]"
     ]
    },
    {
     "name": "stdout",
     "output_type": "stream",
     "text": [
      "Saved checkpoint at epoch 41 to checkpoints/repeat-03-adrenalmnist3d-28-5-100/repeat-03-adrenalmnist3d-28-5-100-ctcnn1/experiment_3\n",
      "Removed checkpoint at epoch 40 from checkpoints/repeat-03-adrenalmnist3d-28-5-100/repeat-03-adrenalmnist3d-28-5-100-ctcnn1/experiment_3\n"
     ]
    },
    {
     "name": "stderr",
     "output_type": "stream",
     "text": [
      " 43%|████▎     | 43/100 [02:30<03:19,  3.50s/it]"
     ]
    },
    {
     "name": "stdout",
     "output_type": "stream",
     "text": [
      "Saved checkpoint at epoch 42 to checkpoints/repeat-03-adrenalmnist3d-28-5-100/repeat-03-adrenalmnist3d-28-5-100-ctcnn1/experiment_3\n",
      "Removed checkpoint at epoch 41 from checkpoints/repeat-03-adrenalmnist3d-28-5-100/repeat-03-adrenalmnist3d-28-5-100-ctcnn1/experiment_3\n"
     ]
    },
    {
     "name": "stderr",
     "output_type": "stream",
     "text": [
      " 44%|████▍     | 44/100 [02:33<03:15,  3.50s/it]"
     ]
    },
    {
     "name": "stdout",
     "output_type": "stream",
     "text": [
      "saved best checkpoint at epoch 43 to checkpoints/repeat-03-adrenalmnist3d-28-5-100/repeat-03-adrenalmnist3d-28-5-100-ctcnn1/experiment_3\n",
      "Saved checkpoint at epoch 43 to checkpoints/repeat-03-adrenalmnist3d-28-5-100/repeat-03-adrenalmnist3d-28-5-100-ctcnn1/experiment_3\n",
      "Removed checkpoint at epoch 42 from checkpoints/repeat-03-adrenalmnist3d-28-5-100/repeat-03-adrenalmnist3d-28-5-100-ctcnn1/experiment_3\n"
     ]
    },
    {
     "name": "stderr",
     "output_type": "stream",
     "text": [
      " 45%|████▌     | 45/100 [02:37<03:12,  3.50s/it]"
     ]
    },
    {
     "name": "stdout",
     "output_type": "stream",
     "text": [
      "Saved checkpoint at epoch 44 to checkpoints/repeat-03-adrenalmnist3d-28-5-100/repeat-03-adrenalmnist3d-28-5-100-ctcnn1/experiment_3\n",
      "Removed checkpoint at epoch 43 from checkpoints/repeat-03-adrenalmnist3d-28-5-100/repeat-03-adrenalmnist3d-28-5-100-ctcnn1/experiment_3\n"
     ]
    },
    {
     "name": "stderr",
     "output_type": "stream",
     "text": [
      " 46%|████▌     | 46/100 [02:40<03:08,  3.50s/it]"
     ]
    },
    {
     "name": "stdout",
     "output_type": "stream",
     "text": [
      "Saved checkpoint at epoch 45 to checkpoints/repeat-03-adrenalmnist3d-28-5-100/repeat-03-adrenalmnist3d-28-5-100-ctcnn1/experiment_3\n",
      "Removed checkpoint at epoch 44 from checkpoints/repeat-03-adrenalmnist3d-28-5-100/repeat-03-adrenalmnist3d-28-5-100-ctcnn1/experiment_3\n"
     ]
    },
    {
     "name": "stderr",
     "output_type": "stream",
     "text": [
      " 47%|████▋     | 47/100 [02:44<03:05,  3.50s/it]"
     ]
    },
    {
     "name": "stdout",
     "output_type": "stream",
     "text": [
      "Saved checkpoint at epoch 46 to checkpoints/repeat-03-adrenalmnist3d-28-5-100/repeat-03-adrenalmnist3d-28-5-100-ctcnn1/experiment_3\n",
      "Removed checkpoint at epoch 45 from checkpoints/repeat-03-adrenalmnist3d-28-5-100/repeat-03-adrenalmnist3d-28-5-100-ctcnn1/experiment_3\n"
     ]
    },
    {
     "name": "stderr",
     "output_type": "stream",
     "text": [
      " 48%|████▊     | 48/100 [02:47<03:01,  3.50s/it]"
     ]
    },
    {
     "name": "stdout",
     "output_type": "stream",
     "text": [
      "Saved checkpoint at epoch 47 to checkpoints/repeat-03-adrenalmnist3d-28-5-100/repeat-03-adrenalmnist3d-28-5-100-ctcnn1/experiment_3\n",
      "Removed checkpoint at epoch 46 from checkpoints/repeat-03-adrenalmnist3d-28-5-100/repeat-03-adrenalmnist3d-28-5-100-ctcnn1/experiment_3\n"
     ]
    },
    {
     "name": "stderr",
     "output_type": "stream",
     "text": [
      " 49%|████▉     | 49/100 [02:51<02:58,  3.50s/it]"
     ]
    },
    {
     "name": "stdout",
     "output_type": "stream",
     "text": [
      "Saved checkpoint at epoch 48 to checkpoints/repeat-03-adrenalmnist3d-28-5-100/repeat-03-adrenalmnist3d-28-5-100-ctcnn1/experiment_3\n",
      "Removed checkpoint at epoch 47 from checkpoints/repeat-03-adrenalmnist3d-28-5-100/repeat-03-adrenalmnist3d-28-5-100-ctcnn1/experiment_3\n"
     ]
    },
    {
     "name": "stderr",
     "output_type": "stream",
     "text": [
      " 50%|█████     | 50/100 [02:54<02:54,  3.50s/it]"
     ]
    },
    {
     "name": "stdout",
     "output_type": "stream",
     "text": [
      "Saved checkpoint at epoch 49 to checkpoints/repeat-03-adrenalmnist3d-28-5-100/repeat-03-adrenalmnist3d-28-5-100-ctcnn1/experiment_3\n",
      "Removed checkpoint at epoch 48 from checkpoints/repeat-03-adrenalmnist3d-28-5-100/repeat-03-adrenalmnist3d-28-5-100-ctcnn1/experiment_3\n"
     ]
    },
    {
     "name": "stderr",
     "output_type": "stream",
     "text": [
      " 51%|█████     | 51/100 [02:58<02:51,  3.50s/it]"
     ]
    },
    {
     "name": "stdout",
     "output_type": "stream",
     "text": [
      "Saved checkpoint at epoch 50 to checkpoints/repeat-03-adrenalmnist3d-28-5-100/repeat-03-adrenalmnist3d-28-5-100-ctcnn1/experiment_3\n",
      "Removed checkpoint at epoch 49 from checkpoints/repeat-03-adrenalmnist3d-28-5-100/repeat-03-adrenalmnist3d-28-5-100-ctcnn1/experiment_3\n"
     ]
    },
    {
     "name": "stderr",
     "output_type": "stream",
     "text": [
      " 52%|█████▏    | 52/100 [03:01<02:47,  3.50s/it]"
     ]
    },
    {
     "name": "stdout",
     "output_type": "stream",
     "text": [
      "Saved checkpoint at epoch 51 to checkpoints/repeat-03-adrenalmnist3d-28-5-100/repeat-03-adrenalmnist3d-28-5-100-ctcnn1/experiment_3\n",
      "Removed checkpoint at epoch 50 from checkpoints/repeat-03-adrenalmnist3d-28-5-100/repeat-03-adrenalmnist3d-28-5-100-ctcnn1/experiment_3\n"
     ]
    },
    {
     "name": "stderr",
     "output_type": "stream",
     "text": [
      " 53%|█████▎    | 53/100 [03:05<02:44,  3.50s/it]"
     ]
    },
    {
     "name": "stdout",
     "output_type": "stream",
     "text": [
      "Saved checkpoint at epoch 52 to checkpoints/repeat-03-adrenalmnist3d-28-5-100/repeat-03-adrenalmnist3d-28-5-100-ctcnn1/experiment_3\n",
      "Removed checkpoint at epoch 51 from checkpoints/repeat-03-adrenalmnist3d-28-5-100/repeat-03-adrenalmnist3d-28-5-100-ctcnn1/experiment_3\n"
     ]
    },
    {
     "name": "stderr",
     "output_type": "stream",
     "text": [
      " 54%|█████▍    | 54/100 [03:08<02:40,  3.50s/it]"
     ]
    },
    {
     "name": "stdout",
     "output_type": "stream",
     "text": [
      "Saved checkpoint at epoch 53 to checkpoints/repeat-03-adrenalmnist3d-28-5-100/repeat-03-adrenalmnist3d-28-5-100-ctcnn1/experiment_3\n",
      "Removed checkpoint at epoch 52 from checkpoints/repeat-03-adrenalmnist3d-28-5-100/repeat-03-adrenalmnist3d-28-5-100-ctcnn1/experiment_3\n"
     ]
    },
    {
     "name": "stderr",
     "output_type": "stream",
     "text": [
      " 55%|█████▌    | 55/100 [03:12<02:37,  3.50s/it]"
     ]
    },
    {
     "name": "stdout",
     "output_type": "stream",
     "text": [
      "Saved checkpoint at epoch 54 to checkpoints/repeat-03-adrenalmnist3d-28-5-100/repeat-03-adrenalmnist3d-28-5-100-ctcnn1/experiment_3\n",
      "Removed checkpoint at epoch 53 from checkpoints/repeat-03-adrenalmnist3d-28-5-100/repeat-03-adrenalmnist3d-28-5-100-ctcnn1/experiment_3\n"
     ]
    },
    {
     "name": "stderr",
     "output_type": "stream",
     "text": [
      " 56%|█████▌    | 56/100 [03:15<02:33,  3.50s/it]"
     ]
    },
    {
     "name": "stdout",
     "output_type": "stream",
     "text": [
      "Saved checkpoint at epoch 55 to checkpoints/repeat-03-adrenalmnist3d-28-5-100/repeat-03-adrenalmnist3d-28-5-100-ctcnn1/experiment_3\n",
      "Removed checkpoint at epoch 54 from checkpoints/repeat-03-adrenalmnist3d-28-5-100/repeat-03-adrenalmnist3d-28-5-100-ctcnn1/experiment_3\n"
     ]
    },
    {
     "name": "stderr",
     "output_type": "stream",
     "text": [
      " 57%|█████▋    | 57/100 [03:19<02:30,  3.50s/it]"
     ]
    },
    {
     "name": "stdout",
     "output_type": "stream",
     "text": [
      "Saved checkpoint at epoch 56 to checkpoints/repeat-03-adrenalmnist3d-28-5-100/repeat-03-adrenalmnist3d-28-5-100-ctcnn1/experiment_3\n",
      "Removed checkpoint at epoch 55 from checkpoints/repeat-03-adrenalmnist3d-28-5-100/repeat-03-adrenalmnist3d-28-5-100-ctcnn1/experiment_3\n"
     ]
    },
    {
     "name": "stderr",
     "output_type": "stream",
     "text": [
      " 58%|█████▊    | 58/100 [03:22<02:26,  3.50s/it]"
     ]
    },
    {
     "name": "stdout",
     "output_type": "stream",
     "text": [
      "Saved checkpoint at epoch 57 to checkpoints/repeat-03-adrenalmnist3d-28-5-100/repeat-03-adrenalmnist3d-28-5-100-ctcnn1/experiment_3\n",
      "Removed checkpoint at epoch 56 from checkpoints/repeat-03-adrenalmnist3d-28-5-100/repeat-03-adrenalmnist3d-28-5-100-ctcnn1/experiment_3\n"
     ]
    },
    {
     "name": "stderr",
     "output_type": "stream",
     "text": [
      " 59%|█████▉    | 59/100 [03:26<02:23,  3.50s/it]"
     ]
    },
    {
     "name": "stdout",
     "output_type": "stream",
     "text": [
      "Saved checkpoint at epoch 58 to checkpoints/repeat-03-adrenalmnist3d-28-5-100/repeat-03-adrenalmnist3d-28-5-100-ctcnn1/experiment_3\n",
      "Removed checkpoint at epoch 57 from checkpoints/repeat-03-adrenalmnist3d-28-5-100/repeat-03-adrenalmnist3d-28-5-100-ctcnn1/experiment_3\n"
     ]
    },
    {
     "name": "stderr",
     "output_type": "stream",
     "text": [
      " 60%|██████    | 60/100 [03:29<02:19,  3.50s/it]"
     ]
    },
    {
     "name": "stdout",
     "output_type": "stream",
     "text": [
      "Saved checkpoint at epoch 59 to checkpoints/repeat-03-adrenalmnist3d-28-5-100/repeat-03-adrenalmnist3d-28-5-100-ctcnn1/experiment_3\n",
      "Removed checkpoint at epoch 58 from checkpoints/repeat-03-adrenalmnist3d-28-5-100/repeat-03-adrenalmnist3d-28-5-100-ctcnn1/experiment_3\n"
     ]
    },
    {
     "name": "stderr",
     "output_type": "stream",
     "text": [
      " 61%|██████    | 61/100 [03:33<02:16,  3.50s/it]"
     ]
    },
    {
     "name": "stdout",
     "output_type": "stream",
     "text": [
      "Saved checkpoint at epoch 60 to checkpoints/repeat-03-adrenalmnist3d-28-5-100/repeat-03-adrenalmnist3d-28-5-100-ctcnn1/experiment_3\n",
      "Removed checkpoint at epoch 59 from checkpoints/repeat-03-adrenalmnist3d-28-5-100/repeat-03-adrenalmnist3d-28-5-100-ctcnn1/experiment_3\n"
     ]
    },
    {
     "name": "stderr",
     "output_type": "stream",
     "text": [
      " 62%|██████▏   | 62/100 [03:36<02:12,  3.50s/it]"
     ]
    },
    {
     "name": "stdout",
     "output_type": "stream",
     "text": [
      "Saved checkpoint at epoch 61 to checkpoints/repeat-03-adrenalmnist3d-28-5-100/repeat-03-adrenalmnist3d-28-5-100-ctcnn1/experiment_3\n",
      "Removed checkpoint at epoch 60 from checkpoints/repeat-03-adrenalmnist3d-28-5-100/repeat-03-adrenalmnist3d-28-5-100-ctcnn1/experiment_3\n"
     ]
    },
    {
     "name": "stderr",
     "output_type": "stream",
     "text": [
      " 63%|██████▎   | 63/100 [03:40<02:09,  3.50s/it]"
     ]
    },
    {
     "name": "stdout",
     "output_type": "stream",
     "text": [
      "saved best checkpoint at epoch 62 to checkpoints/repeat-03-adrenalmnist3d-28-5-100/repeat-03-adrenalmnist3d-28-5-100-ctcnn1/experiment_3\n",
      "Saved checkpoint at epoch 62 to checkpoints/repeat-03-adrenalmnist3d-28-5-100/repeat-03-adrenalmnist3d-28-5-100-ctcnn1/experiment_3\n",
      "Removed checkpoint at epoch 61 from checkpoints/repeat-03-adrenalmnist3d-28-5-100/repeat-03-adrenalmnist3d-28-5-100-ctcnn1/experiment_3\n"
     ]
    },
    {
     "name": "stderr",
     "output_type": "stream",
     "text": [
      " 64%|██████▍   | 64/100 [03:43<02:05,  3.50s/it]"
     ]
    },
    {
     "name": "stdout",
     "output_type": "stream",
     "text": [
      "Saved checkpoint at epoch 63 to checkpoints/repeat-03-adrenalmnist3d-28-5-100/repeat-03-adrenalmnist3d-28-5-100-ctcnn1/experiment_3\n",
      "Removed checkpoint at epoch 62 from checkpoints/repeat-03-adrenalmnist3d-28-5-100/repeat-03-adrenalmnist3d-28-5-100-ctcnn1/experiment_3\n"
     ]
    },
    {
     "name": "stderr",
     "output_type": "stream",
     "text": [
      " 65%|██████▌   | 65/100 [03:47<02:02,  3.50s/it]"
     ]
    },
    {
     "name": "stdout",
     "output_type": "stream",
     "text": [
      "Saved checkpoint at epoch 64 to checkpoints/repeat-03-adrenalmnist3d-28-5-100/repeat-03-adrenalmnist3d-28-5-100-ctcnn1/experiment_3\n",
      "Removed checkpoint at epoch 63 from checkpoints/repeat-03-adrenalmnist3d-28-5-100/repeat-03-adrenalmnist3d-28-5-100-ctcnn1/experiment_3\n"
     ]
    },
    {
     "name": "stderr",
     "output_type": "stream",
     "text": [
      " 66%|██████▌   | 66/100 [03:50<01:58,  3.50s/it]"
     ]
    },
    {
     "name": "stdout",
     "output_type": "stream",
     "text": [
      "Saved checkpoint at epoch 65 to checkpoints/repeat-03-adrenalmnist3d-28-5-100/repeat-03-adrenalmnist3d-28-5-100-ctcnn1/experiment_3\n",
      "Removed checkpoint at epoch 64 from checkpoints/repeat-03-adrenalmnist3d-28-5-100/repeat-03-adrenalmnist3d-28-5-100-ctcnn1/experiment_3\n"
     ]
    },
    {
     "name": "stderr",
     "output_type": "stream",
     "text": [
      " 67%|██████▋   | 67/100 [03:54<01:55,  3.50s/it]"
     ]
    },
    {
     "name": "stdout",
     "output_type": "stream",
     "text": [
      "Saved checkpoint at epoch 66 to checkpoints/repeat-03-adrenalmnist3d-28-5-100/repeat-03-adrenalmnist3d-28-5-100-ctcnn1/experiment_3\n",
      "Removed checkpoint at epoch 65 from checkpoints/repeat-03-adrenalmnist3d-28-5-100/repeat-03-adrenalmnist3d-28-5-100-ctcnn1/experiment_3\n"
     ]
    },
    {
     "name": "stderr",
     "output_type": "stream",
     "text": [
      " 68%|██████▊   | 68/100 [03:57<01:51,  3.50s/it]"
     ]
    },
    {
     "name": "stdout",
     "output_type": "stream",
     "text": [
      "Saved checkpoint at epoch 67 to checkpoints/repeat-03-adrenalmnist3d-28-5-100/repeat-03-adrenalmnist3d-28-5-100-ctcnn1/experiment_3\n",
      "Removed checkpoint at epoch 66 from checkpoints/repeat-03-adrenalmnist3d-28-5-100/repeat-03-adrenalmnist3d-28-5-100-ctcnn1/experiment_3\n"
     ]
    },
    {
     "name": "stderr",
     "output_type": "stream",
     "text": [
      " 69%|██████▉   | 69/100 [04:01<01:48,  3.50s/it]"
     ]
    },
    {
     "name": "stdout",
     "output_type": "stream",
     "text": [
      "Saved checkpoint at epoch 68 to checkpoints/repeat-03-adrenalmnist3d-28-5-100/repeat-03-adrenalmnist3d-28-5-100-ctcnn1/experiment_3\n",
      "Removed checkpoint at epoch 67 from checkpoints/repeat-03-adrenalmnist3d-28-5-100/repeat-03-adrenalmnist3d-28-5-100-ctcnn1/experiment_3\n"
     ]
    },
    {
     "name": "stderr",
     "output_type": "stream",
     "text": [
      " 70%|███████   | 70/100 [04:04<01:44,  3.50s/it]"
     ]
    },
    {
     "name": "stdout",
     "output_type": "stream",
     "text": [
      "Saved checkpoint at epoch 69 to checkpoints/repeat-03-adrenalmnist3d-28-5-100/repeat-03-adrenalmnist3d-28-5-100-ctcnn1/experiment_3\n",
      "Removed checkpoint at epoch 68 from checkpoints/repeat-03-adrenalmnist3d-28-5-100/repeat-03-adrenalmnist3d-28-5-100-ctcnn1/experiment_3\n"
     ]
    },
    {
     "name": "stderr",
     "output_type": "stream",
     "text": [
      " 71%|███████   | 71/100 [04:08<01:41,  3.50s/it]"
     ]
    },
    {
     "name": "stdout",
     "output_type": "stream",
     "text": [
      "Saved checkpoint at epoch 70 to checkpoints/repeat-03-adrenalmnist3d-28-5-100/repeat-03-adrenalmnist3d-28-5-100-ctcnn1/experiment_3\n",
      "Removed checkpoint at epoch 69 from checkpoints/repeat-03-adrenalmnist3d-28-5-100/repeat-03-adrenalmnist3d-28-5-100-ctcnn1/experiment_3\n"
     ]
    },
    {
     "name": "stderr",
     "output_type": "stream",
     "text": [
      " 72%|███████▏  | 72/100 [04:11<01:37,  3.50s/it]"
     ]
    },
    {
     "name": "stdout",
     "output_type": "stream",
     "text": [
      "Saved checkpoint at epoch 71 to checkpoints/repeat-03-adrenalmnist3d-28-5-100/repeat-03-adrenalmnist3d-28-5-100-ctcnn1/experiment_3\n",
      "Removed checkpoint at epoch 70 from checkpoints/repeat-03-adrenalmnist3d-28-5-100/repeat-03-adrenalmnist3d-28-5-100-ctcnn1/experiment_3\n"
     ]
    },
    {
     "name": "stderr",
     "output_type": "stream",
     "text": [
      " 73%|███████▎  | 73/100 [04:15<01:34,  3.50s/it]"
     ]
    },
    {
     "name": "stdout",
     "output_type": "stream",
     "text": [
      "Saved checkpoint at epoch 72 to checkpoints/repeat-03-adrenalmnist3d-28-5-100/repeat-03-adrenalmnist3d-28-5-100-ctcnn1/experiment_3\n",
      "Removed checkpoint at epoch 71 from checkpoints/repeat-03-adrenalmnist3d-28-5-100/repeat-03-adrenalmnist3d-28-5-100-ctcnn1/experiment_3\n"
     ]
    },
    {
     "name": "stderr",
     "output_type": "stream",
     "text": [
      " 74%|███████▍  | 74/100 [04:18<01:30,  3.50s/it]"
     ]
    },
    {
     "name": "stdout",
     "output_type": "stream",
     "text": [
      "Saved checkpoint at epoch 73 to checkpoints/repeat-03-adrenalmnist3d-28-5-100/repeat-03-adrenalmnist3d-28-5-100-ctcnn1/experiment_3\n",
      "Removed checkpoint at epoch 72 from checkpoints/repeat-03-adrenalmnist3d-28-5-100/repeat-03-adrenalmnist3d-28-5-100-ctcnn1/experiment_3\n"
     ]
    },
    {
     "name": "stderr",
     "output_type": "stream",
     "text": [
      " 75%|███████▌  | 75/100 [04:22<01:27,  3.50s/it]"
     ]
    },
    {
     "name": "stdout",
     "output_type": "stream",
     "text": [
      "Saved checkpoint at epoch 74 to checkpoints/repeat-03-adrenalmnist3d-28-5-100/repeat-03-adrenalmnist3d-28-5-100-ctcnn1/experiment_3\n",
      "Removed checkpoint at epoch 73 from checkpoints/repeat-03-adrenalmnist3d-28-5-100/repeat-03-adrenalmnist3d-28-5-100-ctcnn1/experiment_3\n"
     ]
    },
    {
     "name": "stderr",
     "output_type": "stream",
     "text": [
      " 76%|███████▌  | 76/100 [04:25<01:23,  3.50s/it]"
     ]
    },
    {
     "name": "stdout",
     "output_type": "stream",
     "text": [
      "Saved checkpoint at epoch 75 to checkpoints/repeat-03-adrenalmnist3d-28-5-100/repeat-03-adrenalmnist3d-28-5-100-ctcnn1/experiment_3\n",
      "Removed checkpoint at epoch 74 from checkpoints/repeat-03-adrenalmnist3d-28-5-100/repeat-03-adrenalmnist3d-28-5-100-ctcnn1/experiment_3\n"
     ]
    },
    {
     "name": "stderr",
     "output_type": "stream",
     "text": [
      " 77%|███████▋  | 77/100 [04:29<01:20,  3.50s/it]"
     ]
    },
    {
     "name": "stdout",
     "output_type": "stream",
     "text": [
      "Saved checkpoint at epoch 76 to checkpoints/repeat-03-adrenalmnist3d-28-5-100/repeat-03-adrenalmnist3d-28-5-100-ctcnn1/experiment_3\n",
      "Removed checkpoint at epoch 75 from checkpoints/repeat-03-adrenalmnist3d-28-5-100/repeat-03-adrenalmnist3d-28-5-100-ctcnn1/experiment_3\n"
     ]
    },
    {
     "name": "stderr",
     "output_type": "stream",
     "text": [
      " 78%|███████▊  | 78/100 [04:32<01:16,  3.50s/it]"
     ]
    },
    {
     "name": "stdout",
     "output_type": "stream",
     "text": [
      "Saved checkpoint at epoch 77 to checkpoints/repeat-03-adrenalmnist3d-28-5-100/repeat-03-adrenalmnist3d-28-5-100-ctcnn1/experiment_3\n",
      "Removed checkpoint at epoch 76 from checkpoints/repeat-03-adrenalmnist3d-28-5-100/repeat-03-adrenalmnist3d-28-5-100-ctcnn1/experiment_3\n"
     ]
    },
    {
     "name": "stderr",
     "output_type": "stream",
     "text": [
      " 79%|███████▉  | 79/100 [04:36<01:13,  3.50s/it]"
     ]
    },
    {
     "name": "stdout",
     "output_type": "stream",
     "text": [
      "Saved checkpoint at epoch 78 to checkpoints/repeat-03-adrenalmnist3d-28-5-100/repeat-03-adrenalmnist3d-28-5-100-ctcnn1/experiment_3\n",
      "Removed checkpoint at epoch 77 from checkpoints/repeat-03-adrenalmnist3d-28-5-100/repeat-03-adrenalmnist3d-28-5-100-ctcnn1/experiment_3\n"
     ]
    },
    {
     "name": "stderr",
     "output_type": "stream",
     "text": [
      " 80%|████████  | 80/100 [04:39<01:09,  3.50s/it]"
     ]
    },
    {
     "name": "stdout",
     "output_type": "stream",
     "text": [
      "Saved checkpoint at epoch 79 to checkpoints/repeat-03-adrenalmnist3d-28-5-100/repeat-03-adrenalmnist3d-28-5-100-ctcnn1/experiment_3\n",
      "Removed checkpoint at epoch 78 from checkpoints/repeat-03-adrenalmnist3d-28-5-100/repeat-03-adrenalmnist3d-28-5-100-ctcnn1/experiment_3\n"
     ]
    },
    {
     "name": "stderr",
     "output_type": "stream",
     "text": [
      " 81%|████████  | 81/100 [04:43<01:06,  3.50s/it]"
     ]
    },
    {
     "name": "stdout",
     "output_type": "stream",
     "text": [
      "Saved checkpoint at epoch 80 to checkpoints/repeat-03-adrenalmnist3d-28-5-100/repeat-03-adrenalmnist3d-28-5-100-ctcnn1/experiment_3\n",
      "Removed checkpoint at epoch 79 from checkpoints/repeat-03-adrenalmnist3d-28-5-100/repeat-03-adrenalmnist3d-28-5-100-ctcnn1/experiment_3\n"
     ]
    },
    {
     "name": "stderr",
     "output_type": "stream",
     "text": [
      " 82%|████████▏ | 82/100 [04:46<01:02,  3.50s/it]"
     ]
    },
    {
     "name": "stdout",
     "output_type": "stream",
     "text": [
      "Saved checkpoint at epoch 81 to checkpoints/repeat-03-adrenalmnist3d-28-5-100/repeat-03-adrenalmnist3d-28-5-100-ctcnn1/experiment_3\n",
      "Removed checkpoint at epoch 80 from checkpoints/repeat-03-adrenalmnist3d-28-5-100/repeat-03-adrenalmnist3d-28-5-100-ctcnn1/experiment_3\n"
     ]
    },
    {
     "name": "stderr",
     "output_type": "stream",
     "text": [
      " 83%|████████▎ | 83/100 [04:50<00:59,  3.50s/it]"
     ]
    },
    {
     "name": "stdout",
     "output_type": "stream",
     "text": [
      "Saved checkpoint at epoch 82 to checkpoints/repeat-03-adrenalmnist3d-28-5-100/repeat-03-adrenalmnist3d-28-5-100-ctcnn1/experiment_3\n",
      "Removed checkpoint at epoch 81 from checkpoints/repeat-03-adrenalmnist3d-28-5-100/repeat-03-adrenalmnist3d-28-5-100-ctcnn1/experiment_3\n"
     ]
    },
    {
     "name": "stderr",
     "output_type": "stream",
     "text": [
      " 84%|████████▍ | 84/100 [04:53<00:55,  3.50s/it]"
     ]
    },
    {
     "name": "stdout",
     "output_type": "stream",
     "text": [
      "Saved checkpoint at epoch 83 to checkpoints/repeat-03-adrenalmnist3d-28-5-100/repeat-03-adrenalmnist3d-28-5-100-ctcnn1/experiment_3\n",
      "Removed checkpoint at epoch 82 from checkpoints/repeat-03-adrenalmnist3d-28-5-100/repeat-03-adrenalmnist3d-28-5-100-ctcnn1/experiment_3\n"
     ]
    },
    {
     "name": "stderr",
     "output_type": "stream",
     "text": [
      " 85%|████████▌ | 85/100 [04:57<00:52,  3.50s/it]"
     ]
    },
    {
     "name": "stdout",
     "output_type": "stream",
     "text": [
      "Saved checkpoint at epoch 84 to checkpoints/repeat-03-adrenalmnist3d-28-5-100/repeat-03-adrenalmnist3d-28-5-100-ctcnn1/experiment_3\n",
      "Removed checkpoint at epoch 83 from checkpoints/repeat-03-adrenalmnist3d-28-5-100/repeat-03-adrenalmnist3d-28-5-100-ctcnn1/experiment_3\n"
     ]
    },
    {
     "name": "stderr",
     "output_type": "stream",
     "text": [
      " 86%|████████▌ | 86/100 [05:00<00:48,  3.50s/it]"
     ]
    },
    {
     "name": "stdout",
     "output_type": "stream",
     "text": [
      "Saved checkpoint at epoch 85 to checkpoints/repeat-03-adrenalmnist3d-28-5-100/repeat-03-adrenalmnist3d-28-5-100-ctcnn1/experiment_3\n",
      "Removed checkpoint at epoch 84 from checkpoints/repeat-03-adrenalmnist3d-28-5-100/repeat-03-adrenalmnist3d-28-5-100-ctcnn1/experiment_3\n"
     ]
    },
    {
     "name": "stderr",
     "output_type": "stream",
     "text": [
      " 87%|████████▋ | 87/100 [05:04<00:45,  3.50s/it]"
     ]
    },
    {
     "name": "stdout",
     "output_type": "stream",
     "text": [
      "Saved checkpoint at epoch 86 to checkpoints/repeat-03-adrenalmnist3d-28-5-100/repeat-03-adrenalmnist3d-28-5-100-ctcnn1/experiment_3\n",
      "Removed checkpoint at epoch 85 from checkpoints/repeat-03-adrenalmnist3d-28-5-100/repeat-03-adrenalmnist3d-28-5-100-ctcnn1/experiment_3\n"
     ]
    },
    {
     "name": "stderr",
     "output_type": "stream",
     "text": [
      " 88%|████████▊ | 88/100 [05:07<00:41,  3.50s/it]"
     ]
    },
    {
     "name": "stdout",
     "output_type": "stream",
     "text": [
      "Saved checkpoint at epoch 87 to checkpoints/repeat-03-adrenalmnist3d-28-5-100/repeat-03-adrenalmnist3d-28-5-100-ctcnn1/experiment_3\n",
      "Removed checkpoint at epoch 86 from checkpoints/repeat-03-adrenalmnist3d-28-5-100/repeat-03-adrenalmnist3d-28-5-100-ctcnn1/experiment_3\n"
     ]
    },
    {
     "name": "stderr",
     "output_type": "stream",
     "text": [
      " 89%|████████▉ | 89/100 [05:11<00:38,  3.50s/it]"
     ]
    },
    {
     "name": "stdout",
     "output_type": "stream",
     "text": [
      "Saved checkpoint at epoch 88 to checkpoints/repeat-03-adrenalmnist3d-28-5-100/repeat-03-adrenalmnist3d-28-5-100-ctcnn1/experiment_3\n",
      "Removed checkpoint at epoch 87 from checkpoints/repeat-03-adrenalmnist3d-28-5-100/repeat-03-adrenalmnist3d-28-5-100-ctcnn1/experiment_3\n"
     ]
    },
    {
     "name": "stderr",
     "output_type": "stream",
     "text": [
      " 90%|█████████ | 90/100 [05:14<00:34,  3.50s/it]"
     ]
    },
    {
     "name": "stdout",
     "output_type": "stream",
     "text": [
      "Saved checkpoint at epoch 89 to checkpoints/repeat-03-adrenalmnist3d-28-5-100/repeat-03-adrenalmnist3d-28-5-100-ctcnn1/experiment_3\n",
      "Removed checkpoint at epoch 88 from checkpoints/repeat-03-adrenalmnist3d-28-5-100/repeat-03-adrenalmnist3d-28-5-100-ctcnn1/experiment_3\n"
     ]
    },
    {
     "name": "stderr",
     "output_type": "stream",
     "text": [
      " 91%|█████████ | 91/100 [05:18<00:31,  3.50s/it]"
     ]
    },
    {
     "name": "stdout",
     "output_type": "stream",
     "text": [
      "Saved checkpoint at epoch 90 to checkpoints/repeat-03-adrenalmnist3d-28-5-100/repeat-03-adrenalmnist3d-28-5-100-ctcnn1/experiment_3\n",
      "Removed checkpoint at epoch 89 from checkpoints/repeat-03-adrenalmnist3d-28-5-100/repeat-03-adrenalmnist3d-28-5-100-ctcnn1/experiment_3\n"
     ]
    },
    {
     "name": "stderr",
     "output_type": "stream",
     "text": [
      " 92%|█████████▏| 92/100 [05:21<00:27,  3.50s/it]"
     ]
    },
    {
     "name": "stdout",
     "output_type": "stream",
     "text": [
      "Saved checkpoint at epoch 91 to checkpoints/repeat-03-adrenalmnist3d-28-5-100/repeat-03-adrenalmnist3d-28-5-100-ctcnn1/experiment_3\n",
      "Removed checkpoint at epoch 90 from checkpoints/repeat-03-adrenalmnist3d-28-5-100/repeat-03-adrenalmnist3d-28-5-100-ctcnn1/experiment_3\n"
     ]
    },
    {
     "name": "stderr",
     "output_type": "stream",
     "text": [
      " 93%|█████████▎| 93/100 [05:25<00:24,  3.50s/it]"
     ]
    },
    {
     "name": "stdout",
     "output_type": "stream",
     "text": [
      "Saved checkpoint at epoch 92 to checkpoints/repeat-03-adrenalmnist3d-28-5-100/repeat-03-adrenalmnist3d-28-5-100-ctcnn1/experiment_3\n",
      "Removed checkpoint at epoch 91 from checkpoints/repeat-03-adrenalmnist3d-28-5-100/repeat-03-adrenalmnist3d-28-5-100-ctcnn1/experiment_3\n"
     ]
    },
    {
     "name": "stderr",
     "output_type": "stream",
     "text": [
      " 94%|█████████▍| 94/100 [05:28<00:20,  3.50s/it]"
     ]
    },
    {
     "name": "stdout",
     "output_type": "stream",
     "text": [
      "Saved checkpoint at epoch 93 to checkpoints/repeat-03-adrenalmnist3d-28-5-100/repeat-03-adrenalmnist3d-28-5-100-ctcnn1/experiment_3\n",
      "Removed checkpoint at epoch 92 from checkpoints/repeat-03-adrenalmnist3d-28-5-100/repeat-03-adrenalmnist3d-28-5-100-ctcnn1/experiment_3\n"
     ]
    },
    {
     "name": "stderr",
     "output_type": "stream",
     "text": [
      " 95%|█████████▌| 95/100 [05:32<00:17,  3.50s/it]"
     ]
    },
    {
     "name": "stdout",
     "output_type": "stream",
     "text": [
      "Saved checkpoint at epoch 94 to checkpoints/repeat-03-adrenalmnist3d-28-5-100/repeat-03-adrenalmnist3d-28-5-100-ctcnn1/experiment_3\n",
      "Removed checkpoint at epoch 93 from checkpoints/repeat-03-adrenalmnist3d-28-5-100/repeat-03-adrenalmnist3d-28-5-100-ctcnn1/experiment_3\n"
     ]
    },
    {
     "name": "stderr",
     "output_type": "stream",
     "text": [
      " 96%|█████████▌| 96/100 [05:35<00:13,  3.50s/it]"
     ]
    },
    {
     "name": "stdout",
     "output_type": "stream",
     "text": [
      "Saved checkpoint at epoch 95 to checkpoints/repeat-03-adrenalmnist3d-28-5-100/repeat-03-adrenalmnist3d-28-5-100-ctcnn1/experiment_3\n",
      "Removed checkpoint at epoch 94 from checkpoints/repeat-03-adrenalmnist3d-28-5-100/repeat-03-adrenalmnist3d-28-5-100-ctcnn1/experiment_3\n"
     ]
    },
    {
     "name": "stderr",
     "output_type": "stream",
     "text": [
      " 97%|█████████▋| 97/100 [05:39<00:10,  3.50s/it]"
     ]
    },
    {
     "name": "stdout",
     "output_type": "stream",
     "text": [
      "Saved checkpoint at epoch 96 to checkpoints/repeat-03-adrenalmnist3d-28-5-100/repeat-03-adrenalmnist3d-28-5-100-ctcnn1/experiment_3\n",
      "Removed checkpoint at epoch 95 from checkpoints/repeat-03-adrenalmnist3d-28-5-100/repeat-03-adrenalmnist3d-28-5-100-ctcnn1/experiment_3\n"
     ]
    },
    {
     "name": "stderr",
     "output_type": "stream",
     "text": [
      " 98%|█████████▊| 98/100 [05:42<00:06,  3.50s/it]"
     ]
    },
    {
     "name": "stdout",
     "output_type": "stream",
     "text": [
      "Saved checkpoint at epoch 97 to checkpoints/repeat-03-adrenalmnist3d-28-5-100/repeat-03-adrenalmnist3d-28-5-100-ctcnn1/experiment_3\n",
      "Removed checkpoint at epoch 96 from checkpoints/repeat-03-adrenalmnist3d-28-5-100/repeat-03-adrenalmnist3d-28-5-100-ctcnn1/experiment_3\n"
     ]
    },
    {
     "name": "stderr",
     "output_type": "stream",
     "text": [
      " 99%|█████████▉| 99/100 [05:46<00:03,  3.50s/it]"
     ]
    },
    {
     "name": "stdout",
     "output_type": "stream",
     "text": [
      "Saved checkpoint at epoch 98 to checkpoints/repeat-03-adrenalmnist3d-28-5-100/repeat-03-adrenalmnist3d-28-5-100-ctcnn1/experiment_3\n",
      "Removed checkpoint at epoch 97 from checkpoints/repeat-03-adrenalmnist3d-28-5-100/repeat-03-adrenalmnist3d-28-5-100-ctcnn1/experiment_3\n"
     ]
    },
    {
     "name": "stderr",
     "output_type": "stream",
     "text": [
      "100%|██████████| 100/100 [05:49<00:00,  3.50s/it]\n"
     ]
    },
    {
     "name": "stdout",
     "output_type": "stream",
     "text": [
      "Saved checkpoint at epoch 99 to checkpoints/repeat-03-adrenalmnist3d-28-5-100/repeat-03-adrenalmnist3d-28-5-100-ctcnn1/experiment_3\n",
      "Removed checkpoint at epoch 98 from checkpoints/repeat-03-adrenalmnist3d-28-5-100/repeat-03-adrenalmnist3d-28-5-100-ctcnn1/experiment_3\n",
      "Training time: 349.66s and Average time per epoch: 3.50s\n",
      "Test Accuracy: 236/298 (79.19463%)\n",
      "\n",
      "Test AUC Score: 0.82716 Precision: 0.57778 Recall: 0.37681 F1: 0.45614\n",
      "Result for experiment 3/5: acc: 79.19463 \tauc: 0.82716\n",
      "recall: 0.37681 \tprecision: 0.57778 \tf1: 0.45614\n",
      "Running experiment 4/5\n",
      "Checkpoints will be saved in checkpoints/repeat-03-adrenalmnist3d-28-5-100/repeat-03-adrenalmnist3d-28-5-100-ctcnn1/experiment_4\n",
      "No checkpoints found\n",
      "Training on cuda and 1 GPUs:\n",
      "Device 0: NVIDIA GeForce RTX 4090\n",
      "Model parameters: 263243(0.25105MB)\n",
      "Start training from epoch 0 to 100\n"
     ]
    },
    {
     "name": "stderr",
     "output_type": "stream",
     "text": [
      "  1%|          | 1/100 [00:03<05:46,  3.50s/it]"
     ]
    },
    {
     "name": "stdout",
     "output_type": "stream",
     "text": [
      "saved best checkpoint at epoch 0 to checkpoints/repeat-03-adrenalmnist3d-28-5-100/repeat-03-adrenalmnist3d-28-5-100-ctcnn1/experiment_4\n",
      "Saved checkpoint at epoch 0 to checkpoints/repeat-03-adrenalmnist3d-28-5-100/repeat-03-adrenalmnist3d-28-5-100-ctcnn1/experiment_4\n"
     ]
    },
    {
     "name": "stderr",
     "output_type": "stream",
     "text": [
      "  2%|▏         | 2/100 [00:06<05:42,  3.50s/it]"
     ]
    },
    {
     "name": "stdout",
     "output_type": "stream",
     "text": [
      "Saved checkpoint at epoch 1 to checkpoints/repeat-03-adrenalmnist3d-28-5-100/repeat-03-adrenalmnist3d-28-5-100-ctcnn1/experiment_4\n",
      "Removed checkpoint at epoch 0 from checkpoints/repeat-03-adrenalmnist3d-28-5-100/repeat-03-adrenalmnist3d-28-5-100-ctcnn1/experiment_4\n"
     ]
    },
    {
     "name": "stderr",
     "output_type": "stream",
     "text": [
      "  3%|▎         | 3/100 [00:10<05:39,  3.50s/it]"
     ]
    },
    {
     "name": "stdout",
     "output_type": "stream",
     "text": [
      "Saved checkpoint at epoch 2 to checkpoints/repeat-03-adrenalmnist3d-28-5-100/repeat-03-adrenalmnist3d-28-5-100-ctcnn1/experiment_4\n",
      "Removed checkpoint at epoch 1 from checkpoints/repeat-03-adrenalmnist3d-28-5-100/repeat-03-adrenalmnist3d-28-5-100-ctcnn1/experiment_4\n"
     ]
    },
    {
     "name": "stderr",
     "output_type": "stream",
     "text": [
      "  4%|▍         | 4/100 [00:13<05:35,  3.50s/it]"
     ]
    },
    {
     "name": "stdout",
     "output_type": "stream",
     "text": [
      "Saved checkpoint at epoch 3 to checkpoints/repeat-03-adrenalmnist3d-28-5-100/repeat-03-adrenalmnist3d-28-5-100-ctcnn1/experiment_4\n",
      "Removed checkpoint at epoch 2 from checkpoints/repeat-03-adrenalmnist3d-28-5-100/repeat-03-adrenalmnist3d-28-5-100-ctcnn1/experiment_4\n"
     ]
    },
    {
     "name": "stderr",
     "output_type": "stream",
     "text": [
      "  5%|▌         | 5/100 [00:17<05:32,  3.50s/it]"
     ]
    },
    {
     "name": "stdout",
     "output_type": "stream",
     "text": [
      "Saved checkpoint at epoch 4 to checkpoints/repeat-03-adrenalmnist3d-28-5-100/repeat-03-adrenalmnist3d-28-5-100-ctcnn1/experiment_4\n",
      "Removed checkpoint at epoch 3 from checkpoints/repeat-03-adrenalmnist3d-28-5-100/repeat-03-adrenalmnist3d-28-5-100-ctcnn1/experiment_4\n"
     ]
    },
    {
     "name": "stderr",
     "output_type": "stream",
     "text": [
      "  6%|▌         | 6/100 [00:20<05:28,  3.50s/it]"
     ]
    },
    {
     "name": "stdout",
     "output_type": "stream",
     "text": [
      "Saved checkpoint at epoch 5 to checkpoints/repeat-03-adrenalmnist3d-28-5-100/repeat-03-adrenalmnist3d-28-5-100-ctcnn1/experiment_4\n",
      "Removed checkpoint at epoch 4 from checkpoints/repeat-03-adrenalmnist3d-28-5-100/repeat-03-adrenalmnist3d-28-5-100-ctcnn1/experiment_4\n"
     ]
    },
    {
     "name": "stderr",
     "output_type": "stream",
     "text": [
      "  7%|▋         | 7/100 [00:24<05:25,  3.50s/it]"
     ]
    },
    {
     "name": "stdout",
     "output_type": "stream",
     "text": [
      "Saved checkpoint at epoch 6 to checkpoints/repeat-03-adrenalmnist3d-28-5-100/repeat-03-adrenalmnist3d-28-5-100-ctcnn1/experiment_4\n",
      "Removed checkpoint at epoch 5 from checkpoints/repeat-03-adrenalmnist3d-28-5-100/repeat-03-adrenalmnist3d-28-5-100-ctcnn1/experiment_4\n"
     ]
    },
    {
     "name": "stderr",
     "output_type": "stream",
     "text": [
      "  8%|▊         | 8/100 [00:27<05:21,  3.50s/it]"
     ]
    },
    {
     "name": "stdout",
     "output_type": "stream",
     "text": [
      "Saved checkpoint at epoch 7 to checkpoints/repeat-03-adrenalmnist3d-28-5-100/repeat-03-adrenalmnist3d-28-5-100-ctcnn1/experiment_4\n",
      "Removed checkpoint at epoch 6 from checkpoints/repeat-03-adrenalmnist3d-28-5-100/repeat-03-adrenalmnist3d-28-5-100-ctcnn1/experiment_4\n"
     ]
    },
    {
     "name": "stderr",
     "output_type": "stream",
     "text": [
      "  9%|▉         | 9/100 [00:31<05:18,  3.50s/it]"
     ]
    },
    {
     "name": "stdout",
     "output_type": "stream",
     "text": [
      "Saved checkpoint at epoch 8 to checkpoints/repeat-03-adrenalmnist3d-28-5-100/repeat-03-adrenalmnist3d-28-5-100-ctcnn1/experiment_4\n",
      "Removed checkpoint at epoch 7 from checkpoints/repeat-03-adrenalmnist3d-28-5-100/repeat-03-adrenalmnist3d-28-5-100-ctcnn1/experiment_4\n"
     ]
    },
    {
     "name": "stderr",
     "output_type": "stream",
     "text": [
      " 10%|█         | 10/100 [00:34<05:14,  3.50s/it]"
     ]
    },
    {
     "name": "stdout",
     "output_type": "stream",
     "text": [
      "Saved checkpoint at epoch 9 to checkpoints/repeat-03-adrenalmnist3d-28-5-100/repeat-03-adrenalmnist3d-28-5-100-ctcnn1/experiment_4\n",
      "Removed checkpoint at epoch 8 from checkpoints/repeat-03-adrenalmnist3d-28-5-100/repeat-03-adrenalmnist3d-28-5-100-ctcnn1/experiment_4\n"
     ]
    },
    {
     "name": "stderr",
     "output_type": "stream",
     "text": [
      " 11%|█         | 11/100 [00:38<05:11,  3.50s/it]"
     ]
    },
    {
     "name": "stdout",
     "output_type": "stream",
     "text": [
      "Saved checkpoint at epoch 10 to checkpoints/repeat-03-adrenalmnist3d-28-5-100/repeat-03-adrenalmnist3d-28-5-100-ctcnn1/experiment_4\n",
      "Removed checkpoint at epoch 9 from checkpoints/repeat-03-adrenalmnist3d-28-5-100/repeat-03-adrenalmnist3d-28-5-100-ctcnn1/experiment_4\n"
     ]
    },
    {
     "name": "stderr",
     "output_type": "stream",
     "text": [
      " 12%|█▏        | 12/100 [00:41<05:07,  3.50s/it]"
     ]
    },
    {
     "name": "stdout",
     "output_type": "stream",
     "text": [
      "Saved checkpoint at epoch 11 to checkpoints/repeat-03-adrenalmnist3d-28-5-100/repeat-03-adrenalmnist3d-28-5-100-ctcnn1/experiment_4\n",
      "Removed checkpoint at epoch 10 from checkpoints/repeat-03-adrenalmnist3d-28-5-100/repeat-03-adrenalmnist3d-28-5-100-ctcnn1/experiment_4\n"
     ]
    },
    {
     "name": "stderr",
     "output_type": "stream",
     "text": [
      " 13%|█▎        | 13/100 [00:45<05:04,  3.50s/it]"
     ]
    },
    {
     "name": "stdout",
     "output_type": "stream",
     "text": [
      "Saved checkpoint at epoch 12 to checkpoints/repeat-03-adrenalmnist3d-28-5-100/repeat-03-adrenalmnist3d-28-5-100-ctcnn1/experiment_4\n",
      "Removed checkpoint at epoch 11 from checkpoints/repeat-03-adrenalmnist3d-28-5-100/repeat-03-adrenalmnist3d-28-5-100-ctcnn1/experiment_4\n"
     ]
    },
    {
     "name": "stderr",
     "output_type": "stream",
     "text": [
      " 14%|█▍        | 14/100 [00:48<05:00,  3.50s/it]"
     ]
    },
    {
     "name": "stdout",
     "output_type": "stream",
     "text": [
      "Saved checkpoint at epoch 13 to checkpoints/repeat-03-adrenalmnist3d-28-5-100/repeat-03-adrenalmnist3d-28-5-100-ctcnn1/experiment_4\n",
      "Removed checkpoint at epoch 12 from checkpoints/repeat-03-adrenalmnist3d-28-5-100/repeat-03-adrenalmnist3d-28-5-100-ctcnn1/experiment_4\n"
     ]
    },
    {
     "name": "stderr",
     "output_type": "stream",
     "text": [
      " 15%|█▌        | 15/100 [00:52<04:57,  3.50s/it]"
     ]
    },
    {
     "name": "stdout",
     "output_type": "stream",
     "text": [
      "Saved checkpoint at epoch 14 to checkpoints/repeat-03-adrenalmnist3d-28-5-100/repeat-03-adrenalmnist3d-28-5-100-ctcnn1/experiment_4\n",
      "Removed checkpoint at epoch 13 from checkpoints/repeat-03-adrenalmnist3d-28-5-100/repeat-03-adrenalmnist3d-28-5-100-ctcnn1/experiment_4\n"
     ]
    },
    {
     "name": "stderr",
     "output_type": "stream",
     "text": [
      " 16%|█▌        | 16/100 [00:55<04:53,  3.50s/it]"
     ]
    },
    {
     "name": "stdout",
     "output_type": "stream",
     "text": [
      "Saved checkpoint at epoch 15 to checkpoints/repeat-03-adrenalmnist3d-28-5-100/repeat-03-adrenalmnist3d-28-5-100-ctcnn1/experiment_4\n",
      "Removed checkpoint at epoch 14 from checkpoints/repeat-03-adrenalmnist3d-28-5-100/repeat-03-adrenalmnist3d-28-5-100-ctcnn1/experiment_4\n"
     ]
    },
    {
     "name": "stderr",
     "output_type": "stream",
     "text": [
      " 17%|█▋        | 17/100 [00:59<04:50,  3.50s/it]"
     ]
    },
    {
     "name": "stdout",
     "output_type": "stream",
     "text": [
      "Saved checkpoint at epoch 16 to checkpoints/repeat-03-adrenalmnist3d-28-5-100/repeat-03-adrenalmnist3d-28-5-100-ctcnn1/experiment_4\n",
      "Removed checkpoint at epoch 15 from checkpoints/repeat-03-adrenalmnist3d-28-5-100/repeat-03-adrenalmnist3d-28-5-100-ctcnn1/experiment_4\n"
     ]
    },
    {
     "name": "stderr",
     "output_type": "stream",
     "text": [
      " 18%|█▊        | 18/100 [01:02<04:46,  3.50s/it]"
     ]
    },
    {
     "name": "stdout",
     "output_type": "stream",
     "text": [
      "Saved checkpoint at epoch 17 to checkpoints/repeat-03-adrenalmnist3d-28-5-100/repeat-03-adrenalmnist3d-28-5-100-ctcnn1/experiment_4\n",
      "Removed checkpoint at epoch 16 from checkpoints/repeat-03-adrenalmnist3d-28-5-100/repeat-03-adrenalmnist3d-28-5-100-ctcnn1/experiment_4\n"
     ]
    },
    {
     "name": "stderr",
     "output_type": "stream",
     "text": [
      " 19%|█▉        | 19/100 [01:06<04:43,  3.50s/it]"
     ]
    },
    {
     "name": "stdout",
     "output_type": "stream",
     "text": [
      "Saved checkpoint at epoch 18 to checkpoints/repeat-03-adrenalmnist3d-28-5-100/repeat-03-adrenalmnist3d-28-5-100-ctcnn1/experiment_4\n",
      "Removed checkpoint at epoch 17 from checkpoints/repeat-03-adrenalmnist3d-28-5-100/repeat-03-adrenalmnist3d-28-5-100-ctcnn1/experiment_4\n"
     ]
    },
    {
     "name": "stderr",
     "output_type": "stream",
     "text": [
      " 20%|██        | 20/100 [01:09<04:39,  3.50s/it]"
     ]
    },
    {
     "name": "stdout",
     "output_type": "stream",
     "text": [
      "Saved checkpoint at epoch 19 to checkpoints/repeat-03-adrenalmnist3d-28-5-100/repeat-03-adrenalmnist3d-28-5-100-ctcnn1/experiment_4\n",
      "Removed checkpoint at epoch 18 from checkpoints/repeat-03-adrenalmnist3d-28-5-100/repeat-03-adrenalmnist3d-28-5-100-ctcnn1/experiment_4\n"
     ]
    },
    {
     "name": "stderr",
     "output_type": "stream",
     "text": [
      " 21%|██        | 21/100 [01:13<04:36,  3.50s/it]"
     ]
    },
    {
     "name": "stdout",
     "output_type": "stream",
     "text": [
      "Saved checkpoint at epoch 20 to checkpoints/repeat-03-adrenalmnist3d-28-5-100/repeat-03-adrenalmnist3d-28-5-100-ctcnn1/experiment_4\n",
      "Removed checkpoint at epoch 19 from checkpoints/repeat-03-adrenalmnist3d-28-5-100/repeat-03-adrenalmnist3d-28-5-100-ctcnn1/experiment_4\n"
     ]
    },
    {
     "name": "stderr",
     "output_type": "stream",
     "text": [
      " 22%|██▏       | 22/100 [01:16<04:32,  3.50s/it]"
     ]
    },
    {
     "name": "stdout",
     "output_type": "stream",
     "text": [
      "saved best checkpoint at epoch 21 to checkpoints/repeat-03-adrenalmnist3d-28-5-100/repeat-03-adrenalmnist3d-28-5-100-ctcnn1/experiment_4\n",
      "Saved checkpoint at epoch 21 to checkpoints/repeat-03-adrenalmnist3d-28-5-100/repeat-03-adrenalmnist3d-28-5-100-ctcnn1/experiment_4\n",
      "Removed checkpoint at epoch 20 from checkpoints/repeat-03-adrenalmnist3d-28-5-100/repeat-03-adrenalmnist3d-28-5-100-ctcnn1/experiment_4\n"
     ]
    },
    {
     "name": "stderr",
     "output_type": "stream",
     "text": [
      " 23%|██▎       | 23/100 [01:20<04:29,  3.50s/it]"
     ]
    },
    {
     "name": "stdout",
     "output_type": "stream",
     "text": [
      "Saved checkpoint at epoch 22 to checkpoints/repeat-03-adrenalmnist3d-28-5-100/repeat-03-adrenalmnist3d-28-5-100-ctcnn1/experiment_4\n",
      "Removed checkpoint at epoch 21 from checkpoints/repeat-03-adrenalmnist3d-28-5-100/repeat-03-adrenalmnist3d-28-5-100-ctcnn1/experiment_4\n"
     ]
    },
    {
     "name": "stderr",
     "output_type": "stream",
     "text": [
      " 24%|██▍       | 24/100 [01:23<04:25,  3.50s/it]"
     ]
    },
    {
     "name": "stdout",
     "output_type": "stream",
     "text": [
      "Saved checkpoint at epoch 23 to checkpoints/repeat-03-adrenalmnist3d-28-5-100/repeat-03-adrenalmnist3d-28-5-100-ctcnn1/experiment_4\n",
      "Removed checkpoint at epoch 22 from checkpoints/repeat-03-adrenalmnist3d-28-5-100/repeat-03-adrenalmnist3d-28-5-100-ctcnn1/experiment_4\n"
     ]
    },
    {
     "name": "stderr",
     "output_type": "stream",
     "text": [
      " 25%|██▌       | 25/100 [01:27<04:22,  3.50s/it]"
     ]
    },
    {
     "name": "stdout",
     "output_type": "stream",
     "text": [
      "saved best checkpoint at epoch 24 to checkpoints/repeat-03-adrenalmnist3d-28-5-100/repeat-03-adrenalmnist3d-28-5-100-ctcnn1/experiment_4\n",
      "Saved checkpoint at epoch 24 to checkpoints/repeat-03-adrenalmnist3d-28-5-100/repeat-03-adrenalmnist3d-28-5-100-ctcnn1/experiment_4\n",
      "Removed checkpoint at epoch 23 from checkpoints/repeat-03-adrenalmnist3d-28-5-100/repeat-03-adrenalmnist3d-28-5-100-ctcnn1/experiment_4\n"
     ]
    },
    {
     "name": "stderr",
     "output_type": "stream",
     "text": [
      " 26%|██▌       | 26/100 [01:30<04:18,  3.50s/it]"
     ]
    },
    {
     "name": "stdout",
     "output_type": "stream",
     "text": [
      "Saved checkpoint at epoch 25 to checkpoints/repeat-03-adrenalmnist3d-28-5-100/repeat-03-adrenalmnist3d-28-5-100-ctcnn1/experiment_4\n",
      "Removed checkpoint at epoch 24 from checkpoints/repeat-03-adrenalmnist3d-28-5-100/repeat-03-adrenalmnist3d-28-5-100-ctcnn1/experiment_4\n"
     ]
    },
    {
     "name": "stderr",
     "output_type": "stream",
     "text": [
      " 27%|██▋       | 27/100 [01:34<04:15,  3.50s/it]"
     ]
    },
    {
     "name": "stdout",
     "output_type": "stream",
     "text": [
      "Saved checkpoint at epoch 26 to checkpoints/repeat-03-adrenalmnist3d-28-5-100/repeat-03-adrenalmnist3d-28-5-100-ctcnn1/experiment_4\n",
      "Removed checkpoint at epoch 25 from checkpoints/repeat-03-adrenalmnist3d-28-5-100/repeat-03-adrenalmnist3d-28-5-100-ctcnn1/experiment_4\n"
     ]
    },
    {
     "name": "stderr",
     "output_type": "stream",
     "text": [
      " 28%|██▊       | 28/100 [01:37<04:11,  3.50s/it]"
     ]
    },
    {
     "name": "stdout",
     "output_type": "stream",
     "text": [
      "Saved checkpoint at epoch 27 to checkpoints/repeat-03-adrenalmnist3d-28-5-100/repeat-03-adrenalmnist3d-28-5-100-ctcnn1/experiment_4\n",
      "Removed checkpoint at epoch 26 from checkpoints/repeat-03-adrenalmnist3d-28-5-100/repeat-03-adrenalmnist3d-28-5-100-ctcnn1/experiment_4\n"
     ]
    },
    {
     "name": "stderr",
     "output_type": "stream",
     "text": [
      " 29%|██▉       | 29/100 [01:41<04:08,  3.50s/it]"
     ]
    },
    {
     "name": "stdout",
     "output_type": "stream",
     "text": [
      "Saved checkpoint at epoch 28 to checkpoints/repeat-03-adrenalmnist3d-28-5-100/repeat-03-adrenalmnist3d-28-5-100-ctcnn1/experiment_4\n",
      "Removed checkpoint at epoch 27 from checkpoints/repeat-03-adrenalmnist3d-28-5-100/repeat-03-adrenalmnist3d-28-5-100-ctcnn1/experiment_4\n"
     ]
    },
    {
     "name": "stderr",
     "output_type": "stream",
     "text": [
      " 30%|███       | 30/100 [01:44<04:05,  3.50s/it]"
     ]
    },
    {
     "name": "stdout",
     "output_type": "stream",
     "text": [
      "saved best checkpoint at epoch 29 to checkpoints/repeat-03-adrenalmnist3d-28-5-100/repeat-03-adrenalmnist3d-28-5-100-ctcnn1/experiment_4\n",
      "Saved checkpoint at epoch 29 to checkpoints/repeat-03-adrenalmnist3d-28-5-100/repeat-03-adrenalmnist3d-28-5-100-ctcnn1/experiment_4\n",
      "Removed checkpoint at epoch 28 from checkpoints/repeat-03-adrenalmnist3d-28-5-100/repeat-03-adrenalmnist3d-28-5-100-ctcnn1/experiment_4\n"
     ]
    },
    {
     "name": "stderr",
     "output_type": "stream",
     "text": [
      " 31%|███       | 31/100 [01:48<04:01,  3.50s/it]"
     ]
    },
    {
     "name": "stdout",
     "output_type": "stream",
     "text": [
      "saved best checkpoint at epoch 30 to checkpoints/repeat-03-adrenalmnist3d-28-5-100/repeat-03-adrenalmnist3d-28-5-100-ctcnn1/experiment_4\n",
      "Saved checkpoint at epoch 30 to checkpoints/repeat-03-adrenalmnist3d-28-5-100/repeat-03-adrenalmnist3d-28-5-100-ctcnn1/experiment_4\n",
      "Removed checkpoint at epoch 29 from checkpoints/repeat-03-adrenalmnist3d-28-5-100/repeat-03-adrenalmnist3d-28-5-100-ctcnn1/experiment_4\n"
     ]
    },
    {
     "name": "stderr",
     "output_type": "stream",
     "text": [
      " 32%|███▏      | 32/100 [01:51<03:58,  3.50s/it]"
     ]
    },
    {
     "name": "stdout",
     "output_type": "stream",
     "text": [
      "Saved checkpoint at epoch 31 to checkpoints/repeat-03-adrenalmnist3d-28-5-100/repeat-03-adrenalmnist3d-28-5-100-ctcnn1/experiment_4\n",
      "Removed checkpoint at epoch 30 from checkpoints/repeat-03-adrenalmnist3d-28-5-100/repeat-03-adrenalmnist3d-28-5-100-ctcnn1/experiment_4\n"
     ]
    },
    {
     "name": "stderr",
     "output_type": "stream",
     "text": [
      " 33%|███▎      | 33/100 [01:55<03:54,  3.50s/it]"
     ]
    },
    {
     "name": "stdout",
     "output_type": "stream",
     "text": [
      "Saved checkpoint at epoch 32 to checkpoints/repeat-03-adrenalmnist3d-28-5-100/repeat-03-adrenalmnist3d-28-5-100-ctcnn1/experiment_4\n",
      "Removed checkpoint at epoch 31 from checkpoints/repeat-03-adrenalmnist3d-28-5-100/repeat-03-adrenalmnist3d-28-5-100-ctcnn1/experiment_4\n"
     ]
    },
    {
     "name": "stderr",
     "output_type": "stream",
     "text": [
      " 34%|███▍      | 34/100 [01:58<03:50,  3.50s/it]"
     ]
    },
    {
     "name": "stdout",
     "output_type": "stream",
     "text": [
      "Saved checkpoint at epoch 33 to checkpoints/repeat-03-adrenalmnist3d-28-5-100/repeat-03-adrenalmnist3d-28-5-100-ctcnn1/experiment_4\n",
      "Removed checkpoint at epoch 32 from checkpoints/repeat-03-adrenalmnist3d-28-5-100/repeat-03-adrenalmnist3d-28-5-100-ctcnn1/experiment_4\n"
     ]
    },
    {
     "name": "stderr",
     "output_type": "stream",
     "text": [
      " 35%|███▌      | 35/100 [02:02<03:47,  3.49s/it]"
     ]
    },
    {
     "name": "stdout",
     "output_type": "stream",
     "text": [
      "Saved checkpoint at epoch 34 to checkpoints/repeat-03-adrenalmnist3d-28-5-100/repeat-03-adrenalmnist3d-28-5-100-ctcnn1/experiment_4\n",
      "Removed checkpoint at epoch 33 from checkpoints/repeat-03-adrenalmnist3d-28-5-100/repeat-03-adrenalmnist3d-28-5-100-ctcnn1/experiment_4\n"
     ]
    },
    {
     "name": "stderr",
     "output_type": "stream",
     "text": [
      " 36%|███▌      | 36/100 [02:05<03:43,  3.50s/it]"
     ]
    },
    {
     "name": "stdout",
     "output_type": "stream",
     "text": [
      "Saved checkpoint at epoch 35 to checkpoints/repeat-03-adrenalmnist3d-28-5-100/repeat-03-adrenalmnist3d-28-5-100-ctcnn1/experiment_4\n",
      "Removed checkpoint at epoch 34 from checkpoints/repeat-03-adrenalmnist3d-28-5-100/repeat-03-adrenalmnist3d-28-5-100-ctcnn1/experiment_4\n"
     ]
    },
    {
     "name": "stderr",
     "output_type": "stream",
     "text": [
      " 37%|███▋      | 37/100 [02:09<03:40,  3.50s/it]"
     ]
    },
    {
     "name": "stdout",
     "output_type": "stream",
     "text": [
      "Saved checkpoint at epoch 36 to checkpoints/repeat-03-adrenalmnist3d-28-5-100/repeat-03-adrenalmnist3d-28-5-100-ctcnn1/experiment_4\n",
      "Removed checkpoint at epoch 35 from checkpoints/repeat-03-adrenalmnist3d-28-5-100/repeat-03-adrenalmnist3d-28-5-100-ctcnn1/experiment_4\n"
     ]
    },
    {
     "name": "stderr",
     "output_type": "stream",
     "text": [
      " 38%|███▊      | 38/100 [02:12<03:36,  3.50s/it]"
     ]
    },
    {
     "name": "stdout",
     "output_type": "stream",
     "text": [
      "saved best checkpoint at epoch 37 to checkpoints/repeat-03-adrenalmnist3d-28-5-100/repeat-03-adrenalmnist3d-28-5-100-ctcnn1/experiment_4\n",
      "Saved checkpoint at epoch 37 to checkpoints/repeat-03-adrenalmnist3d-28-5-100/repeat-03-adrenalmnist3d-28-5-100-ctcnn1/experiment_4\n",
      "Removed checkpoint at epoch 36 from checkpoints/repeat-03-adrenalmnist3d-28-5-100/repeat-03-adrenalmnist3d-28-5-100-ctcnn1/experiment_4\n"
     ]
    },
    {
     "name": "stderr",
     "output_type": "stream",
     "text": [
      " 39%|███▉      | 39/100 [02:16<03:33,  3.50s/it]"
     ]
    },
    {
     "name": "stdout",
     "output_type": "stream",
     "text": [
      "saved best checkpoint at epoch 38 to checkpoints/repeat-03-adrenalmnist3d-28-5-100/repeat-03-adrenalmnist3d-28-5-100-ctcnn1/experiment_4\n",
      "Saved checkpoint at epoch 38 to checkpoints/repeat-03-adrenalmnist3d-28-5-100/repeat-03-adrenalmnist3d-28-5-100-ctcnn1/experiment_4\n",
      "Removed checkpoint at epoch 37 from checkpoints/repeat-03-adrenalmnist3d-28-5-100/repeat-03-adrenalmnist3d-28-5-100-ctcnn1/experiment_4\n"
     ]
    },
    {
     "name": "stderr",
     "output_type": "stream",
     "text": [
      " 40%|████      | 40/100 [02:19<03:30,  3.50s/it]"
     ]
    },
    {
     "name": "stdout",
     "output_type": "stream",
     "text": [
      "saved best checkpoint at epoch 39 to checkpoints/repeat-03-adrenalmnist3d-28-5-100/repeat-03-adrenalmnist3d-28-5-100-ctcnn1/experiment_4\n",
      "Saved checkpoint at epoch 39 to checkpoints/repeat-03-adrenalmnist3d-28-5-100/repeat-03-adrenalmnist3d-28-5-100-ctcnn1/experiment_4\n",
      "Removed checkpoint at epoch 38 from checkpoints/repeat-03-adrenalmnist3d-28-5-100/repeat-03-adrenalmnist3d-28-5-100-ctcnn1/experiment_4\n"
     ]
    },
    {
     "name": "stderr",
     "output_type": "stream",
     "text": [
      " 41%|████      | 41/100 [02:23<03:26,  3.50s/it]"
     ]
    },
    {
     "name": "stdout",
     "output_type": "stream",
     "text": [
      "Saved checkpoint at epoch 40 to checkpoints/repeat-03-adrenalmnist3d-28-5-100/repeat-03-adrenalmnist3d-28-5-100-ctcnn1/experiment_4\n",
      "Removed checkpoint at epoch 39 from checkpoints/repeat-03-adrenalmnist3d-28-5-100/repeat-03-adrenalmnist3d-28-5-100-ctcnn1/experiment_4\n"
     ]
    },
    {
     "name": "stderr",
     "output_type": "stream",
     "text": [
      " 42%|████▏     | 42/100 [02:26<03:22,  3.50s/it]"
     ]
    },
    {
     "name": "stdout",
     "output_type": "stream",
     "text": [
      "Saved checkpoint at epoch 41 to checkpoints/repeat-03-adrenalmnist3d-28-5-100/repeat-03-adrenalmnist3d-28-5-100-ctcnn1/experiment_4\n",
      "Removed checkpoint at epoch 40 from checkpoints/repeat-03-adrenalmnist3d-28-5-100/repeat-03-adrenalmnist3d-28-5-100-ctcnn1/experiment_4\n"
     ]
    },
    {
     "name": "stderr",
     "output_type": "stream",
     "text": [
      " 43%|████▎     | 43/100 [02:30<03:19,  3.50s/it]"
     ]
    },
    {
     "name": "stdout",
     "output_type": "stream",
     "text": [
      "saved best checkpoint at epoch 42 to checkpoints/repeat-03-adrenalmnist3d-28-5-100/repeat-03-adrenalmnist3d-28-5-100-ctcnn1/experiment_4\n",
      "Saved checkpoint at epoch 42 to checkpoints/repeat-03-adrenalmnist3d-28-5-100/repeat-03-adrenalmnist3d-28-5-100-ctcnn1/experiment_4\n",
      "Removed checkpoint at epoch 41 from checkpoints/repeat-03-adrenalmnist3d-28-5-100/repeat-03-adrenalmnist3d-28-5-100-ctcnn1/experiment_4\n"
     ]
    },
    {
     "name": "stderr",
     "output_type": "stream",
     "text": [
      " 44%|████▍     | 44/100 [02:33<03:16,  3.50s/it]"
     ]
    },
    {
     "name": "stdout",
     "output_type": "stream",
     "text": [
      "Saved checkpoint at epoch 43 to checkpoints/repeat-03-adrenalmnist3d-28-5-100/repeat-03-adrenalmnist3d-28-5-100-ctcnn1/experiment_4\n",
      "Removed checkpoint at epoch 42 from checkpoints/repeat-03-adrenalmnist3d-28-5-100/repeat-03-adrenalmnist3d-28-5-100-ctcnn1/experiment_4\n"
     ]
    },
    {
     "name": "stderr",
     "output_type": "stream",
     "text": [
      " 45%|████▌     | 45/100 [02:37<03:12,  3.50s/it]"
     ]
    },
    {
     "name": "stdout",
     "output_type": "stream",
     "text": [
      "Saved checkpoint at epoch 44 to checkpoints/repeat-03-adrenalmnist3d-28-5-100/repeat-03-adrenalmnist3d-28-5-100-ctcnn1/experiment_4\n",
      "Removed checkpoint at epoch 43 from checkpoints/repeat-03-adrenalmnist3d-28-5-100/repeat-03-adrenalmnist3d-28-5-100-ctcnn1/experiment_4\n"
     ]
    },
    {
     "name": "stderr",
     "output_type": "stream",
     "text": [
      " 46%|████▌     | 46/100 [02:40<03:08,  3.50s/it]"
     ]
    },
    {
     "name": "stdout",
     "output_type": "stream",
     "text": [
      "Saved checkpoint at epoch 45 to checkpoints/repeat-03-adrenalmnist3d-28-5-100/repeat-03-adrenalmnist3d-28-5-100-ctcnn1/experiment_4\n",
      "Removed checkpoint at epoch 44 from checkpoints/repeat-03-adrenalmnist3d-28-5-100/repeat-03-adrenalmnist3d-28-5-100-ctcnn1/experiment_4\n"
     ]
    },
    {
     "name": "stderr",
     "output_type": "stream",
     "text": [
      " 47%|████▋     | 47/100 [02:44<03:05,  3.50s/it]"
     ]
    },
    {
     "name": "stdout",
     "output_type": "stream",
     "text": [
      "saved best checkpoint at epoch 46 to checkpoints/repeat-03-adrenalmnist3d-28-5-100/repeat-03-adrenalmnist3d-28-5-100-ctcnn1/experiment_4\n",
      "Saved checkpoint at epoch 46 to checkpoints/repeat-03-adrenalmnist3d-28-5-100/repeat-03-adrenalmnist3d-28-5-100-ctcnn1/experiment_4\n",
      "Removed checkpoint at epoch 45 from checkpoints/repeat-03-adrenalmnist3d-28-5-100/repeat-03-adrenalmnist3d-28-5-100-ctcnn1/experiment_4\n"
     ]
    },
    {
     "name": "stderr",
     "output_type": "stream",
     "text": [
      " 48%|████▊     | 48/100 [02:47<03:01,  3.50s/it]"
     ]
    },
    {
     "name": "stdout",
     "output_type": "stream",
     "text": [
      "Saved checkpoint at epoch 47 to checkpoints/repeat-03-adrenalmnist3d-28-5-100/repeat-03-adrenalmnist3d-28-5-100-ctcnn1/experiment_4\n",
      "Removed checkpoint at epoch 46 from checkpoints/repeat-03-adrenalmnist3d-28-5-100/repeat-03-adrenalmnist3d-28-5-100-ctcnn1/experiment_4\n"
     ]
    },
    {
     "name": "stderr",
     "output_type": "stream",
     "text": [
      " 49%|████▉     | 49/100 [02:51<02:58,  3.50s/it]"
     ]
    },
    {
     "name": "stdout",
     "output_type": "stream",
     "text": [
      "Saved checkpoint at epoch 48 to checkpoints/repeat-03-adrenalmnist3d-28-5-100/repeat-03-adrenalmnist3d-28-5-100-ctcnn1/experiment_4\n",
      "Removed checkpoint at epoch 47 from checkpoints/repeat-03-adrenalmnist3d-28-5-100/repeat-03-adrenalmnist3d-28-5-100-ctcnn1/experiment_4\n"
     ]
    },
    {
     "name": "stderr",
     "output_type": "stream",
     "text": [
      " 50%|█████     | 50/100 [02:54<02:55,  3.50s/it]"
     ]
    },
    {
     "name": "stdout",
     "output_type": "stream",
     "text": [
      "saved best checkpoint at epoch 49 to checkpoints/repeat-03-adrenalmnist3d-28-5-100/repeat-03-adrenalmnist3d-28-5-100-ctcnn1/experiment_4\n",
      "Saved checkpoint at epoch 49 to checkpoints/repeat-03-adrenalmnist3d-28-5-100/repeat-03-adrenalmnist3d-28-5-100-ctcnn1/experiment_4\n",
      "Removed checkpoint at epoch 48 from checkpoints/repeat-03-adrenalmnist3d-28-5-100/repeat-03-adrenalmnist3d-28-5-100-ctcnn1/experiment_4\n"
     ]
    },
    {
     "name": "stderr",
     "output_type": "stream",
     "text": [
      " 51%|█████     | 51/100 [02:58<02:51,  3.50s/it]"
     ]
    },
    {
     "name": "stdout",
     "output_type": "stream",
     "text": [
      "Saved checkpoint at epoch 50 to checkpoints/repeat-03-adrenalmnist3d-28-5-100/repeat-03-adrenalmnist3d-28-5-100-ctcnn1/experiment_4\n",
      "Removed checkpoint at epoch 49 from checkpoints/repeat-03-adrenalmnist3d-28-5-100/repeat-03-adrenalmnist3d-28-5-100-ctcnn1/experiment_4\n"
     ]
    },
    {
     "name": "stderr",
     "output_type": "stream",
     "text": [
      " 52%|█████▏    | 52/100 [03:01<02:47,  3.50s/it]"
     ]
    },
    {
     "name": "stdout",
     "output_type": "stream",
     "text": [
      "Saved checkpoint at epoch 51 to checkpoints/repeat-03-adrenalmnist3d-28-5-100/repeat-03-adrenalmnist3d-28-5-100-ctcnn1/experiment_4\n",
      "Removed checkpoint at epoch 50 from checkpoints/repeat-03-adrenalmnist3d-28-5-100/repeat-03-adrenalmnist3d-28-5-100-ctcnn1/experiment_4\n"
     ]
    },
    {
     "name": "stderr",
     "output_type": "stream",
     "text": [
      " 53%|█████▎    | 53/100 [03:05<02:44,  3.50s/it]"
     ]
    },
    {
     "name": "stdout",
     "output_type": "stream",
     "text": [
      "Saved checkpoint at epoch 52 to checkpoints/repeat-03-adrenalmnist3d-28-5-100/repeat-03-adrenalmnist3d-28-5-100-ctcnn1/experiment_4\n",
      "Removed checkpoint at epoch 51 from checkpoints/repeat-03-adrenalmnist3d-28-5-100/repeat-03-adrenalmnist3d-28-5-100-ctcnn1/experiment_4\n"
     ]
    },
    {
     "name": "stderr",
     "output_type": "stream",
     "text": [
      " 54%|█████▍    | 54/100 [03:08<02:40,  3.50s/it]"
     ]
    },
    {
     "name": "stdout",
     "output_type": "stream",
     "text": [
      "Saved checkpoint at epoch 53 to checkpoints/repeat-03-adrenalmnist3d-28-5-100/repeat-03-adrenalmnist3d-28-5-100-ctcnn1/experiment_4\n",
      "Removed checkpoint at epoch 52 from checkpoints/repeat-03-adrenalmnist3d-28-5-100/repeat-03-adrenalmnist3d-28-5-100-ctcnn1/experiment_4\n"
     ]
    },
    {
     "name": "stderr",
     "output_type": "stream",
     "text": [
      " 55%|█████▌    | 55/100 [03:12<02:37,  3.50s/it]"
     ]
    },
    {
     "name": "stdout",
     "output_type": "stream",
     "text": [
      "Saved checkpoint at epoch 54 to checkpoints/repeat-03-adrenalmnist3d-28-5-100/repeat-03-adrenalmnist3d-28-5-100-ctcnn1/experiment_4\n",
      "Removed checkpoint at epoch 53 from checkpoints/repeat-03-adrenalmnist3d-28-5-100/repeat-03-adrenalmnist3d-28-5-100-ctcnn1/experiment_4\n"
     ]
    },
    {
     "name": "stderr",
     "output_type": "stream",
     "text": [
      " 56%|█████▌    | 56/100 [03:15<02:33,  3.50s/it]"
     ]
    },
    {
     "name": "stdout",
     "output_type": "stream",
     "text": [
      "Saved checkpoint at epoch 55 to checkpoints/repeat-03-adrenalmnist3d-28-5-100/repeat-03-adrenalmnist3d-28-5-100-ctcnn1/experiment_4\n",
      "Removed checkpoint at epoch 54 from checkpoints/repeat-03-adrenalmnist3d-28-5-100/repeat-03-adrenalmnist3d-28-5-100-ctcnn1/experiment_4\n"
     ]
    },
    {
     "name": "stderr",
     "output_type": "stream",
     "text": [
      " 57%|█████▋    | 57/100 [03:19<02:30,  3.50s/it]"
     ]
    },
    {
     "name": "stdout",
     "output_type": "stream",
     "text": [
      "Saved checkpoint at epoch 56 to checkpoints/repeat-03-adrenalmnist3d-28-5-100/repeat-03-adrenalmnist3d-28-5-100-ctcnn1/experiment_4\n",
      "Removed checkpoint at epoch 55 from checkpoints/repeat-03-adrenalmnist3d-28-5-100/repeat-03-adrenalmnist3d-28-5-100-ctcnn1/experiment_4\n"
     ]
    },
    {
     "name": "stderr",
     "output_type": "stream",
     "text": [
      " 58%|█████▊    | 58/100 [03:22<02:26,  3.50s/it]"
     ]
    },
    {
     "name": "stdout",
     "output_type": "stream",
     "text": [
      "Saved checkpoint at epoch 57 to checkpoints/repeat-03-adrenalmnist3d-28-5-100/repeat-03-adrenalmnist3d-28-5-100-ctcnn1/experiment_4\n",
      "Removed checkpoint at epoch 56 from checkpoints/repeat-03-adrenalmnist3d-28-5-100/repeat-03-adrenalmnist3d-28-5-100-ctcnn1/experiment_4\n"
     ]
    },
    {
     "name": "stderr",
     "output_type": "stream",
     "text": [
      " 59%|█████▉    | 59/100 [03:26<02:23,  3.50s/it]"
     ]
    },
    {
     "name": "stdout",
     "output_type": "stream",
     "text": [
      "Saved checkpoint at epoch 58 to checkpoints/repeat-03-adrenalmnist3d-28-5-100/repeat-03-adrenalmnist3d-28-5-100-ctcnn1/experiment_4\n",
      "Removed checkpoint at epoch 57 from checkpoints/repeat-03-adrenalmnist3d-28-5-100/repeat-03-adrenalmnist3d-28-5-100-ctcnn1/experiment_4\n"
     ]
    },
    {
     "name": "stderr",
     "output_type": "stream",
     "text": [
      " 60%|██████    | 60/100 [03:29<02:19,  3.50s/it]"
     ]
    },
    {
     "name": "stdout",
     "output_type": "stream",
     "text": [
      "Saved checkpoint at epoch 59 to checkpoints/repeat-03-adrenalmnist3d-28-5-100/repeat-03-adrenalmnist3d-28-5-100-ctcnn1/experiment_4\n",
      "Removed checkpoint at epoch 58 from checkpoints/repeat-03-adrenalmnist3d-28-5-100/repeat-03-adrenalmnist3d-28-5-100-ctcnn1/experiment_4\n"
     ]
    },
    {
     "name": "stderr",
     "output_type": "stream",
     "text": [
      " 61%|██████    | 61/100 [03:33<02:16,  3.50s/it]"
     ]
    },
    {
     "name": "stdout",
     "output_type": "stream",
     "text": [
      "Saved checkpoint at epoch 60 to checkpoints/repeat-03-adrenalmnist3d-28-5-100/repeat-03-adrenalmnist3d-28-5-100-ctcnn1/experiment_4\n",
      "Removed checkpoint at epoch 59 from checkpoints/repeat-03-adrenalmnist3d-28-5-100/repeat-03-adrenalmnist3d-28-5-100-ctcnn1/experiment_4\n"
     ]
    },
    {
     "name": "stderr",
     "output_type": "stream",
     "text": [
      " 62%|██████▏   | 62/100 [03:36<02:12,  3.50s/it]"
     ]
    },
    {
     "name": "stdout",
     "output_type": "stream",
     "text": [
      "Saved checkpoint at epoch 61 to checkpoints/repeat-03-adrenalmnist3d-28-5-100/repeat-03-adrenalmnist3d-28-5-100-ctcnn1/experiment_4\n",
      "Removed checkpoint at epoch 60 from checkpoints/repeat-03-adrenalmnist3d-28-5-100/repeat-03-adrenalmnist3d-28-5-100-ctcnn1/experiment_4\n"
     ]
    },
    {
     "name": "stderr",
     "output_type": "stream",
     "text": [
      " 63%|██████▎   | 63/100 [03:40<02:09,  3.50s/it]"
     ]
    },
    {
     "name": "stdout",
     "output_type": "stream",
     "text": [
      "Saved checkpoint at epoch 62 to checkpoints/repeat-03-adrenalmnist3d-28-5-100/repeat-03-adrenalmnist3d-28-5-100-ctcnn1/experiment_4\n",
      "Removed checkpoint at epoch 61 from checkpoints/repeat-03-adrenalmnist3d-28-5-100/repeat-03-adrenalmnist3d-28-5-100-ctcnn1/experiment_4\n"
     ]
    },
    {
     "name": "stderr",
     "output_type": "stream",
     "text": [
      " 64%|██████▍   | 64/100 [03:43<02:05,  3.50s/it]"
     ]
    },
    {
     "name": "stdout",
     "output_type": "stream",
     "text": [
      "Saved checkpoint at epoch 63 to checkpoints/repeat-03-adrenalmnist3d-28-5-100/repeat-03-adrenalmnist3d-28-5-100-ctcnn1/experiment_4\n",
      "Removed checkpoint at epoch 62 from checkpoints/repeat-03-adrenalmnist3d-28-5-100/repeat-03-adrenalmnist3d-28-5-100-ctcnn1/experiment_4\n"
     ]
    },
    {
     "name": "stderr",
     "output_type": "stream",
     "text": [
      " 65%|██████▌   | 65/100 [03:47<02:02,  3.50s/it]"
     ]
    },
    {
     "name": "stdout",
     "output_type": "stream",
     "text": [
      "Saved checkpoint at epoch 64 to checkpoints/repeat-03-adrenalmnist3d-28-5-100/repeat-03-adrenalmnist3d-28-5-100-ctcnn1/experiment_4\n",
      "Removed checkpoint at epoch 63 from checkpoints/repeat-03-adrenalmnist3d-28-5-100/repeat-03-adrenalmnist3d-28-5-100-ctcnn1/experiment_4\n"
     ]
    },
    {
     "name": "stderr",
     "output_type": "stream",
     "text": [
      " 66%|██████▌   | 66/100 [03:50<01:58,  3.50s/it]"
     ]
    },
    {
     "name": "stdout",
     "output_type": "stream",
     "text": [
      "Saved checkpoint at epoch 65 to checkpoints/repeat-03-adrenalmnist3d-28-5-100/repeat-03-adrenalmnist3d-28-5-100-ctcnn1/experiment_4\n",
      "Removed checkpoint at epoch 64 from checkpoints/repeat-03-adrenalmnist3d-28-5-100/repeat-03-adrenalmnist3d-28-5-100-ctcnn1/experiment_4\n"
     ]
    },
    {
     "name": "stderr",
     "output_type": "stream",
     "text": [
      " 67%|██████▋   | 67/100 [03:54<01:55,  3.50s/it]"
     ]
    },
    {
     "name": "stdout",
     "output_type": "stream",
     "text": [
      "Saved checkpoint at epoch 66 to checkpoints/repeat-03-adrenalmnist3d-28-5-100/repeat-03-adrenalmnist3d-28-5-100-ctcnn1/experiment_4\n",
      "Removed checkpoint at epoch 65 from checkpoints/repeat-03-adrenalmnist3d-28-5-100/repeat-03-adrenalmnist3d-28-5-100-ctcnn1/experiment_4\n"
     ]
    },
    {
     "name": "stderr",
     "output_type": "stream",
     "text": [
      " 68%|██████▊   | 68/100 [03:57<01:51,  3.50s/it]"
     ]
    },
    {
     "name": "stdout",
     "output_type": "stream",
     "text": [
      "Saved checkpoint at epoch 67 to checkpoints/repeat-03-adrenalmnist3d-28-5-100/repeat-03-adrenalmnist3d-28-5-100-ctcnn1/experiment_4\n",
      "Removed checkpoint at epoch 66 from checkpoints/repeat-03-adrenalmnist3d-28-5-100/repeat-03-adrenalmnist3d-28-5-100-ctcnn1/experiment_4\n"
     ]
    },
    {
     "name": "stderr",
     "output_type": "stream",
     "text": [
      " 69%|██████▉   | 69/100 [04:01<01:48,  3.50s/it]"
     ]
    },
    {
     "name": "stdout",
     "output_type": "stream",
     "text": [
      "Saved checkpoint at epoch 68 to checkpoints/repeat-03-adrenalmnist3d-28-5-100/repeat-03-adrenalmnist3d-28-5-100-ctcnn1/experiment_4\n",
      "Removed checkpoint at epoch 67 from checkpoints/repeat-03-adrenalmnist3d-28-5-100/repeat-03-adrenalmnist3d-28-5-100-ctcnn1/experiment_4\n"
     ]
    },
    {
     "name": "stderr",
     "output_type": "stream",
     "text": [
      " 70%|███████   | 70/100 [04:04<01:44,  3.50s/it]"
     ]
    },
    {
     "name": "stdout",
     "output_type": "stream",
     "text": [
      "Saved checkpoint at epoch 69 to checkpoints/repeat-03-adrenalmnist3d-28-5-100/repeat-03-adrenalmnist3d-28-5-100-ctcnn1/experiment_4\n",
      "Removed checkpoint at epoch 68 from checkpoints/repeat-03-adrenalmnist3d-28-5-100/repeat-03-adrenalmnist3d-28-5-100-ctcnn1/experiment_4\n"
     ]
    },
    {
     "name": "stderr",
     "output_type": "stream",
     "text": [
      " 71%|███████   | 71/100 [04:08<01:41,  3.50s/it]"
     ]
    },
    {
     "name": "stdout",
     "output_type": "stream",
     "text": [
      "Saved checkpoint at epoch 70 to checkpoints/repeat-03-adrenalmnist3d-28-5-100/repeat-03-adrenalmnist3d-28-5-100-ctcnn1/experiment_4\n",
      "Removed checkpoint at epoch 69 from checkpoints/repeat-03-adrenalmnist3d-28-5-100/repeat-03-adrenalmnist3d-28-5-100-ctcnn1/experiment_4\n"
     ]
    },
    {
     "name": "stderr",
     "output_type": "stream",
     "text": [
      " 72%|███████▏  | 72/100 [04:11<01:37,  3.50s/it]"
     ]
    },
    {
     "name": "stdout",
     "output_type": "stream",
     "text": [
      "Saved checkpoint at epoch 71 to checkpoints/repeat-03-adrenalmnist3d-28-5-100/repeat-03-adrenalmnist3d-28-5-100-ctcnn1/experiment_4\n",
      "Removed checkpoint at epoch 70 from checkpoints/repeat-03-adrenalmnist3d-28-5-100/repeat-03-adrenalmnist3d-28-5-100-ctcnn1/experiment_4\n"
     ]
    },
    {
     "name": "stderr",
     "output_type": "stream",
     "text": [
      " 73%|███████▎  | 73/100 [04:15<01:34,  3.50s/it]"
     ]
    },
    {
     "name": "stdout",
     "output_type": "stream",
     "text": [
      "Saved checkpoint at epoch 72 to checkpoints/repeat-03-adrenalmnist3d-28-5-100/repeat-03-adrenalmnist3d-28-5-100-ctcnn1/experiment_4\n",
      "Removed checkpoint at epoch 71 from checkpoints/repeat-03-adrenalmnist3d-28-5-100/repeat-03-adrenalmnist3d-28-5-100-ctcnn1/experiment_4\n"
     ]
    },
    {
     "name": "stderr",
     "output_type": "stream",
     "text": [
      " 74%|███████▍  | 74/100 [04:18<01:30,  3.50s/it]"
     ]
    },
    {
     "name": "stdout",
     "output_type": "stream",
     "text": [
      "Saved checkpoint at epoch 73 to checkpoints/repeat-03-adrenalmnist3d-28-5-100/repeat-03-adrenalmnist3d-28-5-100-ctcnn1/experiment_4\n",
      "Removed checkpoint at epoch 72 from checkpoints/repeat-03-adrenalmnist3d-28-5-100/repeat-03-adrenalmnist3d-28-5-100-ctcnn1/experiment_4\n"
     ]
    },
    {
     "name": "stderr",
     "output_type": "stream",
     "text": [
      " 75%|███████▌  | 75/100 [04:22<01:27,  3.50s/it]"
     ]
    },
    {
     "name": "stdout",
     "output_type": "stream",
     "text": [
      "Saved checkpoint at epoch 74 to checkpoints/repeat-03-adrenalmnist3d-28-5-100/repeat-03-adrenalmnist3d-28-5-100-ctcnn1/experiment_4\n",
      "Removed checkpoint at epoch 73 from checkpoints/repeat-03-adrenalmnist3d-28-5-100/repeat-03-adrenalmnist3d-28-5-100-ctcnn1/experiment_4\n"
     ]
    },
    {
     "name": "stderr",
     "output_type": "stream",
     "text": [
      " 76%|███████▌  | 76/100 [04:25<01:23,  3.50s/it]"
     ]
    },
    {
     "name": "stdout",
     "output_type": "stream",
     "text": [
      "Saved checkpoint at epoch 75 to checkpoints/repeat-03-adrenalmnist3d-28-5-100/repeat-03-adrenalmnist3d-28-5-100-ctcnn1/experiment_4\n",
      "Removed checkpoint at epoch 74 from checkpoints/repeat-03-adrenalmnist3d-28-5-100/repeat-03-adrenalmnist3d-28-5-100-ctcnn1/experiment_4\n"
     ]
    },
    {
     "name": "stderr",
     "output_type": "stream",
     "text": [
      " 77%|███████▋  | 77/100 [04:29<01:20,  3.50s/it]"
     ]
    },
    {
     "name": "stdout",
     "output_type": "stream",
     "text": [
      "Saved checkpoint at epoch 76 to checkpoints/repeat-03-adrenalmnist3d-28-5-100/repeat-03-adrenalmnist3d-28-5-100-ctcnn1/experiment_4\n",
      "Removed checkpoint at epoch 75 from checkpoints/repeat-03-adrenalmnist3d-28-5-100/repeat-03-adrenalmnist3d-28-5-100-ctcnn1/experiment_4\n"
     ]
    },
    {
     "name": "stderr",
     "output_type": "stream",
     "text": [
      " 78%|███████▊  | 78/100 [04:32<01:16,  3.50s/it]"
     ]
    },
    {
     "name": "stdout",
     "output_type": "stream",
     "text": [
      "Saved checkpoint at epoch 77 to checkpoints/repeat-03-adrenalmnist3d-28-5-100/repeat-03-adrenalmnist3d-28-5-100-ctcnn1/experiment_4\n",
      "Removed checkpoint at epoch 76 from checkpoints/repeat-03-adrenalmnist3d-28-5-100/repeat-03-adrenalmnist3d-28-5-100-ctcnn1/experiment_4\n"
     ]
    },
    {
     "name": "stderr",
     "output_type": "stream",
     "text": [
      " 79%|███████▉  | 79/100 [04:36<01:13,  3.50s/it]"
     ]
    },
    {
     "name": "stdout",
     "output_type": "stream",
     "text": [
      "Saved checkpoint at epoch 78 to checkpoints/repeat-03-adrenalmnist3d-28-5-100/repeat-03-adrenalmnist3d-28-5-100-ctcnn1/experiment_4\n",
      "Removed checkpoint at epoch 77 from checkpoints/repeat-03-adrenalmnist3d-28-5-100/repeat-03-adrenalmnist3d-28-5-100-ctcnn1/experiment_4\n"
     ]
    },
    {
     "name": "stderr",
     "output_type": "stream",
     "text": [
      " 80%|████████  | 80/100 [04:39<01:09,  3.50s/it]"
     ]
    },
    {
     "name": "stdout",
     "output_type": "stream",
     "text": [
      "Saved checkpoint at epoch 79 to checkpoints/repeat-03-adrenalmnist3d-28-5-100/repeat-03-adrenalmnist3d-28-5-100-ctcnn1/experiment_4\n",
      "Removed checkpoint at epoch 78 from checkpoints/repeat-03-adrenalmnist3d-28-5-100/repeat-03-adrenalmnist3d-28-5-100-ctcnn1/experiment_4\n"
     ]
    },
    {
     "name": "stderr",
     "output_type": "stream",
     "text": [
      " 81%|████████  | 81/100 [04:43<01:06,  3.50s/it]"
     ]
    },
    {
     "name": "stdout",
     "output_type": "stream",
     "text": [
      "Saved checkpoint at epoch 80 to checkpoints/repeat-03-adrenalmnist3d-28-5-100/repeat-03-adrenalmnist3d-28-5-100-ctcnn1/experiment_4\n",
      "Removed checkpoint at epoch 79 from checkpoints/repeat-03-adrenalmnist3d-28-5-100/repeat-03-adrenalmnist3d-28-5-100-ctcnn1/experiment_4\n"
     ]
    },
    {
     "name": "stderr",
     "output_type": "stream",
     "text": [
      " 82%|████████▏ | 82/100 [04:46<01:02,  3.50s/it]"
     ]
    },
    {
     "name": "stdout",
     "output_type": "stream",
     "text": [
      "Saved checkpoint at epoch 81 to checkpoints/repeat-03-adrenalmnist3d-28-5-100/repeat-03-adrenalmnist3d-28-5-100-ctcnn1/experiment_4\n",
      "Removed checkpoint at epoch 80 from checkpoints/repeat-03-adrenalmnist3d-28-5-100/repeat-03-adrenalmnist3d-28-5-100-ctcnn1/experiment_4\n"
     ]
    }
   ],
   "source": [
    "for model_name, model in model_dict.items():\n",
    "    print(\"Traing model: \", model_name)\n",
    "    results[model_name] = repeat_experiment(\n",
    "        model,\n",
    "        [train_dataset, test_dataset],\n",
    "        reset_dataloader,\n",
    "        BATCH_SIZE,\n",
    "        CRITERION,\n",
    "        def_optimizer,\n",
    "        def_scheduler,\n",
    "        NUM_EXPERIMENTS,\n",
    "        EPOCHS_PER_EXPERIMENT,\n",
    "        experiment_name + \"-\" + model_name,\n",
    "        checkpoint_save=True,\n",
    "        checkpoint_save_dir=checkpoint_save_dir,\n",
    "        task=TASK,\n",
    "    )\n",
    "    with torch.no_grad():\n",
    "        torch.cuda.empty_cache()\n",
    "    print(\"***\" * 10 + f\"{model_name} done\" + \"***\" * 10)"
   ]
  },
  {
   "cell_type": "code",
   "execution_count": null,
   "metadata": {},
   "outputs": [],
   "source": [
    "from tcnn.utils.experiment.log import show_repeat_result, save_result\n",
    "\n",
    "show_repeat_result(results)\n",
    "save_result(results, save_name=experiment_name)"
   ]
  },
  {
   "cell_type": "code",
   "execution_count": null,
   "metadata": {},
   "outputs": [],
   "source": [
    "from tcnn.utils.experiment.plot import plot_experiment_errorbar\n",
    "\n",
    "plot_experiment_errorbar(\n",
    "    results, metric_key=\"accuracy\", baseline_key=\"lenet\", ylabel=\"Accuracy\"\n",
    ")"
   ]
  },
  {
   "cell_type": "code",
   "execution_count": null,
   "metadata": {},
   "outputs": [],
   "source": [
    "plot_experiment_errorbar(\n",
    "    results, metric_key=\"accuracy\", baseline_key=\"lenet_relu\", ylabel=\"Accuracy\"\n",
    ")"
   ]
  },
  {
   "cell_type": "code",
   "execution_count": null,
   "metadata": {},
   "outputs": [],
   "source": [
    "plot_experiment_errorbar(\n",
    "    results, metric_key=\"auc_score\", baseline_key=\"lenet\", ylabel=\"AUC Score\"\n",
    ")"
   ]
  },
  {
   "cell_type": "code",
   "execution_count": null,
   "metadata": {},
   "outputs": [],
   "source": [
    "plot_experiment_errorbar(\n",
    "    results, metric_key=\"auc_score\", baseline_key=\"lenet_relu\", ylabel=\"AUC Score\"\n",
    ")"
   ]
  },
  {
   "cell_type": "code",
   "execution_count": null,
   "metadata": {},
   "outputs": [],
   "source": [
    "plot_experiment_errorbar(\n",
    "    results, metric_key=\"f1\", baseline_key=\"lenet\", ylabel=\"F1 Score\"\n",
    ")"
   ]
  },
  {
   "cell_type": "code",
   "execution_count": null,
   "metadata": {},
   "outputs": [],
   "source": [
    "plot_experiment_errorbar(\n",
    "    results, metric_key=\"f1\", baseline_key=\"lenet_relu\", ylabel=\"F1 Score\"\n",
    ")"
   ]
  },
  {
   "cell_type": "code",
   "execution_count": null,
   "metadata": {},
   "outputs": [],
   "source": [
    "import torch\n",
    "\n",
    "with torch.no_grad():\n",
    "    torch.cuda.empty_cache()"
   ]
  },
  {
   "cell_type": "code",
   "execution_count": null,
   "metadata": {},
   "outputs": [],
   "source": []
  }
 ],
 "metadata": {
  "kernelspec": {
   "display_name": "limingbo_mmpnn",
   "language": "python",
   "name": "python3"
  },
  "language_info": {
   "codemirror_mode": {
    "name": "ipython",
    "version": 3
   },
   "file_extension": ".py",
   "mimetype": "text/x-python",
   "name": "python",
   "nbconvert_exporter": "python",
   "pygments_lexer": "ipython3",
   "version": "3.9.19"
  }
 },
 "nbformat": 4,
 "nbformat_minor": 2
}
