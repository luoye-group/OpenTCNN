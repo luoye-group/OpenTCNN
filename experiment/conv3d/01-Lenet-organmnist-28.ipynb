{
 "cells": [
  {
   "cell_type": "markdown",
   "metadata": {},
   "source": [
    "[paper with code](https://paperswithcode.com/sota/image-classification-on-mnist?metric=Accuracy) 并没有纯CNN 方法，\n",
    "不如考虑对比LeNet,AlexNet,VGG,ResNet等方法。 \n",
    "Ref to [https://zh.d2l.ai/chapter_convolutional-modern/index.html](https://zh.d2l.ai/chapter_convolutional-modern/index.html)\n",
    "\n",
    "目前主流的对比数据集是 3 个：[Binary Connect](https://arxiv.org/pdf/1511.00363) 和 [\t\n",
    "ReNet](https://arxiv.org/pdf/1505.00393v3)\n",
    "\n",
    "# MedMnist\n",
    "[]()"
   ]
  },
  {
   "cell_type": "code",
   "execution_count": null,
   "metadata": {
    "ExecuteTime": {
     "end_time": "2024-05-26T05:59:44.768385Z",
     "start_time": "2024-05-26T05:59:44.765872Z"
    }
   },
   "outputs": [],
   "source": [
    "import warnings\n",
    "\n",
    "warnings.filterwarnings(\"ignore\")"
   ]
  },
  {
   "cell_type": "code",
   "execution_count": null,
   "metadata": {
    "ExecuteTime": {
     "end_time": "2024-05-26T05:59:45.148460Z",
     "start_time": "2024-05-26T05:59:44.770027Z"
    }
   },
   "outputs": [],
   "source": [
    "from os.path import join\n",
    "from config.config import load_config28"
   ]
  },
  {
   "cell_type": "code",
   "execution_count": null,
   "metadata": {
    "ExecuteTime": {
     "end_time": "2024-05-26T05:59:45.185008Z",
     "start_time": "2024-05-26T05:59:45.149285Z"
    }
   },
   "outputs": [],
   "source": [
    "dataset_name = \"organmnist3d\"\n",
    "config = load_config28(dataset_name)"
   ]
  },
  {
   "cell_type": "code",
   "execution_count": null,
   "metadata": {
    "ExecuteTime": {
     "end_time": "2024-05-26T05:59:45.196302Z",
     "start_time": "2024-05-26T05:59:45.185431Z"
    }
   },
   "outputs": [],
   "source": [
    "ORDER = config[\"order\"]\n",
    "SIZE = config[\"data\"][\"size\"]\n",
    "TASK = config[\"task\"]\n",
    "NUM_CLASSES = config[\"network\"][\"num_classes\"]\n",
    "EPOCHS = config[\"train\"][\"epochs\"]\n",
    "BATCH_SIZE = config[\"data\"][\"batch_size\"]\n",
    "INPUT_CHANNEL = config[\"network\"][\"input_channels\"]\n",
    "LINEAR_SIZE = config[\"network\"][\"linear_size\"]\n",
    "CRITERION = config[\"train\"][\"criterion\"]\n",
    "DEVICE = config[\"train\"][\"device\"]\n",
    "experiment_name = f\"{ORDER}-{dataset_name}-{SIZE}\""
   ]
  },
  {
   "cell_type": "code",
   "execution_count": null,
   "metadata": {
    "ExecuteTime": {
     "end_time": "2024-05-26T05:59:45.198642Z",
     "start_time": "2024-05-26T05:59:45.197092Z"
    }
   },
   "outputs": [],
   "source": [
    "checkpoint_save_dir = join(config[\"train\"][\"checkpoint_save_dir\"], experiment_name)"
   ]
  },
  {
   "cell_type": "code",
   "execution_count": null,
   "metadata": {
    "ExecuteTime": {
     "end_time": "2024-05-26T05:59:45.666550Z",
     "start_time": "2024-05-26T05:59:45.199085Z"
    }
   },
   "outputs": [],
   "source": [
    "from data_load import get_dataloader\n",
    "\n",
    "train_loader, test_loader = get_dataloader(dataset_name, BATCH_SIZE, SIZE, TASK)"
   ]
  },
  {
   "cell_type": "code",
   "execution_count": null,
   "metadata": {
    "ExecuteTime": {
     "end_time": "2024-05-26T05:59:45.696564Z",
     "start_time": "2024-05-26T05:59:45.667408Z"
    }
   },
   "outputs": [],
   "source": [
    "from tcnn.utils.experiment.model import (\n",
    "    get_optimizers_dict_medmnist,\n",
    "    get_schedulers_dict_medmnist,\n",
    ")\n",
    "import lenet_models\n",
    "import lenet_models_binary\n",
    "\n",
    "if TASK == \"multiclass\":\n",
    "    model_dict = lenet_models.get_model_dict(INPUT_CHANNEL, NUM_CLASSES, LINEAR_SIZE)\n",
    "    print(\"Loaded multiclass model with {} classes\".format(NUM_CLASSES))\n",
    "elif TASK == \"binary\":\n",
    "    model_dict = lenet_models_binary.get_model_dict(INPUT_CHANNEL, LINEAR_SIZE)\n",
    "    print(\"Loaded binary model\")\n",
    "optimizers_dict = get_optimizers_dict_medmnist(model_dict)\n",
    "schedulers_dict = get_schedulers_dict_medmnist(optimizers_dict)"
   ]
  },
  {
   "cell_type": "code",
   "execution_count": null,
   "metadata": {
    "ExecuteTime": {
     "end_time": "2024-05-26T05:59:45.698921Z",
     "start_time": "2024-05-26T05:59:45.697165Z"
    }
   },
   "outputs": [],
   "source": [
    "history_dict = {}"
   ]
  },
  {
   "cell_type": "code",
   "execution_count": null,
   "metadata": {
    "ExecuteTime": {
     "start_time": "2024-05-26T05:59:45.699507Z"
    }
   },
   "outputs": [],
   "source": [
    "from tcnn.utils.experiment.train import train_and_test_model\n",
    "\n",
    "for model_name, model in model_dict.items():\n",
    "    print(f\"Training model {model_name}\")\n",
    "    history_dict[model_name] = train_and_test_model(\n",
    "        model,\n",
    "        train_loader,\n",
    "        test_loader,\n",
    "        CRITERION,\n",
    "        optimizers_dict[model_name],\n",
    "        scheduler=schedulers_dict[model_name],\n",
    "        epochs=EPOCHS,\n",
    "        save_checkpoint=True,\n",
    "        save_checkpoint_interval=1,\n",
    "        checkpoint_save_dir=join(checkpoint_save_dir, model_name),\n",
    "        task=TASK,\n",
    "    )\n",
    "    print(\"***\" * 10)"
   ]
  },
  {
   "cell_type": "code",
   "execution_count": null,
   "metadata": {},
   "outputs": [],
   "source": [
    "from tcnn.utils.experiment.plot import plot_history\n",
    "\n",
    "for model_name, history in history_dict.items():\n",
    "    print(f\"Model {model_name} history:\")\n",
    "    plot_history(history, model_name)"
   ]
  },
  {
   "cell_type": "code",
   "execution_count": null,
   "metadata": {},
   "outputs": [],
   "source": [
    "import torch\n",
    "\n",
    "input_shape = (BATCH_SIZE, 1, SIZE, SIZE, SIZE)\n",
    "input_tensor = torch.randn(input_shape).to(DEVICE)"
   ]
  },
  {
   "cell_type": "code",
   "execution_count": null,
   "metadata": {},
   "outputs": [],
   "source": [
    "import torchprofile\n",
    "from tcnn.utils.experiment.model import count_parameters\n",
    "from tcnn.utils.experiment.train import eval_model\n",
    "\n",
    "result = dict()\n",
    "for model_name, model in model_dict.items():\n",
    "    print(f\"Evaluating model {model_name}\")\n",
    "    result[model_name] = dict()\n",
    "    result[model_name][\"macs\"] = torchprofile.profile_macs(model, input_tensor)\n",
    "    result[model_name][\"params\"] = count_parameters(model)\n",
    "    result[model_name][\"performance\"] = eval_model(model, test_loader, CRITERION, TASK)\n",
    "    with torch.no_grad():\n",
    "        torch.cuda.empty_cache()\n",
    "    print(\"***\" * 10)"
   ]
  },
  {
   "cell_type": "code",
   "execution_count": null,
   "metadata": {},
   "outputs": [],
   "source": [
    "from tcnn.utils.experiment.plot import plot_history_dict\n",
    "\n",
    "plot_history_dict(history_dict)"
   ]
  },
  {
   "cell_type": "code",
   "execution_count": null,
   "metadata": {},
   "outputs": [],
   "source": [
    "from tcnn.utils.experiment.log import show_test_result\n",
    "\n",
    "show_test_result(result)"
   ]
  },
  {
   "cell_type": "code",
   "execution_count": null,
   "metadata": {},
   "outputs": [],
   "source": [
    "with torch.no_grad():\n",
    "    torch.cuda.empty_cache()"
   ]
  }
 ],
 "metadata": {
  "kernelspec": {
   "display_name": "ctcnn",
   "language": "python",
   "name": "python3"
  },
  "language_info": {
   "codemirror_mode": {
    "name": "ipython",
    "version": 3
   },
   "file_extension": ".py",
   "mimetype": "text/x-python",
   "name": "python",
   "nbconvert_exporter": "python",
   "pygments_lexer": "ipython3",
   "version": "3.8.20"
  }
 },
 "nbformat": 4,
 "nbformat_minor": 2
}
