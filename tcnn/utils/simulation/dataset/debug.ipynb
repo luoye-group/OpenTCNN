{
 "cells": [
  {
   "cell_type": "code",
   "execution_count": 1,
   "metadata": {},
   "outputs": [
    {
     "data": {
      "text/plain": [
       "{'record_name': '100',\n",
       " 'n_sig': 2,\n",
       " 'fs': 360,\n",
       " 'counter_freq': None,\n",
       " 'base_counter': None,\n",
       " 'sig_len': 650000,\n",
       " 'base_time': None,\n",
       " 'base_date': None,\n",
       " 'comments': ['69 M 1085 1629 x1', 'Aldomet, Inderal'],\n",
       " 'sig_name': ['MLII', 'V5'],\n",
       " 'p_signal': None,\n",
       " 'd_signal': None,\n",
       " 'e_p_signal': None,\n",
       " 'e_d_signal': None,\n",
       " 'file_name': ['100.dat', '100.dat'],\n",
       " 'fmt': ['212', '212'],\n",
       " 'samps_per_frame': [1, 1],\n",
       " 'skew': [None, None],\n",
       " 'byte_offset': [None, None],\n",
       " 'adc_gain': [200.0, 200.0],\n",
       " 'baseline': [1024, 1024],\n",
       " 'units': ['mV', 'mV'],\n",
       " 'adc_res': [11, 11],\n",
       " 'adc_zero': [1024, 1024],\n",
       " 'init_value': [995, 1011],\n",
       " 'checksum': [-22131, 20052],\n",
       " 'block_size': [0, 0]}"
      ]
     },
     "metadata": {},
     "output_type": "display_data"
    }
   ],
   "source": [
    "from IPython.display import display\n",
    "import wfdb\n",
    "\n",
    "record = wfdb.rdheader(\n",
    "    \"/home/limingbo/projects/cTCNN/example/data/physionet.org/files/mitdb/1.0.0/100\"\n",
    ")\n",
    "display(record.__dict__)"
   ]
  },
  {
   "cell_type": "code",
   "execution_count": 2,
   "metadata": {},
   "outputs": [
    {
     "data": {
      "text/plain": [
       "<wfdb.io.record.Record at 0x7fcb886aed90>"
      ]
     },
     "metadata": {},
     "output_type": "display_data"
    }
   ],
   "source": [
    "display(record)"
   ]
  },
  {
   "cell_type": "code",
   "execution_count": null,
   "metadata": {},
   "outputs": [],
   "source": []
  }
 ],
 "metadata": {
  "kernelspec": {
   "display_name": "limingbo_mmpnn",
   "language": "python",
   "name": "python3"
  },
  "language_info": {
   "codemirror_mode": {
    "name": "ipython",
    "version": 3
   },
   "file_extension": ".py",
   "mimetype": "text/x-python",
   "name": "python",
   "nbconvert_exporter": "python",
   "pygments_lexer": "ipython3",
   "version": "3.9.18"
  }
 },
 "nbformat": 4,
 "nbformat_minor": 2
}
